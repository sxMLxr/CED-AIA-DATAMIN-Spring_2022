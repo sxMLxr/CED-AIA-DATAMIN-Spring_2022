{
 "cells": [
  {
   "cell_type": "code",
   "execution_count": 2,
   "metadata": {},
   "outputs": [],
   "source": [
    "import sklearn\n",
    "import numpy as np\n",
    "from sklearn.metrics import pairwise_distances"
   ]
  },
  {
   "cell_type": "code",
   "execution_count": 3,
   "metadata": {
    "scrolled": true
   },
   "outputs": [
    {
     "data": {
      "text/plain": [
       "array([[ 0.00,  5.02,  5.30,  3.77, 12.43,  3.85,  6.52,  3.24,  6.50,  4.99],\n",
       "       [ 5.02,  0.00, 10.19,  7.32,  8.00,  1.18, 10.72,  7.90, 11.43, 10.02],\n",
       "       [ 5.30, 10.19,  0.00,  4.07, 16.82,  9.05,  2.88,  2.38,  1.25,  1.70],\n",
       "       [ 3.77,  7.32,  4.07,  0.00, 12.98,  6.37,  3.44,  2.08,  5.21,  5.04],\n",
       "       [12.43,  8.00, 16.82, 12.98,  0.00,  9.04, 16.21, 14.46, 18.06, 17.17],\n",
       "       [ 3.85,  1.18,  9.05,  6.37,  9.04,  0.00,  9.71,  6.79, 10.28,  8.84],\n",
       "       [ 6.52, 10.72,  2.88,  3.44, 16.21,  9.71,  0.00,  3.36,  3.28,  4.57],\n",
       "       [ 3.24,  7.90,  2.38,  2.08, 14.46,  6.79,  3.36,  0.00,  3.63,  3.00],\n",
       "       [ 6.50, 11.43,  1.25,  5.21, 18.06, 10.28,  3.28,  3.63,  0.00,  2.13],\n",
       "       [ 4.99, 10.02,  1.70,  5.04, 17.17,  8.84,  4.57,  3.00,  2.13,  0.00]])"
      ]
     },
     "execution_count": 3,
     "metadata": {},
     "output_type": "execute_result"
    }
   ],
   "source": [
    "X = np.array([\n",
    "    [-3.44, 1 ],\n",
    "    [-6.48, 5],\n",
    "    [0.93, -2],\n",
    "    [0.2, 2],\n",
    "    [-6.69, 13 ],\n",
    "    [-5.85, 4],\n",
    "    [3.0, 0],\n",
    "    [-0.36, 0],\n",
    "    [1.68, -3],\n",
    "    [-0.45, -3]\n",
    "    \n",
    "])\n",
    "\n",
    "np.set_printoptions(precision=2, linewidth=100, floatmode='fixed')\n",
    "sklearn.metrics.pairwise_distances(X)"
   ]
  },
  {
   "cell_type": "code",
   "execution_count": 4,
   "metadata": {},
   "outputs": [],
   "source": [
    "# 0 = star\n",
    "# 1 = spade\n",
    "y = np.array([\n",
    "    0,\n",
    "    1,\n",
    "    0,\n",
    "    1,\n",
    "    0,\n",
    "    0,\n",
    "    1,\n",
    "    1,\n",
    "    1,\n",
    "    0\n",
    "])"
   ]
  },
  {
   "cell_type": "code",
   "execution_count": 15,
   "metadata": {},
   "outputs": [
    {
     "name": "stdout",
     "output_type": "stream",
     "text": [
      "[[1 5 0 3]\n",
      " [7 3 2 9]]\n"
     ]
    }
   ],
   "source": [
    "#a\n",
    "from sklearn.neighbors import NearestNeighbors\n",
    "\n",
    "#create a nearest neighbor classifier = 4 \n",
    "NN = NearestNeighbors(n_neighbors=4)\n",
    "\n",
    "#fit the data X to the classifier\n",
    "NN.fit(X)\n",
    "\n",
    "#extract the distances and neighbors from kneighbors function\n",
    "#distances, neighbors = NN.kneighbors(X)\n",
    "distances, neighbors = NN.kneighbors([X[1], X[7]])\n",
    "\n",
    "#print(neighbors)\n",
    "#print(distances)\n",
    "#print the appropriate information\n",
    "print(neighbors)"
   ]
  },
  {
   "cell_type": "code",
   "execution_count": 16,
   "metadata": {},
   "outputs": [
    {
     "data": {
      "text/plain": [
       "0.7"
      ]
     },
     "execution_count": 16,
     "metadata": {},
     "output_type": "execute_result"
    }
   ],
   "source": [
    "#b\n",
    "from sklearn.neighbors import KNeighborsClassifier\n",
    "from sklearn.model_selection import LeaveOneOut\n",
    "from sklearn.metrics import accuracy_score\n",
    "\n",
    "loo = LeaveOneOut()  #leave one out classifier\n",
    "\n",
    "errs = [] #errors list\n",
    "\n",
    "#create leave one out CV split on X and iterate through all possible splits\n",
    "\n",
    "#split the X data into test and train data based on indexes from split\n",
    "for train_index, test_index in loo.split(X):\n",
    "    #print(train_index, test_index)\n",
    "    X_train, X_test = X[train_index], X[test_index]\n",
    "    Y_train, Y_test = y[train_index], y[test_index]\n",
    "    \n",
    "    #create a Nearest neighbor classifier = 1\n",
    "    NN = KNeighborsClassifier(n_neighbors=1)  #defaults to radius 1, p=2\n",
    "\n",
    "    #fit the classifier to the X data\n",
    "    NN.fit(X_train, Y_train)\n",
    "\n",
    "    #predict the label of the 'test' data\n",
    "    pred_results = NN.predict(X_test)\n",
    "    #print(pred_results)\n",
    "    \n",
    "    #compute the accuracy of the classification   #use predictor - against Y_Test\n",
    "    acc_score = accuracy_score(pred_results, Y_test)\n",
    "    #print(acc_score)\n",
    "    \n",
    "    #compute the error rate = 1-accuracy\n",
    "    #append the error rate to a list\n",
    "    errs.append(1-acc_score)\n",
    "    \n",
    "#once you complete iterating through all the different data find the mean of the error\n",
    "np.mean(errs)\n"
   ]
  },
  {
   "cell_type": "code",
   "execution_count": 7,
   "metadata": {},
   "outputs": [
    {
     "data": {
      "text/plain": [
       "0.5"
      ]
     },
     "execution_count": 7,
     "metadata": {},
     "output_type": "execute_result"
    }
   ],
   "source": [
    "#c\n",
    "from sklearn.neighbors import KNeighborsClassifier\n",
    "from sklearn.model_selection import KFold\n",
    "from sklearn.metrics import accuracy_score\n",
    "\n",
    "errs2 = [] \n",
    "\n",
    "#create a kfold split = 3\n",
    "kf = KFold(n_splits=3)\n",
    "#iterate through all splits and find the train and test indexes\n",
    "#split the data into train and text sets based on the indexes\n",
    "for train_index, test_index in kf.split(X):\n",
    "    #print(train_index, test_index)\n",
    "    X2_train, X2_test = X[train_index], X[test_index]\n",
    "    Y2_train, Y2_test = y[train_index], y[test_index]\n",
    "    \n",
    "    #create a nearest neighbor classifier = 3\n",
    "    NN2 = KNeighborsClassifier(n_neighbors=3)\n",
    "    \n",
    "    #fit the data to the classifier\n",
    "    NN2.fit(X2_train, Y2_train)\n",
    "    \n",
    "    #predict the label of the test data\n",
    "    pred_results2 = NN2.predict(X2_test)\n",
    "    \n",
    "    #compute the accuracy of the prediction\n",
    "    acc_score2 = accuracy_score(pred_results2, Y2_test)\n",
    "    \n",
    "    #compute the error rate = 1-accuracy\n",
    "    #append the error rates to a list\n",
    "    errs2.append(1-acc_score2)\n",
    "#compute the mean of all error rates\n",
    "np.mean(errs2)"
   ]
  }
 ],
 "metadata": {
  "kernelspec": {
   "display_name": "Python 3 (ipykernel)",
   "language": "python",
   "name": "python3"
  },
  "language_info": {
   "codemirror_mode": {
    "name": "ipython",
    "version": 3
   },
   "file_extension": ".py",
   "mimetype": "text/x-python",
   "name": "python",
   "nbconvert_exporter": "python",
   "pygments_lexer": "ipython3",
   "version": "3.9.7"
  }
 },
 "nbformat": 4,
 "nbformat_minor": 4
}
