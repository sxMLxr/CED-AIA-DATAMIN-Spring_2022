{
 "cells": [
  {
   "cell_type": "code",
   "execution_count": 2,
   "id": "c0ff7c06",
   "metadata": {},
   "outputs": [],
   "source": [
    "import pandas as pd\n",
    "import numpy as np\n",
    "import matplotlib.pyplot as plt\n",
    "import seaborn as sns\n",
    "import sklearn\n",
    "import json"
   ]
  },
  {
   "cell_type": "markdown",
   "id": "a3750cfb",
   "metadata": {},
   "source": [
    "## Lets load the data\n"
   ]
  },
  {
   "cell_type": "code",
   "execution_count": 3,
   "id": "76e2aa69",
   "metadata": {},
   "outputs": [],
   "source": [
    "loaddata = pd.read_csv(\"../Accident_Stats/US_Accidents_Dec21_updated.csv\")"
   ]
  },
  {
   "cell_type": "code",
   "execution_count": 4,
   "id": "c5f2c7e7",
   "metadata": {
    "scrolled": true
   },
   "outputs": [
    {
     "data": {
      "text/html": [
       "<div>\n",
       "<style scoped>\n",
       "    .dataframe tbody tr th:only-of-type {\n",
       "        vertical-align: middle;\n",
       "    }\n",
       "\n",
       "    .dataframe tbody tr th {\n",
       "        vertical-align: top;\n",
       "    }\n",
       "\n",
       "    .dataframe thead th {\n",
       "        text-align: right;\n",
       "    }\n",
       "</style>\n",
       "<table border=\"1\" class=\"dataframe\">\n",
       "  <thead>\n",
       "    <tr style=\"text-align: right;\">\n",
       "      <th></th>\n",
       "      <th>ID</th>\n",
       "      <th>Severity</th>\n",
       "      <th>Start_Time</th>\n",
       "      <th>End_Time</th>\n",
       "      <th>Start_Lat</th>\n",
       "      <th>Start_Lng</th>\n",
       "      <th>End_Lat</th>\n",
       "      <th>End_Lng</th>\n",
       "      <th>Distance(mi)</th>\n",
       "      <th>Description</th>\n",
       "      <th>...</th>\n",
       "      <th>Roundabout</th>\n",
       "      <th>Station</th>\n",
       "      <th>Stop</th>\n",
       "      <th>Traffic_Calming</th>\n",
       "      <th>Traffic_Signal</th>\n",
       "      <th>Turning_Loop</th>\n",
       "      <th>Sunrise_Sunset</th>\n",
       "      <th>Civil_Twilight</th>\n",
       "      <th>Nautical_Twilight</th>\n",
       "      <th>Astronomical_Twilight</th>\n",
       "    </tr>\n",
       "  </thead>\n",
       "  <tbody>\n",
       "    <tr>\n",
       "      <th>0</th>\n",
       "      <td>A-1</td>\n",
       "      <td>3</td>\n",
       "      <td>2016-02-08 00:37:08</td>\n",
       "      <td>2016-02-08 06:37:08</td>\n",
       "      <td>40.108910</td>\n",
       "      <td>-83.092860</td>\n",
       "      <td>40.112060</td>\n",
       "      <td>-83.031870</td>\n",
       "      <td>3.230</td>\n",
       "      <td>Between Sawmill Rd/Exit 20 and OH-315/Olentang...</td>\n",
       "      <td>...</td>\n",
       "      <td>False</td>\n",
       "      <td>False</td>\n",
       "      <td>False</td>\n",
       "      <td>False</td>\n",
       "      <td>False</td>\n",
       "      <td>False</td>\n",
       "      <td>Night</td>\n",
       "      <td>Night</td>\n",
       "      <td>Night</td>\n",
       "      <td>Night</td>\n",
       "    </tr>\n",
       "    <tr>\n",
       "      <th>1</th>\n",
       "      <td>A-2</td>\n",
       "      <td>2</td>\n",
       "      <td>2016-02-08 05:56:20</td>\n",
       "      <td>2016-02-08 11:56:20</td>\n",
       "      <td>39.865420</td>\n",
       "      <td>-84.062800</td>\n",
       "      <td>39.865010</td>\n",
       "      <td>-84.048730</td>\n",
       "      <td>0.747</td>\n",
       "      <td>At OH-4/OH-235/Exit 41 - Accident.</td>\n",
       "      <td>...</td>\n",
       "      <td>False</td>\n",
       "      <td>False</td>\n",
       "      <td>False</td>\n",
       "      <td>False</td>\n",
       "      <td>False</td>\n",
       "      <td>False</td>\n",
       "      <td>Night</td>\n",
       "      <td>Night</td>\n",
       "      <td>Night</td>\n",
       "      <td>Night</td>\n",
       "    </tr>\n",
       "    <tr>\n",
       "      <th>2</th>\n",
       "      <td>A-3</td>\n",
       "      <td>2</td>\n",
       "      <td>2016-02-08 06:15:39</td>\n",
       "      <td>2016-02-08 12:15:39</td>\n",
       "      <td>39.102660</td>\n",
       "      <td>-84.524680</td>\n",
       "      <td>39.102090</td>\n",
       "      <td>-84.523960</td>\n",
       "      <td>0.055</td>\n",
       "      <td>At I-71/US-50/Exit 1 - Accident.</td>\n",
       "      <td>...</td>\n",
       "      <td>False</td>\n",
       "      <td>False</td>\n",
       "      <td>False</td>\n",
       "      <td>False</td>\n",
       "      <td>False</td>\n",
       "      <td>False</td>\n",
       "      <td>Night</td>\n",
       "      <td>Night</td>\n",
       "      <td>Night</td>\n",
       "      <td>Day</td>\n",
       "    </tr>\n",
       "    <tr>\n",
       "      <th>3</th>\n",
       "      <td>A-4</td>\n",
       "      <td>2</td>\n",
       "      <td>2016-02-08 06:51:45</td>\n",
       "      <td>2016-02-08 12:51:45</td>\n",
       "      <td>41.062130</td>\n",
       "      <td>-81.537840</td>\n",
       "      <td>41.062170</td>\n",
       "      <td>-81.535470</td>\n",
       "      <td>0.123</td>\n",
       "      <td>At Dart Ave/Exit 21 - Accident.</td>\n",
       "      <td>...</td>\n",
       "      <td>False</td>\n",
       "      <td>False</td>\n",
       "      <td>False</td>\n",
       "      <td>False</td>\n",
       "      <td>False</td>\n",
       "      <td>False</td>\n",
       "      <td>Night</td>\n",
       "      <td>Night</td>\n",
       "      <td>Day</td>\n",
       "      <td>Day</td>\n",
       "    </tr>\n",
       "    <tr>\n",
       "      <th>4</th>\n",
       "      <td>A-5</td>\n",
       "      <td>3</td>\n",
       "      <td>2016-02-08 07:53:43</td>\n",
       "      <td>2016-02-08 13:53:43</td>\n",
       "      <td>39.172393</td>\n",
       "      <td>-84.492792</td>\n",
       "      <td>39.170476</td>\n",
       "      <td>-84.501798</td>\n",
       "      <td>0.500</td>\n",
       "      <td>At Mitchell Ave/Exit 6 - Accident.</td>\n",
       "      <td>...</td>\n",
       "      <td>False</td>\n",
       "      <td>False</td>\n",
       "      <td>False</td>\n",
       "      <td>False</td>\n",
       "      <td>False</td>\n",
       "      <td>False</td>\n",
       "      <td>Day</td>\n",
       "      <td>Day</td>\n",
       "      <td>Day</td>\n",
       "      <td>Day</td>\n",
       "    </tr>\n",
       "  </tbody>\n",
       "</table>\n",
       "<p>5 rows × 47 columns</p>\n",
       "</div>"
      ],
      "text/plain": [
       "    ID  Severity           Start_Time             End_Time  Start_Lat  \\\n",
       "0  A-1         3  2016-02-08 00:37:08  2016-02-08 06:37:08  40.108910   \n",
       "1  A-2         2  2016-02-08 05:56:20  2016-02-08 11:56:20  39.865420   \n",
       "2  A-3         2  2016-02-08 06:15:39  2016-02-08 12:15:39  39.102660   \n",
       "3  A-4         2  2016-02-08 06:51:45  2016-02-08 12:51:45  41.062130   \n",
       "4  A-5         3  2016-02-08 07:53:43  2016-02-08 13:53:43  39.172393   \n",
       "\n",
       "   Start_Lng    End_Lat    End_Lng  Distance(mi)  \\\n",
       "0 -83.092860  40.112060 -83.031870         3.230   \n",
       "1 -84.062800  39.865010 -84.048730         0.747   \n",
       "2 -84.524680  39.102090 -84.523960         0.055   \n",
       "3 -81.537840  41.062170 -81.535470         0.123   \n",
       "4 -84.492792  39.170476 -84.501798         0.500   \n",
       "\n",
       "                                         Description  ...  Roundabout Station  \\\n",
       "0  Between Sawmill Rd/Exit 20 and OH-315/Olentang...  ...       False   False   \n",
       "1                 At OH-4/OH-235/Exit 41 - Accident.  ...       False   False   \n",
       "2                   At I-71/US-50/Exit 1 - Accident.  ...       False   False   \n",
       "3                    At Dart Ave/Exit 21 - Accident.  ...       False   False   \n",
       "4                 At Mitchell Ave/Exit 6 - Accident.  ...       False   False   \n",
       "\n",
       "    Stop Traffic_Calming Traffic_Signal Turning_Loop Sunrise_Sunset  \\\n",
       "0  False           False          False        False          Night   \n",
       "1  False           False          False        False          Night   \n",
       "2  False           False          False        False          Night   \n",
       "3  False           False          False        False          Night   \n",
       "4  False           False          False        False            Day   \n",
       "\n",
       "  Civil_Twilight Nautical_Twilight Astronomical_Twilight  \n",
       "0          Night             Night                 Night  \n",
       "1          Night             Night                 Night  \n",
       "2          Night             Night                   Day  \n",
       "3          Night               Day                   Day  \n",
       "4            Day               Day                   Day  \n",
       "\n",
       "[5 rows x 47 columns]"
      ]
     },
     "execution_count": 4,
     "metadata": {},
     "output_type": "execute_result"
    }
   ],
   "source": [
    "loaddata.head()   #see datat and start looking to filter out data"
   ]
  },
  {
   "cell_type": "code",
   "execution_count": null,
   "id": "6f72feb3",
   "metadata": {},
   "outputs": [],
   "source": []
  },
  {
   "cell_type": "code",
   "execution_count": 5,
   "id": "bef53936",
   "metadata": {},
   "outputs": [
    {
     "name": "stdout",
     "output_type": "stream",
     "text": [
      "[1 2 3 4]\n"
     ]
    }
   ],
   "source": [
    "print(np.unique(loaddata['Severity']))"
   ]
  },
  {
   "cell_type": "markdown",
   "id": "4bb58976",
   "metadata": {},
   "source": [
    "# lets find some missing data.. which columns\n"
   ]
  },
  {
   "cell_type": "code",
   "execution_count": 9,
   "id": "7f9b081d",
   "metadata": {},
   "outputs": [
    {
     "data": {
      "text/plain": [
       "Number                   1743911\n",
       "Precipitation(in)         549458\n",
       "Wind_Chill(F)             469643\n",
       "Wind_Speed(mph)           157944\n",
       "Wind_Direction             73775\n",
       "Humidity(%)                73092\n",
       "Weather_Condition          70636\n",
       "Visibility(mi)             70546\n",
       "Temperature(F)             69274\n",
       "Pressure(in)               59200\n",
       "Weather_Timestamp          50736\n",
       "Airport_Code                9549\n",
       "Timezone                    3659\n",
       "Nautical_Twilight           2867\n",
       "Civil_Twilight              2867\n",
       "Sunrise_Sunset              2867\n",
       "Astronomical_Twilight       2867\n",
       "Zipcode                     1319\n",
       "City                         137\n",
       "Street                         2\n",
       "dtype: int64"
      ]
     },
     "execution_count": 9,
     "metadata": {},
     "output_type": "execute_result"
    }
   ],
   "source": [
    "missing_data = loaddata.isna().sum().sort_values(ascending=False)\n",
    "missing_data[missing_data !=0]"
   ]
  },
  {
   "cell_type": "code",
   "execution_count": 3,
   "id": "d81963e9",
   "metadata": {},
   "outputs": [
    {
     "ename": "NameError",
     "evalue": "name 'loaddata' is not defined",
     "output_type": "error",
     "traceback": [
      "\u001b[0;31m---------------------------------------------------------------------------\u001b[0m",
      "\u001b[0;31mNameError\u001b[0m                                 Traceback (most recent call last)",
      "\u001b[0;32m/tmp/ipykernel_175710/1208935702.py\u001b[0m in \u001b[0;36m<module>\u001b[0;34m\u001b[0m\n\u001b[0;32m----> 1\u001b[0;31m \u001b[0mmd\u001b[0m \u001b[0;34m=\u001b[0m \u001b[0;34m[\u001b[0m\u001b[0mfeature\u001b[0m \u001b[0;32mfor\u001b[0m \u001b[0mfeature\u001b[0m \u001b[0;32min\u001b[0m \u001b[0mloaddata\u001b[0m\u001b[0;34m.\u001b[0m\u001b[0mcolumns\u001b[0m \u001b[0;32mif\u001b[0m \u001b[0mloaddata\u001b[0m\u001b[0;34m[\u001b[0m\u001b[0mfeature\u001b[0m\u001b[0;34m]\u001b[0m\u001b[0;34m.\u001b[0m\u001b[0misnull\u001b[0m\u001b[0;34m(\u001b[0m\u001b[0;34m)\u001b[0m\u001b[0;34m.\u001b[0m\u001b[0msum\u001b[0m\u001b[0;34m(\u001b[0m\u001b[0;34m)\u001b[0m\u001b[0;34m>\u001b[0m\u001b[0;36m1\u001b[0m\u001b[0;34m]\u001b[0m\u001b[0;34m\u001b[0m\u001b[0;34m\u001b[0m\u001b[0m\n\u001b[0m\u001b[1;32m      2\u001b[0m \u001b[0;34m\u001b[0m\u001b[0m\n\u001b[1;32m      3\u001b[0m \u001b[0;32mfor\u001b[0m \u001b[0mfeature\u001b[0m \u001b[0;32min\u001b[0m \u001b[0mmd\u001b[0m\u001b[0;34m:\u001b[0m\u001b[0;34m\u001b[0m\u001b[0;34m\u001b[0m\u001b[0m\n\u001b[1;32m      4\u001b[0m     \u001b[0mprint\u001b[0m\u001b[0;34m(\u001b[0m\u001b[0mfeature\u001b[0m\u001b[0;34m,\u001b[0m \u001b[0mnp\u001b[0m\u001b[0;34m.\u001b[0m\u001b[0mround\u001b[0m\u001b[0;34m(\u001b[0m\u001b[0mloaddata\u001b[0m\u001b[0;34m[\u001b[0m\u001b[0mfeature\u001b[0m\u001b[0;34m]\u001b[0m\u001b[0;34m.\u001b[0m\u001b[0misnull\u001b[0m\u001b[0;34m.\u001b[0m\u001b[0mmean\u001b[0m\u001b[0;34m(\u001b[0m\u001b[0;34m)\u001b[0m\u001b[0;34m,\u001b[0m \u001b[0;36m4\u001b[0m\u001b[0;34m)\u001b[0m\u001b[0;34m,\u001b[0m \u001b[0;34m'% missing values'\u001b[0m\u001b[0;34m)\u001b[0m\u001b[0;34m\u001b[0m\u001b[0;34m\u001b[0m\u001b[0m\n",
      "\u001b[0;31mNameError\u001b[0m: name 'loaddata' is not defined"
     ]
    }
   ],
   "source": [
    "md = [feature for feature in loaddata.columns if loaddata[feature].isnull().sum()>1]\n",
    "\n",
    "for feature in md:\n",
    "    print(feature, np.round(loaddata[feature].isnull.mean(), 4), '% missing values')"
   ]
  },
  {
   "cell_type": "markdown",
   "id": "f7ea370b",
   "metadata": {},
   "source": [
    "# what percentage is missing?"
   ]
  },
  {
   "cell_type": "code",
   "execution_count": 147,
   "id": "08b1fc40",
   "metadata": {
    "scrolled": true
   },
   "outputs": [
    {
     "data": {
      "text/plain": [
       "Number                   61.290031\n",
       "Precipitation(in)        19.310789\n",
       "Wind_Chill(F)            16.505678\n",
       "Wind_Speed(mph)           5.550967\n",
       "Wind_Direction            2.592834\n",
       "Humidity(%)               2.568830\n",
       "Weather_Condition         2.482514\n",
       "Visibility(mi)            2.479350\n",
       "Temperature(F)            2.434646\n",
       "Pressure(in)              2.080593\n",
       "Weather_Timestamp         1.783125\n",
       "Airport_Code              0.335601\n",
       "Timezone                  0.128596\n",
       "Nautical_Twilight         0.100761\n",
       "Civil_Twilight            0.100761\n",
       "Sunrise_Sunset            0.100761\n",
       "Astronomical_Twilight     0.100761\n",
       "Zipcode                   0.046356\n",
       "City                      0.004815\n",
       "Street                    0.000070\n",
       "dtype: float64"
      ]
     },
     "execution_count": 147,
     "metadata": {},
     "output_type": "execute_result"
    }
   ],
   "source": [
    "percentage_missing = missing_data[missing_data!=0] / len(loaddata) * 100\n",
    "percentage_missing\n",
    "#missing data can be dropped or nulled, or filled with averages, lets check hightest occurances of accidents based on cities"
   ]
  },
  {
   "cell_type": "code",
   "execution_count": 30,
   "id": "caab75b1",
   "metadata": {},
   "outputs": [
    {
     "data": {
      "text/plain": [
       "Miami           106966\n",
       "Los Angeles      68956\n",
       "Orlando          54691\n",
       "Dallas           41979\n",
       "Houston          39448\n",
       "Charlotte        33152\n",
       "Sacramento       32559\n",
       "San Diego        26627\n",
       "Raleigh          22840\n",
       "Minneapolis      22768\n",
       "Portland         20944\n",
       "Nashville        20267\n",
       "Austin           18301\n",
       "Baton Rouge      18182\n",
       "Phoenix          17143\n",
       "Saint Paul       16869\n",
       "New Orleans      16251\n",
       "Atlanta          15622\n",
       "Jacksonville     14967\n",
       "Richmond         14349\n",
       "Name: City, dtype: int64"
      ]
     },
     "execution_count": 30,
     "metadata": {},
     "output_type": "execute_result"
    }
   ],
   "source": [
    "acc_by_city= loaddata['City'].value_counts()\n",
    "acc_by_city[:20]\n"
   ]
  },
  {
   "cell_type": "code",
   "execution_count": 31,
   "id": "b0331532",
   "metadata": {},
   "outputs": [
    {
     "data": {
      "text/plain": [
       "(array([ 0,  1,  2,  3,  4,  5,  6,  7,  8,  9, 10, 11, 12, 13, 14, 15, 16,\n",
       "        17, 18, 19]),\n",
       " [Text(0, 0, 'Miami'),\n",
       "  Text(1, 0, 'Los Angeles'),\n",
       "  Text(2, 0, 'Orlando'),\n",
       "  Text(3, 0, 'Dallas'),\n",
       "  Text(4, 0, 'Houston'),\n",
       "  Text(5, 0, 'Charlotte'),\n",
       "  Text(6, 0, 'Sacramento'),\n",
       "  Text(7, 0, 'San Diego'),\n",
       "  Text(8, 0, 'Raleigh'),\n",
       "  Text(9, 0, 'Minneapolis'),\n",
       "  Text(10, 0, 'Portland'),\n",
       "  Text(11, 0, 'Nashville'),\n",
       "  Text(12, 0, 'Austin'),\n",
       "  Text(13, 0, 'Baton Rouge'),\n",
       "  Text(14, 0, 'Phoenix'),\n",
       "  Text(15, 0, 'Saint Paul'),\n",
       "  Text(16, 0, 'New Orleans'),\n",
       "  Text(17, 0, 'Atlanta'),\n",
       "  Text(18, 0, 'Jacksonville'),\n",
       "  Text(19, 0, 'Richmond')])"
      ]
     },
     "execution_count": 31,
     "metadata": {},
     "output_type": "execute_result"
    },
    {
     "data": {
      "image/png": "[encoded data removed]",
      "text/plain": [
       "<Figure size 1440x720 with 1 Axes>"
      ]
     },
     "metadata": {
      "needs_background": "light"
     },
     "output_type": "display_data"
    }
   ],
   "source": [
    "x = acc_by_city.index[:20]\n",
    "y = acc_by_city.values[:20]\n",
    "plt.plot(x, y)\n",
    "acc_by_city[:20].plot(figsize=(20,10))\n",
    "plt.gca()\n",
    "plt.xticks(rotation=90)\n",
    "\n",
    "#print(acc_by_city[:20])\n",
    "#acc_by_city.index[0]"
   ]
  },
  {
   "cell_type": "code",
   "execution_count": 32,
   "id": "3dae5cba",
   "metadata": {},
   "outputs": [
    {
     "data": {
      "text/html": [
       "<div>\n",
       "<style scoped>\n",
       "    .dataframe tbody tr th:only-of-type {\n",
       "        vertical-align: middle;\n",
       "    }\n",
       "\n",
       "    .dataframe tbody tr th {\n",
       "        vertical-align: top;\n",
       "    }\n",
       "\n",
       "    .dataframe thead th {\n",
       "        text-align: right;\n",
       "    }\n",
       "</style>\n",
       "<table border=\"1\" class=\"dataframe\">\n",
       "  <thead>\n",
       "    <tr style=\"text-align: right;\">\n",
       "      <th></th>\n",
       "      <th>Start_Time</th>\n",
       "    </tr>\n",
       "  </thead>\n",
       "  <tbody>\n",
       "    <tr>\n",
       "      <th>count</th>\n",
       "      <td>2845342</td>\n",
       "    </tr>\n",
       "    <tr>\n",
       "      <th>unique</th>\n",
       "      <td>1959333</td>\n",
       "    </tr>\n",
       "    <tr>\n",
       "      <th>top</th>\n",
       "      <td>2021-01-26 16:16:13</td>\n",
       "    </tr>\n",
       "    <tr>\n",
       "      <th>freq</th>\n",
       "      <td>214</td>\n",
       "    </tr>\n",
       "  </tbody>\n",
       "</table>\n",
       "</div>"
      ],
      "text/plain": [
       "                 Start_Time\n",
       "count               2845342\n",
       "unique              1959333\n",
       "top     2021-01-26 16:16:13\n",
       "freq                    214"
      ]
     },
     "execution_count": 32,
     "metadata": {},
     "output_type": "execute_result"
    }
   ],
   "source": [
    "loaddata[[\"Start_Time\"]].describe() # taking a look"
   ]
  },
  {
   "cell_type": "markdown",
   "id": "ea34f3c6",
   "metadata": {},
   "source": [
    "# General Hypothesis:  Determine what hours are common to high probability accidents"
   ]
  },
  {
   "cell_type": "code",
   "execution_count": 300,
   "id": "abf167e3",
   "metadata": {},
   "outputs": [
    {
     "data": {
      "text/plain": [
       "0      68800\n",
       "1      59370\n",
       "2      55443\n",
       "3      48656\n",
       "4      51805\n",
       "5      80303\n",
       "6     111160\n",
       "7     135191\n",
       "8     130879\n",
       "9     108779\n",
       "10    103926\n",
       "11    113271\n",
       "12    143715\n",
       "13    166473\n",
       "14    191480\n",
       "15    214264\n",
       "16    218385\n",
       "17    220358\n",
       "18    168982\n",
       "19    116911\n",
       "20     94682\n",
       "21     87078\n",
       "22     81188\n",
       "23     74243\n",
       "Name: Start_Time, dtype: int64"
      ]
     },
     "execution_count": 300,
     "metadata": {},
     "output_type": "execute_result"
    }
   ],
   "source": [
    "ld_Start_Time = pd.to_datetime(loaddata['Start_Time'])\n",
    "type(ld_Start_Time)\n",
    "ld_hour = ld_Start_Time.dt.hour\n",
    "ld_hours_total = ld_hour.value_counts()\n",
    "ld_hours_total = ld_hours_total.sort_index()\n",
    "ld_hours_total"
   ]
  },
  {
   "cell_type": "code",
   "execution_count": 301,
   "id": "f0febac0",
   "metadata": {},
   "outputs": [
    {
     "data": {
      "text/plain": [
       "Text(0.5, 1.0, 'Accident Hours')"
      ]
     },
     "execution_count": 301,
     "metadata": {},
     "output_type": "execute_result"
    },
    {
     "data": {
      "image/png": "[encoded data removed]",
      "text/plain": [
       "<Figure size 432x288 with 1 Axes>"
      ]
     },
     "metadata": {
      "needs_background": "light"
     },
     "output_type": "display_data"
    }
   ],
   "source": [
    "ld_hours_total.plot()\n",
    "plt.xlabel(\"Hours of Day\")\n",
    "plt.ylabel(\"Accident_instances\")\n",
    "plt.title(\"Accident Hours\")"
   ]
  },
  {
   "cell_type": "code",
   "execution_count": 304,
   "id": "74539dde",
   "metadata": {},
   "outputs": [
    {
     "data": {
      "text/plain": [
       "Text(0.5, 1.0, 'Accident Hours between 3pm -6pm')"
      ]
     },
     "execution_count": 304,
     "metadata": {},
     "output_type": "execute_result"
    },
    {
     "data": {
      "image/png": "[encoded data removed]",
      "text/plain": [
       "<Figure size 432x288 with 1 Axes>"
      ]
     },
     "metadata": {
      "needs_background": "light"
     },
     "output_type": "display_data"
    }
   ],
   "source": [
    "ld_hours_total[3:10].plot()\n",
    "plt.xlabel(\"Hours of Day\")\n",
    "plt.ylabel(\"Accident_instances\")\n",
    "plt.title(\"Accident Hours between 3pm -6pm\")"
   ]
  },
  {
   "cell_type": "code",
   "execution_count": 306,
   "id": "8dc29d57",
   "metadata": {},
   "outputs": [
    {
     "data": {
      "text/plain": [
       "Text(0.5, 1.0, 'Accident Hours between 3pm -6pm')"
      ]
     },
     "execution_count": 306,
     "metadata": {},
     "output_type": "execute_result"
    },
    {
     "data": {
      "image/png": "[encoded data removed]",
      "text/plain": [
       "<Figure size 432x288 with 1 Axes>"
      ]
     },
     "metadata": {
      "needs_background": "light"
     },
     "output_type": "display_data"
    }
   ],
   "source": [
    "ld_hours_total[10:20].plot()\n",
    "plt.xlabel(\"Hours of Day\")\n",
    "plt.ylabel(\"Accident_instances\")\n",
    "plt.title(\"Accident Hours between 3pm -6pm\")"
   ]
  },
  {
   "cell_type": "code",
   "execution_count": 319,
   "id": "9343fd0e",
   "metadata": {},
   "outputs": [
    {
     "data": {
      "text/plain": [
       "23    106831\n",
       "22    103229\n",
       "18     98804\n",
       "30     98654\n",
       "19     98386\n",
       "24     97655\n",
       "12     96024\n",
       "20     95913\n",
       "10     95727\n",
       "16     94945\n",
       "21     94656\n",
       "11     94207\n",
       "8      93956\n",
       "27     93680\n",
       "17     93487\n",
       "15     93074\n",
       "7      92982\n",
       "28     92694\n",
       "29     92676\n",
       "6      92308\n",
       "9      91779\n",
       "26     91741\n",
       "13     91570\n",
       "14     88340\n",
       "5      87969\n",
       "25     85901\n",
       "3      85070\n",
       "4      83763\n",
       "1      82885\n",
       "2      82479\n",
       "31     53957\n",
       "Name: Start_Time, dtype: int64"
      ]
     },
     "execution_count": 319,
     "metadata": {},
     "output_type": "execute_result"
    }
   ],
   "source": [
    "ld_Start_Time_day = ld_Start_Time.dt.\n",
    "ld_Start_Time_day.value_counts()"
   ]
  },
  {
   "cell_type": "markdown",
   "id": "1aca5a06",
   "metadata": {},
   "source": [
    "# We have common hours of daily accidents, lets dig deeper to determine other factors of these accidents.  Let's review weather conditions."
   ]
  },
  {
   "cell_type": "code",
   "execution_count": 314,
   "id": "0443cb54",
   "metadata": {
    "scrolled": true
   },
   "outputs": [
    {
     "data": {
      "text/plain": [
       "Fair                       1107194\n",
       "Mostly Cloudy               363959\n",
       "Cloudy                      348767\n",
       "Partly Cloudy               249939\n",
       "Clear                       173823\n",
       "Light Rain                  128403\n",
       "Overcast                     84882\n",
       "Scattered Clouds             45132\n",
       "Light Snow                   43752\n",
       "Fog                          41226\n",
       "Haze                         36354\n",
       "Rain                         31044\n",
       "Fair / Windy                 15195\n",
       "Heavy Rain                   11824\n",
       "Smoke                         7200\n",
       "Light Drizzle                 7041\n",
       "Thunder in the Vicinity       6944\n",
       "Cloudy / Windy                6839\n",
       "T-Storm                       6546\n",
       "Mostly Cloudy / Windy         6297\n",
       "Name: Weather_Condition, dtype: int64"
      ]
     },
     "execution_count": 314,
     "metadata": {},
     "output_type": "execute_result"
    }
   ],
   "source": [
    "## weather_conditions = loaddata['Weather_Condition']\n",
    "wed_con = weather_conditions.value_counts()\n",
    "wed_con[:20]"
   ]
  },
  {
   "cell_type": "code",
   "execution_count": 316,
   "id": "1366dec2",
   "metadata": {},
   "outputs": [
    {
     "data": {
      "text/plain": [
       "(array([ 0,  1,  2,  3,  4,  5,  6,  7,  8,  9, 10, 11, 12, 13, 14, 15, 16,\n",
       "        17, 18, 19]),\n",
       " [Text(0, 0, 'Fair'),\n",
       "  Text(1, 0, 'Mostly Cloudy'),\n",
       "  Text(2, 0, 'Cloudy'),\n",
       "  Text(3, 0, 'Partly Cloudy'),\n",
       "  Text(4, 0, 'Clear'),\n",
       "  Text(5, 0, 'Light Rain'),\n",
       "  Text(6, 0, 'Overcast'),\n",
       "  Text(7, 0, 'Scattered Clouds'),\n",
       "  Text(8, 0, 'Light Snow'),\n",
       "  Text(9, 0, 'Fog'),\n",
       "  Text(10, 0, 'Haze'),\n",
       "  Text(11, 0, 'Rain'),\n",
       "  Text(12, 0, 'Fair / Windy'),\n",
       "  Text(13, 0, 'Heavy Rain'),\n",
       "  Text(14, 0, 'Smoke'),\n",
       "  Text(15, 0, 'Light Drizzle'),\n",
       "  Text(16, 0, 'Thunder in the Vicinity'),\n",
       "  Text(17, 0, 'Cloudy / Windy'),\n",
       "  Text(18, 0, 'T-Storm'),\n",
       "  Text(19, 0, 'Mostly Cloudy / Windy')])"
      ]
     },
     "execution_count": 316,
     "metadata": {},
     "output_type": "execute_result"
    },
    {
     "data": {
      "image/png": "[encoded data removed]",
      "text/plain": [
       "<Figure size 432x288 with 1 Axes>"
      ]
     },
     "metadata": {
      "needs_background": "light"
     },
     "output_type": "display_data"
    }
   ],
   "source": [
    "plt.plot(wed_con.index[:20], wed_con.values[:20])\n",
    "wed_con[:20].plot()\n",
    "plt.gca()\n",
    "plt.xticks(rotation=90)"
   ]
  },
  {
   "cell_type": "code",
   "execution_count": 21,
   "id": "8ea9a804",
   "metadata": {},
   "outputs": [],
   "source": [
    "loaddata.drop(loaddata[['Amenity', 'Bump', 'Crossing',\n",
    "       'Give_Way', 'Junction', 'No_Exit', 'Railway', 'Roundabout', 'Station',\n",
    "       'Stop', 'Traffic_Calming', 'Traffic_Signal', 'Turning_Loop',\n",
    "       'Sunrise_Sunset', 'Civil_Twilight', 'Nautical_Twilight',\n",
    "       'Astronomical_Twilight']], axis=1, inplace=True)"
   ]
  },
  {
   "cell_type": "code",
   "execution_count": 33,
   "id": "6f8a95bc",
   "metadata": {},
   "outputs": [
    {
     "data": {
      "text/plain": [
       "(2845342, 47)"
      ]
     },
     "execution_count": 33,
     "metadata": {},
     "output_type": "execute_result"
    }
   ],
   "source": [
    "loaddata.shape\n"
   ]
  },
  {
   "cell_type": "code",
   "execution_count": 57,
   "id": "70f19d6c",
   "metadata": {},
   "outputs": [],
   "source": [
    "#20 Safest Cities per accidents\n",
    "safest_cities = acc_by_city[:-20]\n",
    "safe_cities_list = safest_cities.value_counts()>1"
   ]
  },
  {
   "cell_type": "code",
   "execution_count": 58,
   "id": "4f088c8e",
   "metadata": {},
   "outputs": [
    {
     "data": {
      "text/plain": [
       "1        True\n",
       "2        True\n",
       "3        True\n",
       "4        True\n",
       "5        True\n",
       "        ...  \n",
       "1129    False\n",
       "1128    False\n",
       "1124    False\n",
       "1120    False\n",
       "691     False\n",
       "Name: City, Length: 1224, dtype: bool"
      ]
     },
     "execution_count": 58,
     "metadata": {},
     "output_type": "execute_result"
    }
   ],
   "source": [
    "safe_cities_list[safe_cities_list for sfc in safe_cities_list ]"
   ]
  },
  {
   "cell_type": "markdown",
   "id": "24e363e0",
   "metadata": {},
   "source": [
    "# Conclusion:  \n",
    "Most accidents occur during 05am-08am, and between 3pm-5pm, during commuter hrs.\n",
    "20 most dangerous cities for accidents are in highly populated regions of the US.\n",
    "20 safest cities will be noted at the bottom.\n",
    "Weather wise... the highest occurrances of accidents were on fair weather days.\n"
   ]
  },
  {
   "cell_type": "code",
   "execution_count": null,
   "id": "da739619",
   "metadata": {},
   "outputs": [],
   "source": []
  }
 ],
 "metadata": {
  "kernelspec": {
   "display_name": "Python 3 (ipykernel)",
   "language": "python",
   "name": "python3"
  },
  "language_info": {
   "codemirror_mode": {
    "name": "ipython",
    "version": 3
   },
   "file_extension": ".py",
   "mimetype": "text/x-python",
   "name": "python",
   "nbconvert_exporter": "python",
   "pygments_lexer": "ipython3",
   "version": "3.9.7"
  }
 },
 "nbformat": 4,
 "nbformat_minor": 5
}
