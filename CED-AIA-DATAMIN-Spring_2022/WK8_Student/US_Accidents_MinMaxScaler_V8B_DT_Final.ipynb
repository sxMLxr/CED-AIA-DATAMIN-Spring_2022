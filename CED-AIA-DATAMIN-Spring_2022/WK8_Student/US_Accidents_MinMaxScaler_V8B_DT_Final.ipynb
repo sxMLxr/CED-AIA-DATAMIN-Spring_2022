{
 "cells": [
  {
   "cell_type": "code",
   "execution_count": 1,
   "id": "c0ff7c06",
   "metadata": {},
   "outputs": [],
   "source": [
    "import pandas as pd\n",
    "import numpy as np\n",
    "import matplotlib.pyplot as plt\n",
    "%matplotlib inline\n",
    "\n",
    "import seaborn as sns\n",
    "import sklearn\n",
    "#import json\n",
    "import warnings\n",
    "warnings.filterwarnings('ignore')"
   ]
  },
  {
   "cell_type": "markdown",
   "id": "a3750cfb",
   "metadata": {},
   "source": [
    "## Lets load the data that we preprocessed\n"
   ]
  },
  {
   "cell_type": "code",
   "execution_count": 2,
   "id": "76e2aa69",
   "metadata": {},
   "outputs": [],
   "source": [
    "df= pd.read_csv(\"../Accident_Stats/Processed_USAccidents.csv\")\n",
    "df.drop(['Unnamed: 0'], axis=1, inplace=True)"
   ]
  },
  {
   "cell_type": "code",
   "execution_count": null,
   "id": "c5f2c7e7",
   "metadata": {
    "scrolled": true
   },
   "outputs": [],
   "source": [
    "df.head()   #see data and start looking to filter out data"
   ]
  },
  {
   "cell_type": "code",
   "execution_count": null,
   "id": "dafdaafd",
   "metadata": {},
   "outputs": [],
   "source": [
    "df.shape"
   ]
  },
  {
   "cell_type": "code",
   "execution_count": null,
   "id": "460bee19",
   "metadata": {},
   "outputs": [],
   "source": [
    "df.isna().sum() # View any null data stats... confirm no further processing is needed "
   ]
  },
  {
   "cell_type": "code",
   "execution_count": null,
   "id": "e6fe7479",
   "metadata": {},
   "outputs": [],
   "source": [
    "df.columns   #print columns and verify preprocessed data is what we want to use to train models"
   ]
  },
  {
   "cell_type": "markdown",
   "id": "b04b3217",
   "metadata": {},
   "source": [
    "# Severity will be our expected \"result\"\n",
    "## All other columns will be used to train, test the data\n"
   ]
  },
  {
   "cell_type": "code",
   "execution_count": 4,
   "id": "7fa4c49b",
   "metadata": {},
   "outputs": [],
   "source": [
    "y = df['Severity']\n",
    "X = df.drop(['Severity'], axis = 1)"
   ]
  },
  {
   "cell_type": "code",
   "execution_count": null,
   "id": "4946186a",
   "metadata": {},
   "outputs": [],
   "source": [
    "print(f\"==X headers: \\n\", X.head(2))\n",
    "print(f\"==Y headers: \\n\", y.head(2))"
   ]
  },
  {
   "cell_type": "markdown",
   "id": "1e2d2d02",
   "metadata": {},
   "source": [
    "# We have values... time to set models and test which model will be appropiate for this dataset\n"
   ]
  },
  {
   "cell_type": "markdown",
   "id": "bd112635",
   "metadata": {},
   "source": [
    "# Decision Tree with MinMaxScalar (with Feature importance)"
   ]
  },
  {
   "cell_type": "code",
   "execution_count": 5,
   "id": "676c73ed",
   "metadata": {},
   "outputs": [],
   "source": [
    "from sklearn.tree import DecisionTreeClassifier\n",
    "from sklearn import metrics \n",
    "from sklearn.metrics import classification_report\n",
    "from sklearn.model_selection import train_test_split"
   ]
  },
  {
   "cell_type": "code",
   "execution_count": 6,
   "id": "0df87dd6",
   "metadata": {},
   "outputs": [],
   "source": [
    "from sklearn.preprocessing import MinMaxScaler\n",
    "scalerDT = MinMaxScaler()\n",
    "scaled_DT = scalerDT.fit_transform(X)"
   ]
  },
  {
   "cell_type": "code",
   "execution_count": 7,
   "id": "3b6ac0f4",
   "metadata": {},
   "outputs": [],
   "source": [
    "Xdt_train, Xdt_test, ydt_train, ydt_test = train_test_split(scaled_DT, y, test_size=0.3, random_state=120)"
   ]
  },
  {
   "cell_type": "code",
   "execution_count": 8,
   "id": "3e922b73",
   "metadata": {},
   "outputs": [],
   "source": [
    "#breaking up my original code as i didnt need classifer as a var, or the fitted model\n",
    "#but to determine if the \"features importance\" is needed, i will need them defined.\n",
    "DTclf = DecisionTreeClassifier(criterion = \"gini\", random_state=120)\n",
    "DTclf.fit(X=Xdt_train, y=ydt_train)\n",
    "Y_test_predicted = DTclf.predict(Xdt_test)\n",
    "#Y_test_predicted = DecisionTreeClassifier(criterion = \"gini\", random_state=120).fit(X=Xdt_train, y=ydt_train).predict(Xdt_test)"
   ]
  },
  {
   "cell_type": "code",
   "execution_count": 9,
   "id": "151860ed",
   "metadata": {},
   "outputs": [
    {
     "name": "stdout",
     "output_type": "stream",
     "text": [
      "Decision Tree\n",
      "              precision    recall  f1-score   support\n",
      "\n",
      "           1     0.3383    0.4060    0.3691      7753\n",
      "           2     0.9278    0.9288    0.9283    759710\n",
      "           3     0.3056    0.2935    0.2994     46779\n",
      "           4     0.3433    0.3387    0.3410     39361\n",
      "\n",
      "    accuracy                         0.8620    853603\n",
      "   macro avg     0.4787    0.4918    0.4844    853603\n",
      "weighted avg     0.8614    0.8620    0.8617    853603\n",
      "\n"
     ]
    }
   ],
   "source": [
    "print(\"Decision Tree\")\n",
    "print(classification_report(ydt_test,Y_test_predicted, digits=4))"
   ]
  },
  {
   "cell_type": "code",
   "execution_count": 10,
   "id": "87be4832",
   "metadata": {},
   "outputs": [
    {
     "name": "stdout",
     "output_type": "stream",
     "text": [
      "DT Accuracy MINMAXSCALAR: 0.8620295383216788\n"
     ]
    }
   ],
   "source": [
    "print(\"DT Accuracy MINMAXSCALAR:\",metrics.accuracy_score(ydt_test, Y_test_predicted))\n",
    "#DT Accuracy: 0.853436550715028\n",
    "\n",
    "##ACCURACY OF THE MODEL (feature importance, features removed)\n",
    "#DT Accuracy MINMAXSCALAR: 0.8620295383216788"
   ]
  },
  {
   "cell_type": "code",
   "execution_count": 14,
   "id": "dcbfc001",
   "metadata": {},
   "outputs": [
    {
     "data": {
      "image/png": "[encoded data removed]",
      "text/plain": [
       "<Figure size 432x288 with 1 Axes>"
      ]
     },
     "metadata": {
      "needs_background": "light"
     },
     "output_type": "display_data"
    }
   ],
   "source": [
    "# visualize important featuers\n",
    "feature_importances_df = pd.DataFrame(\n",
    "    {\"feature\": list(X.columns), \"importance\": DTclf.feature_importances_}\n",
    ").sort_values(\"importance\", ascending=False)\n",
    "feature_importances_df\n",
    "\n",
    "# Creating a bar plot\n",
    "sns.barplot(x=feature_importances_df.feature, y=feature_importances_df.importance)\n",
    "# Add labels to your\n",
    "\n",
    "plt.xlabel(\"Feature Importance Score\")\n",
    "plt.ylabel(\"Features\")\n",
    "plt.title(\"Visualizing Important Features\")\n",
    "plt.xticks(\n",
    "    rotation=45, horizontalalignment=\"right\", fontweight=\"light\", fontsize=\"x-large\"\n",
    ")\n",
    "plt.show()"
   ]
  },
  {
   "cell_type": "markdown",
   "id": "ecc514dc",
   "metadata": {},
   "source": [
    "# First 10 features are not very useful to our DT so well remove them and rerun our model"
   ]
  },
  {
   "cell_type": "code",
   "execution_count": 12,
   "id": "b085ee9f",
   "metadata": {},
   "outputs": [
    {
     "data": {
      "text/html": [
       "<div>\n",
       "<style scoped>\n",
       "    .dataframe tbody tr th:only-of-type {\n",
       "        vertical-align: middle;\n",
       "    }\n",
       "\n",
       "    .dataframe tbody tr th {\n",
       "        vertical-align: top;\n",
       "    }\n",
       "\n",
       "    .dataframe thead th {\n",
       "        text-align: right;\n",
       "    }\n",
       "</style>\n",
       "<table border=\"1\" class=\"dataframe\">\n",
       "  <thead>\n",
       "    <tr style=\"text-align: right;\">\n",
       "      <th></th>\n",
       "      <th>feature</th>\n",
       "      <th>importance</th>\n",
       "    </tr>\n",
       "  </thead>\n",
       "  <tbody>\n",
       "    <tr>\n",
       "      <th>3</th>\n",
       "      <td>Pressure(in)</td>\n",
       "      <td>0.240891</td>\n",
       "    </tr>\n",
       "    <tr>\n",
       "      <th>2</th>\n",
       "      <td>Humidity(%)</td>\n",
       "      <td>0.177356</td>\n",
       "    </tr>\n",
       "    <tr>\n",
       "      <th>0</th>\n",
       "      <td>Temperature(F)</td>\n",
       "      <td>0.139163</td>\n",
       "    </tr>\n",
       "    <tr>\n",
       "      <th>5</th>\n",
       "      <td>Wind_Direction</td>\n",
       "      <td>0.108944</td>\n",
       "    </tr>\n",
       "    <tr>\n",
       "      <th>6</th>\n",
       "      <td>Wind_Speed(mph)</td>\n",
       "      <td>0.105571</td>\n",
       "    </tr>\n",
       "    <tr>\n",
       "      <th>1</th>\n",
       "      <td>Wind_Chill(F)</td>\n",
       "      <td>0.086503</td>\n",
       "    </tr>\n",
       "    <tr>\n",
       "      <th>7</th>\n",
       "      <td>Precipitation(in)</td>\n",
       "      <td>0.054255</td>\n",
       "    </tr>\n",
       "    <tr>\n",
       "      <th>8</th>\n",
       "      <td>Weather_Condition</td>\n",
       "      <td>0.051242</td>\n",
       "    </tr>\n",
       "    <tr>\n",
       "      <th>4</th>\n",
       "      <td>Visibility(mi)</td>\n",
       "      <td>0.036076</td>\n",
       "    </tr>\n",
       "  </tbody>\n",
       "</table>\n",
       "</div>"
      ],
      "text/plain": [
       "             feature  importance\n",
       "3       Pressure(in)    0.240891\n",
       "2        Humidity(%)    0.177356\n",
       "0     Temperature(F)    0.139163\n",
       "5     Wind_Direction    0.108944\n",
       "6    Wind_Speed(mph)    0.105571\n",
       "1      Wind_Chill(F)    0.086503\n",
       "7  Precipitation(in)    0.054255\n",
       "8  Weather_Condition    0.051242\n",
       "4     Visibility(mi)    0.036076"
      ]
     },
     "execution_count": 12,
     "metadata": {},
     "output_type": "execute_result"
    }
   ],
   "source": [
    "feature_importances_df = pd.DataFrame(\n",
    "    {\"feature\": list(X.columns), \"importance\": DTclf.feature_importances_}\n",
    ").sort_values(\"importance\", ascending=False)\n",
    "feature_importances_df"
   ]
  },
  {
   "cell_type": "code",
   "execution_count": 3,
   "id": "e66e4c0c",
   "metadata": {},
   "outputs": [],
   "source": [
    "#easier to reset jupyter and manually remove then re-assign x and y\n",
    "#df = df.drop(['Crossing','Traffic_Signal','Junction','Station'], axis=1)\n",
    "#df = df.drop(['Stop','Railway','Give_Way','No_Exit','Bump','Roundabout','Turning_Loop'], axis=1)"
   ]
  },
  {
   "cell_type": "code",
   "execution_count": 13,
   "id": "b491c075",
   "metadata": {},
   "outputs": [
    {
     "data": {
      "text/html": [
       "<div>\n",
       "<style scoped>\n",
       "    .dataframe tbody tr th:only-of-type {\n",
       "        vertical-align: middle;\n",
       "    }\n",
       "\n",
       "    .dataframe tbody tr th {\n",
       "        vertical-align: top;\n",
       "    }\n",
       "\n",
       "    .dataframe thead th {\n",
       "        text-align: right;\n",
       "    }\n",
       "</style>\n",
       "<table border=\"1\" class=\"dataframe\">\n",
       "  <thead>\n",
       "    <tr style=\"text-align: right;\">\n",
       "      <th></th>\n",
       "      <th>Temperature(F)</th>\n",
       "      <th>Wind_Chill(F)</th>\n",
       "      <th>Humidity(%)</th>\n",
       "      <th>Pressure(in)</th>\n",
       "      <th>Visibility(mi)</th>\n",
       "      <th>Wind_Direction</th>\n",
       "      <th>Wind_Speed(mph)</th>\n",
       "      <th>Precipitation(in)</th>\n",
       "      <th>Weather_Condition</th>\n",
       "    </tr>\n",
       "  </thead>\n",
       "  <tbody>\n",
       "    <tr>\n",
       "      <th>0</th>\n",
       "      <td>42.1</td>\n",
       "      <td>36.100000</td>\n",
       "      <td>58.0</td>\n",
       "      <td>29.76</td>\n",
       "      <td>10.0</td>\n",
       "      <td>13</td>\n",
       "      <td>10.400000</td>\n",
       "      <td>0.000000</td>\n",
       "      <td>56</td>\n",
       "    </tr>\n",
       "    <tr>\n",
       "      <th>1</th>\n",
       "      <td>36.9</td>\n",
       "      <td>59.658231</td>\n",
       "      <td>91.0</td>\n",
       "      <td>29.68</td>\n",
       "      <td>10.0</td>\n",
       "      <td>0</td>\n",
       "      <td>7.395044</td>\n",
       "      <td>0.020000</td>\n",
       "      <td>56</td>\n",
       "    </tr>\n",
       "    <tr>\n",
       "      <th>2</th>\n",
       "      <td>36.0</td>\n",
       "      <td>59.658231</td>\n",
       "      <td>97.0</td>\n",
       "      <td>29.70</td>\n",
       "      <td>10.0</td>\n",
       "      <td>0</td>\n",
       "      <td>7.395044</td>\n",
       "      <td>0.020000</td>\n",
       "      <td>79</td>\n",
       "    </tr>\n",
       "    <tr>\n",
       "      <th>3</th>\n",
       "      <td>39.0</td>\n",
       "      <td>59.658231</td>\n",
       "      <td>55.0</td>\n",
       "      <td>29.65</td>\n",
       "      <td>10.0</td>\n",
       "      <td>0</td>\n",
       "      <td>7.395044</td>\n",
       "      <td>0.007017</td>\n",
       "      <td>79</td>\n",
       "    </tr>\n",
       "    <tr>\n",
       "      <th>4</th>\n",
       "      <td>37.0</td>\n",
       "      <td>29.800000</td>\n",
       "      <td>93.0</td>\n",
       "      <td>29.69</td>\n",
       "      <td>10.0</td>\n",
       "      <td>17</td>\n",
       "      <td>10.400000</td>\n",
       "      <td>0.010000</td>\n",
       "      <td>56</td>\n",
       "    </tr>\n",
       "  </tbody>\n",
       "</table>\n",
       "</div>"
      ],
      "text/plain": [
       "   Temperature(F)  Wind_Chill(F)  Humidity(%)  Pressure(in)  Visibility(mi)  \\\n",
       "0            42.1      36.100000         58.0         29.76            10.0   \n",
       "1            36.9      59.658231         91.0         29.68            10.0   \n",
       "2            36.0      59.658231         97.0         29.70            10.0   \n",
       "3            39.0      59.658231         55.0         29.65            10.0   \n",
       "4            37.0      29.800000         93.0         29.69            10.0   \n",
       "\n",
       "   Wind_Direction  Wind_Speed(mph)  Precipitation(in)  Weather_Condition  \n",
       "0              13        10.400000           0.000000                 56  \n",
       "1               0         7.395044           0.020000                 56  \n",
       "2               0         7.395044           0.020000                 79  \n",
       "3               0         7.395044           0.007017                 79  \n",
       "4              17        10.400000           0.010000                 56  "
      ]
     },
     "execution_count": 13,
     "metadata": {},
     "output_type": "execute_result"
    }
   ],
   "source": [
    "X.head()"
   ]
  },
  {
   "cell_type": "code",
   "execution_count": null,
   "id": "2caf4358",
   "metadata": {},
   "outputs": [],
   "source": [
    "%who_ls DataFrame"
   ]
  },
  {
   "cell_type": "code",
   "execution_count": null,
   "id": "35ec04b0",
   "metadata": {},
   "outputs": [],
   "source": [
    "#clean out pd.Series we created\n",
    "ydt_test = None\n",
    "ydt_train = None\n",
    "del [ydt_test, ydt_train]\n",
    "%who_ls Series"
   ]
  },
  {
   "cell_type": "code",
   "execution_count": null,
   "id": "8e09e25a",
   "metadata": {},
   "outputs": [],
   "source": [
    "%who_ls ndarray"
   ]
  },
  {
   "cell_type": "code",
   "execution_count": null,
   "id": "d0078be9",
   "metadata": {},
   "outputs": [],
   "source": [
    "for xt in [Xdt_test, Xdt_train, Y_test_predicted]:\n",
    "    xt = None\n",
    "del Xdt_test \n",
    "del Xdt_train\n",
    "del Y_test_predicted\n",
    "del xt"
   ]
  },
  {
   "cell_type": "code",
   "execution_count": null,
   "id": "5335bbb5",
   "metadata": {},
   "outputs": [],
   "source": [
    "%who_ls ndarray"
   ]
  },
  {
   "cell_type": "code",
   "execution_count": null,
   "id": "aa7f3c4f",
   "metadata": {},
   "outputs": [],
   "source": [
    "%whos"
   ]
  },
  {
   "cell_type": "markdown",
   "id": "6e079d68",
   "metadata": {},
   "source": [
    "# Random Forest with MinMaxScalar (with Feature Importance)"
   ]
  },
  {
   "cell_type": "code",
   "execution_count": 15,
   "id": "ea413c6a",
   "metadata": {},
   "outputs": [],
   "source": [
    "from sklearn.ensemble import RandomForestClassifier\n",
    "from sklearn.preprocessing import MinMaxScaler"
   ]
  },
  {
   "cell_type": "code",
   "execution_count": 16,
   "id": "b9c9cd5e",
   "metadata": {},
   "outputs": [],
   "source": [
    "# Apply minmaxscalar before train_test_split, "
   ]
  },
  {
   "cell_type": "code",
   "execution_count": 17,
   "id": "ac237dbb",
   "metadata": {},
   "outputs": [],
   "source": [
    "scalerRF = MinMaxScaler()\n",
    "Scaled_RF = scalerRF.fit_transform(X)"
   ]
  },
  {
   "cell_type": "code",
   "execution_count": 18,
   "id": "d00583e2",
   "metadata": {},
   "outputs": [],
   "source": [
    "XRF_train, XRF_test, yRF_train, yRF_test = train_test_split(Scaled_RF, y, test_size=0.3, random_state=150)"
   ]
  },
  {
   "cell_type": "code",
   "execution_count": 19,
   "id": "10b57630",
   "metadata": {},
   "outputs": [
    {
     "name": "stdout",
     "output_type": "stream",
     "text": [
      "\n",
      "ACCURACY OF THE MODEL:  0.9032161320895077\n"
     ]
    }
   ],
   "source": [
    "  # creating a RF classifier\n",
    "RFclf = RandomForestClassifier(n_estimators = 100)\n",
    "  # Training the model on the training dataset\n",
    "  # fit function is used to train the model using the training sets as parameters\n",
    "RFclf.fit(XRF_train, yRF_train)\n",
    "  # performing predictions on the test dataset\n",
    "RFy_pred = RFclf.predict(XRF_test)\n",
    "\n",
    "  # metrics are used to find accuracy or error\n",
    "from sklearn import metrics\n",
    "print()\n",
    "  # using metrics module for accuracy calculation\n",
    "print(\"ACCURACY OF THE MODEL: \", metrics.accuracy_score(yRF_test, RFy_pred))"
   ]
  },
  {
   "cell_type": "code",
   "execution_count": null,
   "id": "bfb6f575",
   "metadata": {},
   "outputs": [],
   "source": [
    "#ACCURACY OF THE MODEL:  0.9007969747060401\n",
    "##ACCURACY OF THE MODEL (feature importance, features removed):  0.9032161320895077"
   ]
  },
  {
   "cell_type": "code",
   "execution_count": 20,
   "id": "cd8e912f",
   "metadata": {},
   "outputs": [
    {
     "data": {
      "text/html": [
       "<div>\n",
       "<style scoped>\n",
       "    .dataframe tbody tr th:only-of-type {\n",
       "        vertical-align: middle;\n",
       "    }\n",
       "\n",
       "    .dataframe tbody tr th {\n",
       "        vertical-align: top;\n",
       "    }\n",
       "\n",
       "    .dataframe thead th {\n",
       "        text-align: right;\n",
       "    }\n",
       "</style>\n",
       "<table border=\"1\" class=\"dataframe\">\n",
       "  <thead>\n",
       "    <tr style=\"text-align: right;\">\n",
       "      <th></th>\n",
       "      <th>feature</th>\n",
       "      <th>importance</th>\n",
       "    </tr>\n",
       "  </thead>\n",
       "  <tbody>\n",
       "    <tr>\n",
       "      <th>3</th>\n",
       "      <td>Pressure(in)</td>\n",
       "      <td>0.247994</td>\n",
       "    </tr>\n",
       "    <tr>\n",
       "      <th>2</th>\n",
       "      <td>Humidity(%)</td>\n",
       "      <td>0.186315</td>\n",
       "    </tr>\n",
       "    <tr>\n",
       "      <th>0</th>\n",
       "      <td>Temperature(F)</td>\n",
       "      <td>0.146015</td>\n",
       "    </tr>\n",
       "    <tr>\n",
       "      <th>5</th>\n",
       "      <td>Wind_Direction</td>\n",
       "      <td>0.105909</td>\n",
       "    </tr>\n",
       "    <tr>\n",
       "      <th>6</th>\n",
       "      <td>Wind_Speed(mph)</td>\n",
       "      <td>0.098970</td>\n",
       "    </tr>\n",
       "    <tr>\n",
       "      <th>1</th>\n",
       "      <td>Wind_Chill(F)</td>\n",
       "      <td>0.082143</td>\n",
       "    </tr>\n",
       "    <tr>\n",
       "      <th>8</th>\n",
       "      <td>Weather_Condition</td>\n",
       "      <td>0.053676</td>\n",
       "    </tr>\n",
       "    <tr>\n",
       "      <th>7</th>\n",
       "      <td>Precipitation(in)</td>\n",
       "      <td>0.043501</td>\n",
       "    </tr>\n",
       "    <tr>\n",
       "      <th>4</th>\n",
       "      <td>Visibility(mi)</td>\n",
       "      <td>0.035478</td>\n",
       "    </tr>\n",
       "  </tbody>\n",
       "</table>\n",
       "</div>"
      ],
      "text/plain": [
       "             feature  importance\n",
       "3       Pressure(in)    0.247994\n",
       "2        Humidity(%)    0.186315\n",
       "0     Temperature(F)    0.146015\n",
       "5     Wind_Direction    0.105909\n",
       "6    Wind_Speed(mph)    0.098970\n",
       "1      Wind_Chill(F)    0.082143\n",
       "8  Weather_Condition    0.053676\n",
       "7  Precipitation(in)    0.043501\n",
       "4     Visibility(mi)    0.035478"
      ]
     },
     "execution_count": 20,
     "metadata": {},
     "output_type": "execute_result"
    }
   ],
   "source": [
    "# check Important features\n",
    "RFfeature_importances_df = pd.DataFrame(\n",
    "    {\"feature\": list(X.columns), \"importance\": RFclf.feature_importances_}\n",
    ").sort_values(\"importance\", ascending=False)\n",
    "\n",
    "# Display our findings\n",
    "RFfeature_importances_df"
   ]
  },
  {
   "cell_type": "code",
   "execution_count": null,
   "id": "49fe1da4",
   "metadata": {},
   "outputs": [],
   "source": []
  }
 ],
 "metadata": {
  "kernelspec": {
   "display_name": "Python 3 (ipykernel)",
   "language": "python",
   "name": "python3"
  },
  "language_info": {
   "codemirror_mode": {
    "name": "ipython",
    "version": 3
   },
   "file_extension": ".py",
   "mimetype": "text/x-python",
   "name": "python",
   "nbconvert_exporter": "python",
   "pygments_lexer": "ipython3",
   "version": "3.9.7"
  }
 },
 "nbformat": 4,
 "nbformat_minor": 5
}
