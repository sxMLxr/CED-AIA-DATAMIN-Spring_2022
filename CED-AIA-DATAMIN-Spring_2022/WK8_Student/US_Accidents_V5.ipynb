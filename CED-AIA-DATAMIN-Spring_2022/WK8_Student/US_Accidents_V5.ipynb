{
 "cells": [
  {
   "cell_type": "code",
   "execution_count": 1,
   "id": "c0ff7c06",
   "metadata": {},
   "outputs": [],
   "source": [
    "import pandas as pd\n",
    "import numpy as np\n",
    "import matplotlib.pyplot as plt\n",
    "import seaborn as sns\n",
    "import sklearn\n",
    "import json"
   ]
  },
  {
   "cell_type": "markdown",
   "id": "a3750cfb",
   "metadata": {},
   "source": [
    "## Lets load the data\n"
   ]
  },
  {
   "cell_type": "code",
   "execution_count": 2,
   "id": "76e2aa69",
   "metadata": {},
   "outputs": [],
   "source": [
    "loaddata = pd.read_csv(\"../Accident_Stats/US_Accidents_Dec21_updated.csv\")"
   ]
  },
  {
   "cell_type": "code",
   "execution_count": 3,
   "id": "c5f2c7e7",
   "metadata": {
    "scrolled": true
   },
   "outputs": [
    {
     "data": {
      "text/html": [
       "<div>\n",
       "<style scoped>\n",
       "    .dataframe tbody tr th:only-of-type {\n",
       "        vertical-align: middle;\n",
       "    }\n",
       "\n",
       "    .dataframe tbody tr th {\n",
       "        vertical-align: top;\n",
       "    }\n",
       "\n",
       "    .dataframe thead th {\n",
       "        text-align: right;\n",
       "    }\n",
       "</style>\n",
       "<table border=\"1\" class=\"dataframe\">\n",
       "  <thead>\n",
       "    <tr style=\"text-align: right;\">\n",
       "      <th></th>\n",
       "      <th>ID</th>\n",
       "      <th>Severity</th>\n",
       "      <th>Start_Time</th>\n",
       "      <th>End_Time</th>\n",
       "      <th>Start_Lat</th>\n",
       "      <th>Start_Lng</th>\n",
       "      <th>End_Lat</th>\n",
       "      <th>End_Lng</th>\n",
       "      <th>Distance(mi)</th>\n",
       "      <th>Description</th>\n",
       "      <th>...</th>\n",
       "      <th>Roundabout</th>\n",
       "      <th>Station</th>\n",
       "      <th>Stop</th>\n",
       "      <th>Traffic_Calming</th>\n",
       "      <th>Traffic_Signal</th>\n",
       "      <th>Turning_Loop</th>\n",
       "      <th>Sunrise_Sunset</th>\n",
       "      <th>Civil_Twilight</th>\n",
       "      <th>Nautical_Twilight</th>\n",
       "      <th>Astronomical_Twilight</th>\n",
       "    </tr>\n",
       "  </thead>\n",
       "  <tbody>\n",
       "    <tr>\n",
       "      <th>0</th>\n",
       "      <td>A-1</td>\n",
       "      <td>3</td>\n",
       "      <td>2016-02-08 00:37:08</td>\n",
       "      <td>2016-02-08 06:37:08</td>\n",
       "      <td>40.108910</td>\n",
       "      <td>-83.092860</td>\n",
       "      <td>40.112060</td>\n",
       "      <td>-83.031870</td>\n",
       "      <td>3.230</td>\n",
       "      <td>Between Sawmill Rd/Exit 20 and OH-315/Olentang...</td>\n",
       "      <td>...</td>\n",
       "      <td>False</td>\n",
       "      <td>False</td>\n",
       "      <td>False</td>\n",
       "      <td>False</td>\n",
       "      <td>False</td>\n",
       "      <td>False</td>\n",
       "      <td>Night</td>\n",
       "      <td>Night</td>\n",
       "      <td>Night</td>\n",
       "      <td>Night</td>\n",
       "    </tr>\n",
       "    <tr>\n",
       "      <th>1</th>\n",
       "      <td>A-2</td>\n",
       "      <td>2</td>\n",
       "      <td>2016-02-08 05:56:20</td>\n",
       "      <td>2016-02-08 11:56:20</td>\n",
       "      <td>39.865420</td>\n",
       "      <td>-84.062800</td>\n",
       "      <td>39.865010</td>\n",
       "      <td>-84.048730</td>\n",
       "      <td>0.747</td>\n",
       "      <td>At OH-4/OH-235/Exit 41 - Accident.</td>\n",
       "      <td>...</td>\n",
       "      <td>False</td>\n",
       "      <td>False</td>\n",
       "      <td>False</td>\n",
       "      <td>False</td>\n",
       "      <td>False</td>\n",
       "      <td>False</td>\n",
       "      <td>Night</td>\n",
       "      <td>Night</td>\n",
       "      <td>Night</td>\n",
       "      <td>Night</td>\n",
       "    </tr>\n",
       "    <tr>\n",
       "      <th>2</th>\n",
       "      <td>A-3</td>\n",
       "      <td>2</td>\n",
       "      <td>2016-02-08 06:15:39</td>\n",
       "      <td>2016-02-08 12:15:39</td>\n",
       "      <td>39.102660</td>\n",
       "      <td>-84.524680</td>\n",
       "      <td>39.102090</td>\n",
       "      <td>-84.523960</td>\n",
       "      <td>0.055</td>\n",
       "      <td>At I-71/US-50/Exit 1 - Accident.</td>\n",
       "      <td>...</td>\n",
       "      <td>False</td>\n",
       "      <td>False</td>\n",
       "      <td>False</td>\n",
       "      <td>False</td>\n",
       "      <td>False</td>\n",
       "      <td>False</td>\n",
       "      <td>Night</td>\n",
       "      <td>Night</td>\n",
       "      <td>Night</td>\n",
       "      <td>Day</td>\n",
       "    </tr>\n",
       "    <tr>\n",
       "      <th>3</th>\n",
       "      <td>A-4</td>\n",
       "      <td>2</td>\n",
       "      <td>2016-02-08 06:51:45</td>\n",
       "      <td>2016-02-08 12:51:45</td>\n",
       "      <td>41.062130</td>\n",
       "      <td>-81.537840</td>\n",
       "      <td>41.062170</td>\n",
       "      <td>-81.535470</td>\n",
       "      <td>0.123</td>\n",
       "      <td>At Dart Ave/Exit 21 - Accident.</td>\n",
       "      <td>...</td>\n",
       "      <td>False</td>\n",
       "      <td>False</td>\n",
       "      <td>False</td>\n",
       "      <td>False</td>\n",
       "      <td>False</td>\n",
       "      <td>False</td>\n",
       "      <td>Night</td>\n",
       "      <td>Night</td>\n",
       "      <td>Day</td>\n",
       "      <td>Day</td>\n",
       "    </tr>\n",
       "    <tr>\n",
       "      <th>4</th>\n",
       "      <td>A-5</td>\n",
       "      <td>3</td>\n",
       "      <td>2016-02-08 07:53:43</td>\n",
       "      <td>2016-02-08 13:53:43</td>\n",
       "      <td>39.172393</td>\n",
       "      <td>-84.492792</td>\n",
       "      <td>39.170476</td>\n",
       "      <td>-84.501798</td>\n",
       "      <td>0.500</td>\n",
       "      <td>At Mitchell Ave/Exit 6 - Accident.</td>\n",
       "      <td>...</td>\n",
       "      <td>False</td>\n",
       "      <td>False</td>\n",
       "      <td>False</td>\n",
       "      <td>False</td>\n",
       "      <td>False</td>\n",
       "      <td>False</td>\n",
       "      <td>Day</td>\n",
       "      <td>Day</td>\n",
       "      <td>Day</td>\n",
       "      <td>Day</td>\n",
       "    </tr>\n",
       "  </tbody>\n",
       "</table>\n",
       "<p>5 rows × 47 columns</p>\n",
       "</div>"
      ],
      "text/plain": [
       "    ID  Severity           Start_Time             End_Time  Start_Lat  \\\n",
       "0  A-1         3  2016-02-08 00:37:08  2016-02-08 06:37:08  40.108910   \n",
       "1  A-2         2  2016-02-08 05:56:20  2016-02-08 11:56:20  39.865420   \n",
       "2  A-3         2  2016-02-08 06:15:39  2016-02-08 12:15:39  39.102660   \n",
       "3  A-4         2  2016-02-08 06:51:45  2016-02-08 12:51:45  41.062130   \n",
       "4  A-5         3  2016-02-08 07:53:43  2016-02-08 13:53:43  39.172393   \n",
       "\n",
       "   Start_Lng    End_Lat    End_Lng  Distance(mi)  \\\n",
       "0 -83.092860  40.112060 -83.031870         3.230   \n",
       "1 -84.062800  39.865010 -84.048730         0.747   \n",
       "2 -84.524680  39.102090 -84.523960         0.055   \n",
       "3 -81.537840  41.062170 -81.535470         0.123   \n",
       "4 -84.492792  39.170476 -84.501798         0.500   \n",
       "\n",
       "                                         Description  ...  Roundabout Station  \\\n",
       "0  Between Sawmill Rd/Exit 20 and OH-315/Olentang...  ...       False   False   \n",
       "1                 At OH-4/OH-235/Exit 41 - Accident.  ...       False   False   \n",
       "2                   At I-71/US-50/Exit 1 - Accident.  ...       False   False   \n",
       "3                    At Dart Ave/Exit 21 - Accident.  ...       False   False   \n",
       "4                 At Mitchell Ave/Exit 6 - Accident.  ...       False   False   \n",
       "\n",
       "    Stop Traffic_Calming Traffic_Signal Turning_Loop Sunrise_Sunset  \\\n",
       "0  False           False          False        False          Night   \n",
       "1  False           False          False        False          Night   \n",
       "2  False           False          False        False          Night   \n",
       "3  False           False          False        False          Night   \n",
       "4  False           False          False        False            Day   \n",
       "\n",
       "  Civil_Twilight Nautical_Twilight Astronomical_Twilight  \n",
       "0          Night             Night                 Night  \n",
       "1          Night             Night                 Night  \n",
       "2          Night             Night                   Day  \n",
       "3          Night               Day                   Day  \n",
       "4            Day               Day                   Day  \n",
       "\n",
       "[5 rows x 47 columns]"
      ]
     },
     "execution_count": 3,
     "metadata": {},
     "output_type": "execute_result"
    }
   ],
   "source": [
    "loaddata.head()   #see datat and start looking to filter out data"
   ]
  },
  {
   "cell_type": "code",
   "execution_count": 4,
   "id": "dafdaafd",
   "metadata": {},
   "outputs": [
    {
     "data": {
      "text/plain": [
       "(2845342, 47)"
      ]
     },
     "execution_count": 4,
     "metadata": {},
     "output_type": "execute_result"
    }
   ],
   "source": [
    "loaddata.shape"
   ]
  },
  {
   "cell_type": "code",
   "execution_count": 5,
   "id": "bef53936",
   "metadata": {},
   "outputs": [
    {
     "name": "stdout",
     "output_type": "stream",
     "text": [
      "[1 2 3 4]\n"
     ]
    }
   ],
   "source": [
    "print(np.unique(loaddata['Severity']))\n",
    "# this data will be our predictive column... lets just confirm we have some severity levels defined."
   ]
  },
  {
   "cell_type": "markdown",
   "id": "4bb58976",
   "metadata": {},
   "source": [
    "# lets find some missing data.. which columns\n",
    "## then we'll seperate and clean up the initial missing data stats"
   ]
  },
  {
   "cell_type": "code",
   "execution_count": 6,
   "id": "7f9b081d",
   "metadata": {},
   "outputs": [
    {
     "data": {
      "text/plain": [
       "Number                   1743911\n",
       "Precipitation(in)         549458\n",
       "Wind_Chill(F)             469643\n",
       "Wind_Speed(mph)           157944\n",
       "Wind_Direction             73775\n",
       "Humidity(%)                73092\n",
       "Weather_Condition          70636\n",
       "Visibility(mi)             70546\n",
       "Temperature(F)             69274\n",
       "Pressure(in)               59200\n",
       "Weather_Timestamp          50736\n",
       "Airport_Code                9549\n",
       "Timezone                    3659\n",
       "Nautical_Twilight           2867\n",
       "Civil_Twilight              2867\n",
       "Sunrise_Sunset              2867\n",
       "Astronomical_Twilight       2867\n",
       "Zipcode                     1319\n",
       "City                         137\n",
       "Street                         2\n",
       "dtype: int64"
      ]
     },
     "execution_count": 6,
     "metadata": {},
     "output_type": "execute_result"
    }
   ],
   "source": [
    "missing_data = loaddata.isna().sum().sort_values(ascending=False)\n",
    "missing_data[missing_data !=0]"
   ]
  },
  {
   "cell_type": "code",
   "execution_count": 7,
   "id": "bfb9239a",
   "metadata": {
    "scrolled": true
   },
   "outputs": [
    {
     "name": "stdout",
     "output_type": "stream",
     "text": [
      "Number 0.6129 % missing values\n",
      "Street 0.0 % missing values\n",
      "City 0.0 % missing values\n",
      "Zipcode 0.0005 % missing values\n",
      "Timezone 0.0013 % missing values\n",
      "Airport_Code 0.0034 % missing values\n",
      "Weather_Timestamp 0.0178 % missing values\n",
      "Temperature(F) 0.0243 % missing values\n",
      "Wind_Chill(F) 0.1651 % missing values\n",
      "Humidity(%) 0.0257 % missing values\n",
      "Pressure(in) 0.0208 % missing values\n",
      "Visibility(mi) 0.0248 % missing values\n",
      "Wind_Direction 0.0259 % missing values\n",
      "Wind_Speed(mph) 0.0555 % missing values\n",
      "Precipitation(in) 0.1931 % missing values\n",
      "Weather_Condition 0.0248 % missing values\n",
      "Sunrise_Sunset 0.001 % missing values\n",
      "Civil_Twilight 0.001 % missing values\n",
      "Nautical_Twilight 0.001 % missing values\n",
      "Astronomical_Twilight 0.001 % missing values\n"
     ]
    }
   ],
   "source": [
    "#Experimenting with some single line code to test same function as above\n",
    "md = [feature for feature in loaddata.columns if loaddata[feature].isnull().sum()>1]\n",
    "\n",
    "for feature in md:\n",
    "    print(feature, np.round(loaddata[feature].isnull().mean(), 4), '% missing values')"
   ]
  },
  {
   "cell_type": "markdown",
   "id": "f7ea370b",
   "metadata": {},
   "source": [
    "# Lets determine: What percentage of our data is missing?"
   ]
  },
  {
   "cell_type": "markdown",
   "id": "644b5d16",
   "metadata": {},
   "source": [
    "# Missing data can be dropped or nulled, or filled with averages, means, or coverted to binary numbers, true/false "
   ]
  },
  {
   "cell_type": "code",
   "execution_count": 8,
   "id": "08b1fc40",
   "metadata": {
    "scrolled": true
   },
   "outputs": [
    {
     "data": {
      "text/plain": [
       "Number                   61.290031\n",
       "Precipitation(in)        19.310789\n",
       "Wind_Chill(F)            16.505678\n",
       "Wind_Speed(mph)           5.550967\n",
       "Wind_Direction            2.592834\n",
       "Humidity(%)               2.568830\n",
       "Weather_Condition         2.482514\n",
       "Visibility(mi)            2.479350\n",
       "Temperature(F)            2.434646\n",
       "Pressure(in)              2.080593\n",
       "Weather_Timestamp         1.783125\n",
       "Airport_Code              0.335601\n",
       "Timezone                  0.128596\n",
       "Nautical_Twilight         0.100761\n",
       "Civil_Twilight            0.100761\n",
       "Sunrise_Sunset            0.100761\n",
       "Astronomical_Twilight     0.100761\n",
       "Zipcode                   0.046356\n",
       "City                      0.004815\n",
       "Street                    0.000070\n",
       "dtype: float64"
      ]
     },
     "execution_count": 8,
     "metadata": {},
     "output_type": "execute_result"
    }
   ],
   "source": [
    "percentage_missing = missing_data[missing_data!=0] / len(loaddata) * 100\n",
    "percentage_missing\n",
    "#Lets take a look"
   ]
  },
  {
   "cell_type": "markdown",
   "id": "5d3435d0",
   "metadata": {},
   "source": [
    "# Lets check hightest occurances of accidents based on cities"
   ]
  },
  {
   "cell_type": "code",
   "execution_count": 9,
   "id": "9bcafbad",
   "metadata": {},
   "outputs": [
    {
     "data": {
      "text/plain": [
       "(array([ 0,  1,  2,  3,  4,  5,  6,  7,  8,  9, 10, 11, 12, 13, 14, 15, 16,\n",
       "        17, 18, 19]),\n",
       " [Text(0, 0, 'CA'),\n",
       "  Text(1, 0, 'FL'),\n",
       "  Text(2, 0, 'TX'),\n",
       "  Text(3, 0, 'OR'),\n",
       "  Text(4, 0, 'VA'),\n",
       "  Text(5, 0, 'NY'),\n",
       "  Text(6, 0, 'PA'),\n",
       "  Text(7, 0, 'MN'),\n",
       "  Text(8, 0, 'NC'),\n",
       "  Text(9, 0, 'SC'),\n",
       "  Text(10, 0, 'MD'),\n",
       "  Text(11, 0, 'AZ'),\n",
       "  Text(12, 0, 'NJ'),\n",
       "  Text(13, 0, 'TN'),\n",
       "  Text(14, 0, 'UT'),\n",
       "  Text(15, 0, 'LA'),\n",
       "  Text(16, 0, 'IL'),\n",
       "  Text(17, 0, 'MI'),\n",
       "  Text(18, 0, 'GA'),\n",
       "  Text(19, 0, 'WA')])"
      ]
     },
     "execution_count": 9,
     "metadata": {},
     "output_type": "execute_result"
    },
    {
     "data": {
      "image/png": "[encoded data removed]",
      "text/plain": [
       "<Figure size 1440x720 with 1 Axes>"
      ]
     },
     "metadata": {
      "needs_background": "light"
     },
     "output_type": "display_data"
    }
   ],
   "source": [
    "fltr_by_state = loaddata[\"State\"].value_counts()\n",
    "x = fltr_by_state.index[:20]\n",
    "y = fltr_by_state.values[:20]\n",
    "plt.plot(x, y)\n",
    "fltr_by_state[:20].plot(figsize=(20,10))\n",
    "plt.gca()\n",
    "plt.title(\"Accidents by State\")\n",
    "plt.xticks(rotation=90)"
   ]
  },
  {
   "cell_type": "code",
   "execution_count": 10,
   "id": "caab75b1",
   "metadata": {},
   "outputs": [
    {
     "data": {
      "text/plain": [
       "Miami           106966\n",
       "Los Angeles      68956\n",
       "Orlando          54691\n",
       "Dallas           41979\n",
       "Houston          39448\n",
       "Charlotte        33152\n",
       "Sacramento       32559\n",
       "San Diego        26627\n",
       "Raleigh          22840\n",
       "Minneapolis      22768\n",
       "Portland         20944\n",
       "Nashville        20267\n",
       "Austin           18301\n",
       "Baton Rouge      18182\n",
       "Phoenix          17143\n",
       "Saint Paul       16869\n",
       "New Orleans      16251\n",
       "Atlanta          15622\n",
       "Jacksonville     14967\n",
       "Richmond         14349\n",
       "Name: City, dtype: int64"
      ]
     },
     "execution_count": 10,
     "metadata": {},
     "output_type": "execute_result"
    }
   ],
   "source": [
    "#focusing out data to the top 20 \n",
    "acc_by_city = loaddata['City'].value_counts()\n",
    "acc_by_city[:20]"
   ]
  },
  {
   "cell_type": "code",
   "execution_count": 11,
   "id": "b0331532",
   "metadata": {},
   "outputs": [
    {
     "data": {
      "text/plain": [
       "[]"
      ]
     },
     "execution_count": 11,
     "metadata": {},
     "output_type": "execute_result"
    },
    {
     "data": {
      "image/png": "[encoded data removed]",
      "text/plain": [
       "<Figure size 720x360 with 1 Axes>"
      ]
     },
     "metadata": {
      "needs_background": "light"
     },
     "output_type": "display_data"
    }
   ],
   "source": [
    "x = acc_by_city[:20].index\n",
    "y = acc_by_city[:20].values\n",
    "plt.plot(x, y)\n",
    "acc_by_city[:20].plot(figsize=(10,5))\n",
    "plt.gca()\n",
    "plt.xticks(rotation=90)\n",
    "plt.plot(figsize=(10,5))"
   ]
  },
  {
   "cell_type": "code",
   "execution_count": 12,
   "id": "3dae5cba",
   "metadata": {},
   "outputs": [
    {
     "data": {
      "text/html": [
       "<div>\n",
       "<style scoped>\n",
       "    .dataframe tbody tr th:only-of-type {\n",
       "        vertical-align: middle;\n",
       "    }\n",
       "\n",
       "    .dataframe tbody tr th {\n",
       "        vertical-align: top;\n",
       "    }\n",
       "\n",
       "    .dataframe thead th {\n",
       "        text-align: right;\n",
       "    }\n",
       "</style>\n",
       "<table border=\"1\" class=\"dataframe\">\n",
       "  <thead>\n",
       "    <tr style=\"text-align: right;\">\n",
       "      <th></th>\n",
       "      <th>Start_Time</th>\n",
       "    </tr>\n",
       "  </thead>\n",
       "  <tbody>\n",
       "    <tr>\n",
       "      <th>count</th>\n",
       "      <td>2845342</td>\n",
       "    </tr>\n",
       "    <tr>\n",
       "      <th>unique</th>\n",
       "      <td>1959333</td>\n",
       "    </tr>\n",
       "    <tr>\n",
       "      <th>top</th>\n",
       "      <td>2021-01-26 16:16:13</td>\n",
       "    </tr>\n",
       "    <tr>\n",
       "      <th>freq</th>\n",
       "      <td>214</td>\n",
       "    </tr>\n",
       "  </tbody>\n",
       "</table>\n",
       "</div>"
      ],
      "text/plain": [
       "                 Start_Time\n",
       "count               2845342\n",
       "unique              1959333\n",
       "top     2021-01-26 16:16:13\n",
       "freq                    214"
      ]
     },
     "execution_count": 12,
     "metadata": {},
     "output_type": "execute_result"
    }
   ],
   "source": [
    "loaddata[[\"Start_Time\"]].describe() # taking a look at time based data"
   ]
  },
  {
   "cell_type": "markdown",
   "id": "ea34f3c6",
   "metadata": {},
   "source": [
    "# General Hypothesis:  Determine what hours are common to high probability accidents\n",
    "\n",
    "## We'll convert our data to a format we can use, then convert the data to 24 HR format, sort it, then graph the data to visually see results"
   ]
  },
  {
   "cell_type": "code",
   "execution_count": 13,
   "id": "abf167e3",
   "metadata": {},
   "outputs": [],
   "source": [
    "ld_Start_Time = pd.to_datetime(loaddata['Start_Time'])\n",
    "type(ld_Start_Time)\n",
    "ld_hour = ld_Start_Time.dt.hour\n",
    "ld_hours_total = ld_hour.value_counts()\n",
    "ld_hours_total = ld_hours_total.sort_index()"
   ]
  },
  {
   "cell_type": "code",
   "execution_count": 14,
   "id": "f0febac0",
   "metadata": {},
   "outputs": [
    {
     "data": {
      "text/plain": [
       "Text(0.5, 1.0, 'Accident Hours')"
      ]
     },
     "execution_count": 14,
     "metadata": {},
     "output_type": "execute_result"
    },
    {
     "data": {
      "image/png": "[encoded data removed]",
      "text/plain": [
       "<Figure size 720x360 with 1 Axes>"
      ]
     },
     "metadata": {
      "needs_background": "light"
     },
     "output_type": "display_data"
    }
   ],
   "source": [
    "ld_hours_total.plot(figsize=(10,5))\n",
    "plt.xlabel(\"Hours of Day\")\n",
    "plt.ylabel(\"Accident_instances\")\n",
    "plt.title(\"Accident Hours\")"
   ]
  },
  {
   "cell_type": "markdown",
   "id": "278ecde4",
   "metadata": {},
   "source": [
    "# Zoom into first Apex between HRS 3-9"
   ]
  },
  {
   "cell_type": "code",
   "execution_count": 15,
   "id": "74539dde",
   "metadata": {},
   "outputs": [
    {
     "data": {
      "text/plain": [
       "Text(0.5, 1.0, 'Accident Hours between 3pm -6pm')"
      ]
     },
     "execution_count": 15,
     "metadata": {},
     "output_type": "execute_result"
    },
    {
     "data": {
      "image/png": "[encoded data removed]",
      "text/plain": [
       "<Figure size 720x360 with 1 Axes>"
      ]
     },
     "metadata": {
      "needs_background": "light"
     },
     "output_type": "display_data"
    }
   ],
   "source": [
    "ld_hours_total[3:10].plot(figsize=(10,5))\n",
    "plt.xlabel(\"Hours of Day\")\n",
    "plt.ylabel(\"Accident_instances\")\n",
    "plt.title(\"Accident Hours between 3pm -6pm\")"
   ]
  },
  {
   "cell_type": "markdown",
   "id": "3bd0d635",
   "metadata": {},
   "source": [
    "# Zoom into HRS between 3pm-6pm"
   ]
  },
  {
   "cell_type": "code",
   "execution_count": 16,
   "id": "8dc29d57",
   "metadata": {},
   "outputs": [
    {
     "data": {
      "text/plain": [
       "Text(0.5, 1.0, 'Accident Hours between 3pm -6pm')"
      ]
     },
     "execution_count": 16,
     "metadata": {},
     "output_type": "execute_result"
    },
    {
     "data": {
      "image/png": "[encoded data removed]",
      "text/plain": [
       "<Figure size 720x360 with 1 Axes>"
      ]
     },
     "metadata": {
      "needs_background": "light"
     },
     "output_type": "display_data"
    }
   ],
   "source": [
    "ld_hours_total[10:20].plot(figsize=(10,5))\n",
    "plt.xlabel(\"Hours of Day\")\n",
    "plt.ylabel(\"Accident_instances\")\n",
    "plt.title(\"Accident Hours between 3pm -6pm\")"
   ]
  },
  {
   "cell_type": "markdown",
   "id": "a4f54a17",
   "metadata": {},
   "source": [
    "# What day of the month is the most for accidents to occur\n",
    "## Since the 31st day is a variable between each month the lowest occurrance should be on this day... Lets verify:"
   ]
  },
  {
   "cell_type": "code",
   "execution_count": 17,
   "id": "9343fd0e",
   "metadata": {},
   "outputs": [
    {
     "data": {
      "text/plain": [
       "<AxesSubplot:>"
      ]
     },
     "execution_count": 17,
     "metadata": {},
     "output_type": "execute_result"
    },
    {
     "data": {
      "image/png": "[encoded data removed]",
      "text/plain": [
       "<Figure size 720x360 with 1 Axes>"
      ]
     },
     "metadata": {
      "needs_background": "light"
     },
     "output_type": "display_data"
    }
   ],
   "source": [
    "ld_Start_Time_day = ld_Start_Time.dt.day.sort_index()\n",
    "ld_Start_Time_day.value_counts().sort_index().plot(figsize=(10,5))"
   ]
  },
  {
   "cell_type": "markdown",
   "id": "1aca5a06",
   "metadata": {},
   "source": [
    "# We have common hours of daily accidents, lets dig deeper to determine other factors of these accidents.  Let's review weather conditions."
   ]
  },
  {
   "cell_type": "code",
   "execution_count": 18,
   "id": "0443cb54",
   "metadata": {
    "scrolled": true
   },
   "outputs": [
    {
     "name": "stdout",
     "output_type": "stream",
     "text": [
      "Fair                       1107194\n",
      "Mostly Cloudy               363959\n",
      "Cloudy                      348767\n",
      "Partly Cloudy               249939\n",
      "Clear                       173823\n",
      "Light Rain                  128403\n",
      "Overcast                     84882\n",
      "Scattered Clouds             45132\n",
      "Light Snow                   43752\n",
      "Fog                          41226\n",
      "Haze                         36354\n",
      "Rain                         31044\n",
      "Fair / Windy                 15195\n",
      "Heavy Rain                   11824\n",
      "Smoke                         7200\n",
      "Light Drizzle                 7041\n",
      "Thunder in the Vicinity       6944\n",
      "Cloudy / Windy                6839\n",
      "T-Storm                       6546\n",
      "Mostly Cloudy / Windy         6297\n",
      "Name: Weather_Condition, dtype: int64\n",
      "Snow and Thunder / Windy               2\n",
      "Freezing Rain / Windy                  2\n",
      "Funnel Cloud                           2\n",
      "Heavy Ice Pellets                      2\n",
      "Sand / Dust Whirlwinds / Windy         1\n",
      "Drifting Snow                          1\n",
      "Heavy Thunderstorms with Small Hail    1\n",
      "Light Haze                             1\n",
      "Heavy Rain Showers                     1\n",
      "Low Drifting Snow                      1\n",
      "Heavy Blowing Snow                     1\n",
      "Dust Whirls                            1\n",
      "Light Fog                              1\n",
      "Sand / Dust Whirls Nearby              1\n",
      "Heavy Rain Shower / Windy              1\n",
      "Sleet / Windy                          1\n",
      "Mist / Windy                           1\n",
      "Blowing Sand                           1\n",
      "Heavy Freezing Rain                    1\n",
      "Thunder and Hail / Windy               1\n",
      "Name: Weather_Condition, dtype: int64\n"
     ]
    }
   ],
   "source": [
    "wed_con = loaddata['Weather_Condition'].value_counts()\n",
    "print(wed_con[:20])  #list the top 20 \n",
    "print(wed_con[-20:]) #list the lowest 20"
   ]
  },
  {
   "cell_type": "code",
   "execution_count": 19,
   "id": "a2fcda3c",
   "metadata": {},
   "outputs": [
    {
     "name": "stdout",
     "output_type": "stream",
     "text": [
      "<class 'pandas.core.series.Series'>\n",
      "Index(['Fair', 'Mostly Cloudy', 'Cloudy', 'Partly Cloudy', 'Clear',\n",
      "       'Light Rain', 'Overcast', 'Scattered Clouds', 'Light Snow', 'Fog'],\n",
      "      dtype='object')\n",
      "[1107194  363959  348767  249939  173823  128403   84882   45132   43752\n",
      "   41226]\n"
     ]
    }
   ],
   "source": [
    "# Printout a chart of top 20 Weather Conditions observed in an accident\n",
    "print(type(wed_con))\n",
    "#wed_con = pd.DataFrame(wed_con[:20])\n",
    "wed_con = wed_con[:10]\n",
    "print(wed_con.index)\n",
    "print(wed_con.values)"
   ]
  },
  {
   "cell_type": "code",
   "execution_count": 20,
   "id": "1366dec2",
   "metadata": {
    "scrolled": false
   },
   "outputs": [
    {
     "data": {
      "text/plain": [
       "<AxesSubplot:title={'center':'Top 20 Accident Conditions based on Weather'}, xlabel='Occurrances', ylabel='Weather Conditions During Accidents'>"
      ]
     },
     "execution_count": 20,
     "metadata": {},
     "output_type": "execute_result"
    },
    {
     "data": {
      "image/png": "[encoded data removed]",
      "text/plain": [
       "<Figure size 720x360 with 1 Axes>"
      ]
     },
     "metadata": {
      "needs_background": "light"
     },
     "output_type": "display_data"
    }
   ],
   "source": [
    "plt.plot(wed_con.index, np.array(wed_con.values).tolist())\n",
    "\n",
    "plt.axis(ymin=1000, ymax=1200000)\n",
    "plt.xlabel(\"Occurrances\", fontsize=10)\n",
    "plt.ylabel(\"Weather Conditions During Accidents\",fontsize=10)\n",
    "plt.title(\"Top 20 Accident Conditions based on Weather\")\n",
    "plt.xticks(rotation=90)\n",
    "\n",
    "for x,y in zip(wed_con.index,np.array(wed_con.values).tolist()):\n",
    "\n",
    "    label = \"{:.2f}\".format(y)\n",
    "\n",
    "    plt.annotate(label, # this is the text\n",
    "                 (x,y), # these are the coordinates to position the label\n",
    "                 textcoords=\"offset points\", # how to position the text\n",
    "                 xytext=(10,10), # distance from text to points (x,y)\n",
    "                 ha='center',  # horizontal alignment can be left, right or center\n",
    "                 rotation=60)  # rotate text 60 degrees\n",
    "\n",
    "wed_con.plot(figsize=(10,5))\n"
   ]
  },
  {
   "cell_type": "markdown",
   "id": "f24090c7",
   "metadata": {},
   "source": [
    "### Removing data that doesnt provide us information on accidents, these columns will be removed to clean up the data for further processing"
   ]
  },
  {
   "cell_type": "code",
   "execution_count": 21,
   "id": "8ea9a804",
   "metadata": {},
   "outputs": [],
   "source": [
    "loaddata.drop(loaddata[['End_Lat','End_Lng','Amenity','Traffic_Calming']], axis=1, inplace=True)"
   ]
  },
  {
   "cell_type": "code",
   "execution_count": 22,
   "id": "6f8a95bc",
   "metadata": {},
   "outputs": [
    {
     "data": {
      "text/plain": [
       "(2845342, 43)"
      ]
     },
     "execution_count": 22,
     "metadata": {},
     "output_type": "execute_result"
    }
   ],
   "source": [
    "loaddata.shape\n"
   ]
  },
  {
   "cell_type": "code",
   "execution_count": 23,
   "id": "70f19d6c",
   "metadata": {},
   "outputs": [
    {
     "data": {
      "text/plain": [
       "Index(['ID', 'Severity', 'Start_Time', 'End_Time', 'Start_Lat', 'Start_Lng',\n",
       "       'Distance(mi)', 'Description', 'Number', 'Street', 'Side', 'City',\n",
       "       'County', 'State', 'Zipcode', 'Country', 'Timezone', 'Airport_Code',\n",
       "       'Weather_Timestamp', 'Temperature(F)', 'Wind_Chill(F)', 'Humidity(%)',\n",
       "       'Pressure(in)', 'Visibility(mi)', 'Wind_Direction', 'Wind_Speed(mph)',\n",
       "       'Precipitation(in)', 'Weather_Condition', 'Bump', 'Crossing',\n",
       "       'Give_Way', 'Junction', 'No_Exit', 'Railway', 'Roundabout', 'Station',\n",
       "       'Stop', 'Traffic_Signal', 'Turning_Loop', 'Sunrise_Sunset',\n",
       "       'Civil_Twilight', 'Nautical_Twilight', 'Astronomical_Twilight'],\n",
       "      dtype='object')"
      ]
     },
     "execution_count": 23,
     "metadata": {},
     "output_type": "execute_result"
    }
   ],
   "source": [
    "#20 Safest Cities per accidents\n",
    "import numpy as np\n",
    "loaddata.columns"
   ]
  },
  {
   "cell_type": "markdown",
   "id": "c63221ab",
   "metadata": {},
   "source": [
    "# Find accidents based on \"WIND direction\""
   ]
  },
  {
   "cell_type": "code",
   "execution_count": 24,
   "id": "42010513",
   "metadata": {},
   "outputs": [
    {
     "data": {
      "text/plain": [
       "[<matplotlib.lines.Line2D at 0x7f1bdfad8310>]"
      ]
     },
     "execution_count": 24,
     "metadata": {},
     "output_type": "execute_result"
    },
    {
     "data": {
      "image/png": "[encoded data removed]",
      "text/plain": [
       "<Figure size 432x288 with 1 Axes>"
      ]
     },
     "metadata": {
      "needs_background": "light"
     },
     "output_type": "display_data"
    }
   ],
   "source": [
    "# Lets clear out the bad data, synch up names, and directions to LETTER descriptions\n",
    "loaddata['Wind_Direction']=loaddata['Wind_Direction'].replace(['Calm'],['CALM'])\n",
    "loaddata['Wind_Direction']=loaddata['Wind_Direction'].replace(['West'],['W'])\n",
    "loaddata['Wind_Direction']=loaddata['Wind_Direction'].replace(['South'],['S'])\n",
    "loaddata['Wind_Direction']=loaddata['Wind_Direction'].replace(['North'],['N'])\n",
    "loaddata['Wind_Direction']=loaddata['Wind_Direction'].replace(['East'],['E'])\n",
    "loaddata['Wind_Direction']=loaddata['Wind_Direction'].replace(['Variable'],['VAR'])\n",
    "\n",
    "windir = loaddata[\"Wind_Direction\"].value_counts()\n",
    "#print(windir)  used for cleaning up the data\n",
    "\n",
    "plt.gca()\n",
    "plt.title(\"Accidents occurances based on Wind_Direction\")\n",
    "plt.xticks(rotation=90)\n",
    "plt.plot(windir)"
   ]
  },
  {
   "cell_type": "markdown",
   "id": "94a51551",
   "metadata": {},
   "source": [
    "# Using City and state lets find out safest state, then safest city "
   ]
  },
  {
   "cell_type": "code",
   "execution_count": 25,
   "id": "f0199685",
   "metadata": {},
   "outputs": [
    {
     "data": {
      "text/plain": [
       "[<matplotlib.lines.Line2D at 0x7f1bdfa4c790>]"
      ]
     },
     "execution_count": 25,
     "metadata": {},
     "output_type": "execute_result"
    },
    {
     "data": {
      "image/png": "[encoded data removed]",
      "text/plain": [
       "<Figure size 432x288 with 1 Axes>"
      ]
     },
     "metadata": {
      "needs_background": "light"
     },
     "output_type": "display_data"
    }
   ],
   "source": [
    "safest_state = loaddata[\"State\"].value_counts()\n",
    "plt.gca()\n",
    "plt.xticks(rotation=90)\n",
    "plt.title(\"The lowest occurances is the safest State\")\n",
    "plt.plot(safest_state[-10:].index, safest_state[-10:].values)\n"
   ]
  },
  {
   "cell_type": "code",
   "execution_count": 26,
   "id": "4f088c8e",
   "metadata": {},
   "outputs": [
    {
     "name": "stdout",
     "output_type": "stream",
     "text": [
      "Safest Cites in SD: _with accidents equal to 1_\n",
      "[['Lemmon' 'Okaton' 'Spencer' 'Selby' 'Wasta' 'Newell' 'Lake Andes'\n",
      "  'Piedmont' 'Vivian' 'Hill City' 'White River' 'Brandon' 'Salem'\n",
      "  'Fairfax']\n",
      " ['Hurley' 'Belle Fourche' 'Batesland' 'Bridgewater' 'Jefferson'\n",
      "  'Iroquois' 'Springfield' 'Geddes' 'Montrose' 'Valley Springs' 'Wolsey'\n",
      "  'Hartford' 'Burbank' 'Arlington']]\n"
     ]
    }
   ],
   "source": [
    "# using the above data, lets find the safest towns, cities with results = 1\n",
    "safestcity_SD = loaddata['State']=='SD'\n",
    "safestcity_SD_city = loaddata.loc[safestcity_SD]['City'].value_counts() \n",
    "\n",
    "print(\"Safest Cites in SD: _with accidents equal to 1_\")\n",
    "print(np.array([sdsd for sdsd in safestcity_SD_city.index if safestcity_SD_city[sdsd]==1]).reshape(2,14))"
   ]
  },
  {
   "cell_type": "code",
   "execution_count": 27,
   "id": "a4b9ba2c",
   "metadata": {},
   "outputs": [
    {
     "name": "stdout",
     "output_type": "stream",
     "text": [
      "Safest Cites in VT: _with accidents equal to 1_\n",
      "[['Guilford' 'Essex Junction' 'Northfield' 'Barnet' 'Cabot' 'Franklin'\n",
      "  'Randolph Center' 'Lowell' 'Ferrisburgh' 'North Clarendon'\n",
      "  'Stockbridge' 'Bellows Falls' 'Castleton']\n",
      " ['Woodstock' 'North Hero' 'Stowe' 'Bristol' 'Wolcott' 'Hyde Park'\n",
      "  'West Charleston' 'Underhill' 'Concord' 'Cuttingsville' 'Richford'\n",
      "  'Ascutney' 'West Dover']\n",
      " ['North Pownal' 'Derby' 'Vernon' 'Canaan' 'Jeffersonville' 'Irasburg'\n",
      "  'Peru' 'North Ferrisburgh' 'East Dorset' 'Highgate Center'\n",
      "  'Manchester Center' 'Bridgewater Corners' 'Plainfield']]\n"
     ]
    }
   ],
   "source": [
    "safestcity_VT = loaddata['State']=='VT'\n",
    "safestcity_VT_city = loaddata.loc[safestcity_VT]['City'].value_counts()\n",
    "#print(safestcity_VT_city)   #taking the last 10 as they have the lowest counts \n",
    "\n",
    "print(\"Safest Cites in VT: _with accidents equal to 1_\")\n",
    "print(np.array([sdvt for sdvt in safestcity_VT_city.index if safestcity_VT_city[sdvt]==1]).reshape(3,13))"
   ]
  },
  {
   "cell_type": "code",
   "execution_count": 28,
   "id": "e3fc37b4",
   "metadata": {},
   "outputs": [
    {
     "name": "stdout",
     "output_type": "stream",
     "text": [
      "Safest Cites in WY: _with accidents equal to 1_\n",
      "['Shell', 'Midwest', 'Lusk', 'Lingle', 'Ranchester', 'Kemmerer', 'Worland', 'Basin', 'Bondurant', 'Beulah', 'Daniel', 'Saratoga', 'Boulder', 'Alcova', 'Buford', 'Tie Siding']\n"
     ]
    }
   ],
   "source": [
    "safestcity_WY = loaddata['State']=='WY'\n",
    "safestcity_WY_city = loaddata.loc[safestcity_WY]['City'].value_counts()\n",
    "#print(safestcity_WY_city)   #taking the last 10 as they have the lowest counts\n",
    "\n",
    "print(\"Safest Cites in WY: _with accidents equal to 1_\")\n",
    "print([sdwy for sdwy in safestcity_WY_city.index if safestcity_WY_city[sdwy]==1])"
   ]
  },
  {
   "cell_type": "markdown",
   "id": "f39cf99b",
   "metadata": {},
   "source": [
    "# Lets map the entire US for accidents and plot it. \n",
    "## Hypothesis:  Highly dense populations, & freeways should be a factor in accident occurances."
   ]
  },
  {
   "cell_type": "code",
   "execution_count": 29,
   "id": "beb6e750",
   "metadata": {},
   "outputs": [
    {
     "data": {
      "image/png": "[encoded data removed]",
      "text/plain": [
       "<Figure size 432x288 with 1 Axes>"
      ]
     },
     "metadata": {
      "needs_background": "light"
     },
     "output_type": "display_data"
    }
   ],
   "source": [
    "#plotting lat and long for data visualization\n",
    "fltrUS = loaddata['Country'] == 'US'\n",
    "plt.scatter(x=loaddata.loc[fltrUS]['Start_Lng'],y=loaddata.loc[fltrUS]['Start_Lat'])\n",
    "plt.rcParams[\"figure.figsize\"] = (50,35)\n",
    "plt.show()  "
   ]
  },
  {
   "cell_type": "markdown",
   "id": "24e363e0",
   "metadata": {},
   "source": [
    "# Data Exploration Conclusion:  \n",
    "Most accidents occur during 05am-08am, and between 3pm-5pm, during commuter hrs.\n",
    "20 most dangerous cities for accidents are in highly populated regions of the US.\n",
    "20 safest cities will be noted at the bottom, listed by top 3 STATES with lowest occurance of accidents.\n",
    "Weather wise... the highest occurrances of accidents were on fair weather days, with no winds (calm)."
   ]
  },
  {
   "cell_type": "code",
   "execution_count": 30,
   "id": "885e27eb",
   "metadata": {},
   "outputs": [],
   "source": [
    "def plotCorrelationMatrix(df, graphWidth):\n",
    "    df = df.dropna('columns') # drop columns with NaN\n",
    "    df = df[[col for col in df if df[col].nunique() > 1]] # keep columns where there are more than 1 unique values\n",
    "    if df.shape[1] < 2:\n",
    "        print(f'No correlation plots shown: The number of non-NaN or constant columns ({df.shape[1]}) is less than 2')\n",
    "        return\n",
    "    corr = df.corr()\n",
    "    plt.figure(num=None, figsize=(graphWidth, graphWidth), dpi=80, facecolor='w', edgecolor='k')\n",
    "    corrMat = plt.matshow(corr, fignum = 1)\n",
    "    plt.xticks(range(len(corr.columns)), corr.columns, rotation=90)\n",
    "    plt.yticks(range(len(corr.columns)), corr.columns)\n",
    "    plt.gca().xaxis.tick_bottom()\n",
    "    plt.colorbar(corrMat)\n",
    "    plt.title('Correlation Matrix, fontsize=15')\n",
    "    plt.show()\n"
   ]
  },
  {
   "cell_type": "code",
   "execution_count": 32,
   "id": "c73463ca",
   "metadata": {},
   "outputs": [
    {
     "name": "stderr",
     "output_type": "stream",
     "text": [
      "/tmp/ipykernel_225812/1254954468.py:2: FutureWarning: In a future version of pandas all arguments of DataFrame.dropna will be keyword-only\n",
      "  df = df.dropna('columns') # drop columns with NaN\n"
     ]
    },
    {
     "data": {
      "image/png": "[encoded data removed]",
      "text/plain": [
       "<Figure size 640x640 with 2 Axes>"
      ]
     },
     "metadata": {},
     "output_type": "display_data"
    }
   ],
   "source": [
    "plotCorrelationMatrix(loaddata, 8)\n"
   ]
  },
  {
   "cell_type": "code",
   "execution_count": null,
   "id": "03163790",
   "metadata": {},
   "outputs": [],
   "source": []
  },
  {
   "cell_type": "markdown",
   "id": "bf0e8671",
   "metadata": {},
   "source": [
    "# Moving on to further analysis of US Accidents lets dig further into the data, and create a model for predictive testing"
   ]
  },
  {
   "cell_type": "markdown",
   "id": "7977676b",
   "metadata": {},
   "source": [
    "\n",
    "# Clean up this data... drop some feilds we dont think are useful"
   ]
  },
  {
   "cell_type": "code",
   "execution_count": 33,
   "id": "0401f9b5",
   "metadata": {},
   "outputs": [
    {
     "data": {
      "text/plain": [
       "Index(['ID', 'Severity', 'Start_Time', 'End_Time', 'Start_Lat', 'Start_Lng',\n",
       "       'Distance(mi)', 'Description', 'Number', 'Street', 'Side', 'City',\n",
       "       'County', 'State', 'Zipcode', 'Country', 'Timezone', 'Airport_Code',\n",
       "       'Weather_Timestamp', 'Temperature(F)', 'Wind_Chill(F)', 'Humidity(%)',\n",
       "       'Pressure(in)', 'Visibility(mi)', 'Wind_Direction', 'Wind_Speed(mph)',\n",
       "       'Precipitation(in)', 'Weather_Condition', 'Bump', 'Crossing',\n",
       "       'Give_Way', 'Junction', 'No_Exit', 'Railway', 'Roundabout', 'Station',\n",
       "       'Stop', 'Traffic_Signal', 'Turning_Loop', 'Sunrise_Sunset',\n",
       "       'Civil_Twilight', 'Nautical_Twilight', 'Astronomical_Twilight'],\n",
       "      dtype='object')"
      ]
     },
     "execution_count": 33,
     "metadata": {},
     "output_type": "execute_result"
    }
   ],
   "source": [
    "loaddata.columns"
   ]
  },
  {
   "cell_type": "markdown",
   "id": "b01e1045",
   "metadata": {},
   "source": [
    "# Revisiting Missing Data... lets see what we have based on our new DataFrame"
   ]
  },
  {
   "cell_type": "code",
   "execution_count": 34,
   "id": "6e7c0966",
   "metadata": {
    "scrolled": true
   },
   "outputs": [
    {
     "data": {
      "text/plain": [
       "ID                             0\n",
       "Severity                       0\n",
       "Start_Time                     0\n",
       "End_Time                       0\n",
       "Start_Lat                      0\n",
       "Start_Lng                      0\n",
       "Distance(mi)                   0\n",
       "Description                    0\n",
       "Number                   1743911\n",
       "Street                         2\n",
       "Side                           0\n",
       "City                         137\n",
       "County                         0\n",
       "State                          0\n",
       "Zipcode                     1319\n",
       "Country                        0\n",
       "Timezone                    3659\n",
       "Airport_Code                9549\n",
       "Weather_Timestamp          50736\n",
       "Temperature(F)             69274\n",
       "Wind_Chill(F)             469643\n",
       "Humidity(%)                73092\n",
       "Pressure(in)               59200\n",
       "Visibility(mi)             70546\n",
       "Wind_Direction             73775\n",
       "Wind_Speed(mph)           157944\n",
       "Precipitation(in)         549458\n",
       "Weather_Condition          70636\n",
       "Bump                           0\n",
       "Crossing                       0\n",
       "Give_Way                       0\n",
       "Junction                       0\n",
       "No_Exit                        0\n",
       "Railway                        0\n",
       "Roundabout                     0\n",
       "Station                        0\n",
       "Stop                           0\n",
       "Traffic_Signal                 0\n",
       "Turning_Loop                   0\n",
       "Sunrise_Sunset              2867\n",
       "Civil_Twilight              2867\n",
       "Nautical_Twilight           2867\n",
       "Astronomical_Twilight       2867\n",
       "dtype: int64"
      ]
     },
     "execution_count": 34,
     "metadata": {},
     "output_type": "execute_result"
    }
   ],
   "source": [
    "#some data will contain no data... we should drop those rows\n",
    "\n",
    "loaddata.isnull().sum()"
   ]
  },
  {
   "cell_type": "code",
   "execution_count": 36,
   "id": "d5e6810c",
   "metadata": {},
   "outputs": [
    {
     "ename": "KeyError",
     "evalue": "\"None of [Index(['Distance(mi)', 'Description', 'Number'], dtype='object')] are in the [columns]\"",
     "output_type": "error",
     "traceback": [
      "\u001b[0;31m---------------------------------------------------------------------------\u001b[0m",
      "\u001b[0;31mKeyError\u001b[0m                                  Traceback (most recent call last)",
      "\u001b[0;32m/tmp/ipykernel_225812/3604935634.py\u001b[0m in \u001b[0;36m<module>\u001b[0;34m\u001b[0m\n\u001b[1;32m      1\u001b[0m \u001b[0;31m#need to drop distance, description and number as they will not fit our predictive model\u001b[0m\u001b[0;34m\u001b[0m\u001b[0;34m\u001b[0m\u001b[0m\n\u001b[1;32m      2\u001b[0m \u001b[0;31m#labels with text are not useful\u001b[0m\u001b[0;34m\u001b[0m\u001b[0;34m\u001b[0m\u001b[0m\n\u001b[0;32m----> 3\u001b[0;31m \u001b[0mloaddata\u001b[0m\u001b[0;34m.\u001b[0m\u001b[0mdrop\u001b[0m\u001b[0;34m(\u001b[0m\u001b[0mloaddata\u001b[0m\u001b[0;34m[\u001b[0m\u001b[0;34m[\u001b[0m\u001b[0;34m'Distance(mi)'\u001b[0m\u001b[0;34m,\u001b[0m\u001b[0;34m'Description'\u001b[0m\u001b[0;34m,\u001b[0m\u001b[0;34m'Number'\u001b[0m\u001b[0;34m]\u001b[0m\u001b[0;34m]\u001b[0m\u001b[0;34m,\u001b[0m \u001b[0maxis\u001b[0m\u001b[0;34m=\u001b[0m\u001b[0;36m1\u001b[0m\u001b[0;34m,\u001b[0m \u001b[0minplace\u001b[0m\u001b[0;34m=\u001b[0m\u001b[0;32mTrue\u001b[0m\u001b[0;34m)\u001b[0m\u001b[0;34m\u001b[0m\u001b[0;34m\u001b[0m\u001b[0m\n\u001b[0m\u001b[1;32m      4\u001b[0m \u001b[0mloaddata\u001b[0m\u001b[0;34m.\u001b[0m\u001b[0mdrop\u001b[0m\u001b[0;34m(\u001b[0m\u001b[0mloaddata\u001b[0m\u001b[0;34m[\u001b[0m\u001b[0;34m[\u001b[0m\u001b[0;34m'Start_Time'\u001b[0m\u001b[0;34m,\u001b[0m\u001b[0;34m'End_Time'\u001b[0m\u001b[0;34m,\u001b[0m\u001b[0;34m'Start_Lat'\u001b[0m\u001b[0;34m,\u001b[0m\u001b[0;34m'Start_Lng'\u001b[0m\u001b[0;34m,\u001b[0m\u001b[0;34m'City'\u001b[0m\u001b[0;34m,\u001b[0m\u001b[0;34m'State'\u001b[0m\u001b[0;34m,\u001b[0m\u001b[0;34m'Country'\u001b[0m\u001b[0;34m]\u001b[0m\u001b[0;34m]\u001b[0m\u001b[0;34m,\u001b[0m \u001b[0maxis\u001b[0m\u001b[0;34m=\u001b[0m\u001b[0;36m1\u001b[0m\u001b[0;34m,\u001b[0m \u001b[0minplace\u001b[0m\u001b[0;34m=\u001b[0m\u001b[0;32mTrue\u001b[0m\u001b[0;34m)\u001b[0m\u001b[0;34m\u001b[0m\u001b[0;34m\u001b[0m\u001b[0m\n\u001b[1;32m      5\u001b[0m \u001b[0mloaddata\u001b[0m\u001b[0;34m.\u001b[0m\u001b[0mdrop\u001b[0m\u001b[0;34m(\u001b[0m\u001b[0mloaddata\u001b[0m\u001b[0;34m[\u001b[0m\u001b[0;34m[\u001b[0m\u001b[0;34m'Zipcode'\u001b[0m\u001b[0;34m,\u001b[0m\u001b[0;34m'TimeZone'\u001b[0m\u001b[0;34m,\u001b[0m\u001b[0;34m'Airport_Code'\u001b[0m\u001b[0;34m,\u001b[0m\u001b[0;34m'Weather_Timestamp'\u001b[0m\u001b[0;34m]\u001b[0m\u001b[0;34m]\u001b[0m\u001b[0;34m,\u001b[0m \u001b[0maxis\u001b[0m\u001b[0;34m=\u001b[0m\u001b[0;36m1\u001b[0m\u001b[0;34m,\u001b[0m \u001b[0minplace\u001b[0m\u001b[0;34m=\u001b[0m\u001b[0;32mTrue\u001b[0m\u001b[0;34m)\u001b[0m\u001b[0;34m\u001b[0m\u001b[0;34m\u001b[0m\u001b[0m\n",
      "\u001b[0;32m~/anaconda3/lib/python3.9/site-packages/pandas/core/frame.py\u001b[0m in \u001b[0;36m__getitem__\u001b[0;34m(self, key)\u001b[0m\n\u001b[1;32m   3462\u001b[0m             \u001b[0;32mif\u001b[0m \u001b[0mis_iterator\u001b[0m\u001b[0;34m(\u001b[0m\u001b[0mkey\u001b[0m\u001b[0;34m)\u001b[0m\u001b[0;34m:\u001b[0m\u001b[0;34m\u001b[0m\u001b[0;34m\u001b[0m\u001b[0m\n\u001b[1;32m   3463\u001b[0m                 \u001b[0mkey\u001b[0m \u001b[0;34m=\u001b[0m \u001b[0mlist\u001b[0m\u001b[0;34m(\u001b[0m\u001b[0mkey\u001b[0m\u001b[0;34m)\u001b[0m\u001b[0;34m\u001b[0m\u001b[0;34m\u001b[0m\u001b[0m\n\u001b[0;32m-> 3464\u001b[0;31m             \u001b[0mindexer\u001b[0m \u001b[0;34m=\u001b[0m \u001b[0mself\u001b[0m\u001b[0;34m.\u001b[0m\u001b[0mloc\u001b[0m\u001b[0;34m.\u001b[0m\u001b[0m_get_listlike_indexer\u001b[0m\u001b[0;34m(\u001b[0m\u001b[0mkey\u001b[0m\u001b[0;34m,\u001b[0m \u001b[0maxis\u001b[0m\u001b[0;34m=\u001b[0m\u001b[0;36m1\u001b[0m\u001b[0;34m)\u001b[0m\u001b[0;34m[\u001b[0m\u001b[0;36m1\u001b[0m\u001b[0;34m]\u001b[0m\u001b[0;34m\u001b[0m\u001b[0;34m\u001b[0m\u001b[0m\n\u001b[0m\u001b[1;32m   3465\u001b[0m \u001b[0;34m\u001b[0m\u001b[0m\n\u001b[1;32m   3466\u001b[0m         \u001b[0;31m# take() does not accept boolean indexers\u001b[0m\u001b[0;34m\u001b[0m\u001b[0;34m\u001b[0m\u001b[0m\n",
      "\u001b[0;32m~/anaconda3/lib/python3.9/site-packages/pandas/core/indexing.py\u001b[0m in \u001b[0;36m_get_listlike_indexer\u001b[0;34m(self, key, axis)\u001b[0m\n\u001b[1;32m   1312\u001b[0m             \u001b[0mkeyarr\u001b[0m\u001b[0;34m,\u001b[0m \u001b[0mindexer\u001b[0m\u001b[0;34m,\u001b[0m \u001b[0mnew_indexer\u001b[0m \u001b[0;34m=\u001b[0m \u001b[0max\u001b[0m\u001b[0;34m.\u001b[0m\u001b[0m_reindex_non_unique\u001b[0m\u001b[0;34m(\u001b[0m\u001b[0mkeyarr\u001b[0m\u001b[0;34m)\u001b[0m\u001b[0;34m\u001b[0m\u001b[0;34m\u001b[0m\u001b[0m\n\u001b[1;32m   1313\u001b[0m \u001b[0;34m\u001b[0m\u001b[0m\n\u001b[0;32m-> 1314\u001b[0;31m         \u001b[0mself\u001b[0m\u001b[0;34m.\u001b[0m\u001b[0m_validate_read_indexer\u001b[0m\u001b[0;34m(\u001b[0m\u001b[0mkeyarr\u001b[0m\u001b[0;34m,\u001b[0m \u001b[0mindexer\u001b[0m\u001b[0;34m,\u001b[0m \u001b[0maxis\u001b[0m\u001b[0;34m)\u001b[0m\u001b[0;34m\u001b[0m\u001b[0;34m\u001b[0m\u001b[0m\n\u001b[0m\u001b[1;32m   1315\u001b[0m \u001b[0;34m\u001b[0m\u001b[0m\n\u001b[1;32m   1316\u001b[0m         if needs_i8_conversion(ax.dtype) or isinstance(\n",
      "\u001b[0;32m~/anaconda3/lib/python3.9/site-packages/pandas/core/indexing.py\u001b[0m in \u001b[0;36m_validate_read_indexer\u001b[0;34m(self, key, indexer, axis)\u001b[0m\n\u001b[1;32m   1372\u001b[0m                 \u001b[0;32mif\u001b[0m \u001b[0muse_interval_msg\u001b[0m\u001b[0;34m:\u001b[0m\u001b[0;34m\u001b[0m\u001b[0;34m\u001b[0m\u001b[0m\n\u001b[1;32m   1373\u001b[0m                     \u001b[0mkey\u001b[0m \u001b[0;34m=\u001b[0m \u001b[0mlist\u001b[0m\u001b[0;34m(\u001b[0m\u001b[0mkey\u001b[0m\u001b[0;34m)\u001b[0m\u001b[0;34m\u001b[0m\u001b[0;34m\u001b[0m\u001b[0m\n\u001b[0;32m-> 1374\u001b[0;31m                 \u001b[0;32mraise\u001b[0m \u001b[0mKeyError\u001b[0m\u001b[0;34m(\u001b[0m\u001b[0;34mf\"None of [{key}] are in the [{axis_name}]\"\u001b[0m\u001b[0;34m)\u001b[0m\u001b[0;34m\u001b[0m\u001b[0;34m\u001b[0m\u001b[0m\n\u001b[0m\u001b[1;32m   1375\u001b[0m \u001b[0;34m\u001b[0m\u001b[0m\n\u001b[1;32m   1376\u001b[0m             \u001b[0mnot_found\u001b[0m \u001b[0;34m=\u001b[0m \u001b[0mlist\u001b[0m\u001b[0;34m(\u001b[0m\u001b[0mensure_index\u001b[0m\u001b[0;34m(\u001b[0m\u001b[0mkey\u001b[0m\u001b[0;34m)\u001b[0m\u001b[0;34m[\u001b[0m\u001b[0mmissing_mask\u001b[0m\u001b[0;34m.\u001b[0m\u001b[0mnonzero\u001b[0m\u001b[0;34m(\u001b[0m\u001b[0;34m)\u001b[0m\u001b[0;34m[\u001b[0m\u001b[0;36m0\u001b[0m\u001b[0;34m]\u001b[0m\u001b[0;34m]\u001b[0m\u001b[0;34m.\u001b[0m\u001b[0munique\u001b[0m\u001b[0;34m(\u001b[0m\u001b[0;34m)\u001b[0m\u001b[0;34m)\u001b[0m\u001b[0;34m\u001b[0m\u001b[0;34m\u001b[0m\u001b[0m\n",
      "\u001b[0;31mKeyError\u001b[0m: \"None of [Index(['Distance(mi)', 'Description', 'Number'], dtype='object')] are in the [columns]\""
     ]
    }
   ],
   "source": [
    "#need to drop distance, description and number as they will not fit our predictive model\n",
    "#labels with text are not useful\n",
    "loaddata.drop(loaddata[['Distance(mi)','Description','Number']], axis=1, inplace=True)\n",
    "loaddata.drop(loaddata[['Start_Time','End_Time','Start_Lat','Start_Lng','City','State','Country']], axis=1, inplace=True)\n",
    "loaddata.drop(loaddata[['Zipcode','TimeZone','Airport_Code','Weather_Timestamp']], axis=1, inplace=True)\n",
    "loaddata.columns"
   ]
  },
  {
   "cell_type": "code",
   "execution_count": 37,
   "id": "2f23142f",
   "metadata": {},
   "outputs": [
    {
     "name": "stdout",
     "output_type": "stream",
     "text": [
      "<class 'pandas.core.frame.DataFrame'>\n",
      "RangeIndex: 2845342 entries, 0 to 2845341\n",
      "Data columns (total 33 columns):\n",
      " #   Column                 Dtype  \n",
      "---  ------                 -----  \n",
      " 0   ID                     object \n",
      " 1   Severity               int64  \n",
      " 2   Street                 object \n",
      " 3   Side                   object \n",
      " 4   County                 object \n",
      " 5   Zipcode                object \n",
      " 6   Timezone               object \n",
      " 7   Airport_Code           object \n",
      " 8   Weather_Timestamp      object \n",
      " 9   Temperature(F)         float64\n",
      " 10  Wind_Chill(F)          float64\n",
      " 11  Humidity(%)            float64\n",
      " 12  Pressure(in)           float64\n",
      " 13  Visibility(mi)         float64\n",
      " 14  Wind_Direction         object \n",
      " 15  Wind_Speed(mph)        float64\n",
      " 16  Precipitation(in)      float64\n",
      " 17  Weather_Condition      object \n",
      " 18  Bump                   bool   \n",
      " 19  Crossing               bool   \n",
      " 20  Give_Way               bool   \n",
      " 21  Junction               bool   \n",
      " 22  No_Exit                bool   \n",
      " 23  Railway                bool   \n",
      " 24  Roundabout             bool   \n",
      " 25  Station                bool   \n",
      " 26  Stop                   bool   \n",
      " 27  Traffic_Signal         bool   \n",
      " 28  Turning_Loop           bool   \n",
      " 29  Sunrise_Sunset         object \n",
      " 30  Civil_Twilight         object \n",
      " 31  Nautical_Twilight      object \n",
      " 32  Astronomical_Twilight  object \n",
      "dtypes: bool(11), float64(7), int64(1), object(14)\n",
      "memory usage: 507.4+ MB\n"
     ]
    }
   ],
   "source": [
    "loaddata.info()"
   ]
  },
  {
   "cell_type": "code",
   "execution_count": 38,
   "id": "0528385f",
   "metadata": {},
   "outputs": [
    {
     "name": "stdout",
     "output_type": "stream",
     "text": [
      "<class 'pandas.core.frame.DataFrame'>\n",
      "RangeIndex: 2845342 entries, 0 to 2845341\n",
      "Data columns (total 27 columns):\n",
      " #   Column                 Dtype  \n",
      "---  ------                 -----  \n",
      " 0   ID                     object \n",
      " 1   Severity               int64  \n",
      " 2   Timezone               object \n",
      " 3   Temperature(F)         float64\n",
      " 4   Wind_Chill(F)          float64\n",
      " 5   Humidity(%)            float64\n",
      " 6   Pressure(in)           float64\n",
      " 7   Visibility(mi)         float64\n",
      " 8   Wind_Direction         object \n",
      " 9   Wind_Speed(mph)        float64\n",
      " 10  Precipitation(in)      float64\n",
      " 11  Weather_Condition      object \n",
      " 12  Bump                   bool   \n",
      " 13  Crossing               bool   \n",
      " 14  Give_Way               bool   \n",
      " 15  Junction               bool   \n",
      " 16  No_Exit                bool   \n",
      " 17  Railway                bool   \n",
      " 18  Roundabout             bool   \n",
      " 19  Station                bool   \n",
      " 20  Stop                   bool   \n",
      " 21  Traffic_Signal         bool   \n",
      " 22  Turning_Loop           bool   \n",
      " 23  Sunrise_Sunset         object \n",
      " 24  Civil_Twilight         object \n",
      " 25  Nautical_Twilight      object \n",
      " 26  Astronomical_Twilight  object \n",
      "dtypes: bool(11), float64(7), int64(1), object(8)\n",
      "memory usage: 377.2+ MB\n"
     ]
    }
   ],
   "source": [
    "loaddata.drop(loaddata[['Street','Side','County','Zipcode','Airport_Code','Weather_Timestamp']], axis=1, inplace=True)\n",
    "loaddata.info()"
   ]
  },
  {
   "cell_type": "code",
   "execution_count": 40,
   "id": "722ad7b4",
   "metadata": {},
   "outputs": [
    {
     "data": {
      "text/plain": [
       "ID                            0\n",
       "Severity                      0\n",
       "Timezone                   3659\n",
       "Temperature(F)            69274\n",
       "Wind_Chill(F)            469643\n",
       "Humidity(%)               73092\n",
       "Pressure(in)              59200\n",
       "Visibility(mi)            70546\n",
       "Wind_Direction            73775\n",
       "Wind_Speed(mph)          157944\n",
       "Precipitation(in)        549458\n",
       "Weather_Condition         70636\n",
       "Bump                          0\n",
       "Crossing                      0\n",
       "Give_Way                      0\n",
       "Junction                      0\n",
       "No_Exit                       0\n",
       "Railway                       0\n",
       "Roundabout                    0\n",
       "Station                       0\n",
       "Stop                          0\n",
       "Traffic_Signal                0\n",
       "Turning_Loop                  0\n",
       "Sunrise_Sunset             2867\n",
       "Civil_Twilight             2867\n",
       "Nautical_Twilight          2867\n",
       "Astronomical_Twilight      2867\n",
       "dtype: int64"
      ]
     },
     "execution_count": 40,
     "metadata": {},
     "output_type": "execute_result"
    }
   ],
   "source": [
    "loaddata.isnull().sum()"
   ]
  },
  {
   "cell_type": "code",
   "execution_count": 42,
   "id": "0c850fb3",
   "metadata": {},
   "outputs": [],
   "source": [
    "loaddata.drop(loaddata[['Timezone']], axis=1, inplace=True)"
   ]
  },
  {
   "cell_type": "markdown",
   "id": "b80e5c61",
   "metadata": {},
   "source": [
    "# Finally Zero Nans... we are good to now convert the rest of the data and prep for Predictive models\n"
   ]
  },
  {
   "cell_type": "code",
   "execution_count": 44,
   "id": "ceba255c",
   "metadata": {},
   "outputs": [
    {
     "data": {
      "text/plain": [
       "ID                           0\n",
       "Severity                     0\n",
       "Temperature(F)               0\n",
       "Wind_Chill(F)                0\n",
       "Humidity(%)                  0\n",
       "Pressure(in)                 0\n",
       "Visibility(mi)           70546\n",
       "Wind_Direction           73775\n",
       "Wind_Speed(mph)              0\n",
       "Precipitation(in)            0\n",
       "Weather_Condition        70636\n",
       "Bump                         0\n",
       "Crossing                     0\n",
       "Give_Way                     0\n",
       "Junction                     0\n",
       "No_Exit                      0\n",
       "Railway                      0\n",
       "Roundabout                   0\n",
       "Station                      0\n",
       "Stop                         0\n",
       "Traffic_Signal               0\n",
       "Turning_Loop                 0\n",
       "Sunrise_Sunset            2867\n",
       "Civil_Twilight            2867\n",
       "Nautical_Twilight         2867\n",
       "Astronomical_Twilight     2867\n",
       "dtype: int64"
      ]
     },
     "execution_count": 44,
     "metadata": {},
     "output_type": "execute_result"
    }
   ],
   "source": [
    "#determine the mean, and lets fill the missing data with the mean\n",
    "pmean = loaddata['Pressure(in)'].mean()\n",
    "tmean = loaddata['Temperature(F)'].mean()\n",
    "wcmean = loaddata['Wind_Chill(F)'].mean()\n",
    "hmean = loaddata['Humidity(%)'].mean()\n",
    "wsmean = loaddata['Wind_Speed(mph)'].mean()\n",
    "prmean = loaddata['Precipitation(in)'].mean()\n",
    "\n",
    "loaddata['Pressure(in)']=loaddata['Pressure(in)'].fillna(pmean)\n",
    "loaddata['Temperature(F)']=loaddata['Temperature(F)'].fillna(tmean)\n",
    "loaddata['Wind_Chill(F)']=loaddata['Wind_Chill(F)'].fillna(wcmean)\n",
    "loaddata['Humidity(%)']=loaddata['Humidity(%)'].fillna(hmean)\n",
    "loaddata['Wind_Speed(mph)']=loaddata['Wind_Speed(mph)'].fillna(wsmean)\n",
    "loaddata['Precipitation(in)']=loaddata['Precipitation(in)'].fillna(prmean)\n",
    "\n",
    "loaddata.isnull().sum()"
   ]
  },
  {
   "cell_type": "code",
   "execution_count": 46,
   "id": "0066c082",
   "metadata": {},
   "outputs": [
    {
     "data": {
      "text/plain": [
       "ID                          0\n",
       "Severity                    0\n",
       "Temperature(F)              0\n",
       "Wind_Chill(F)               0\n",
       "Humidity(%)                 0\n",
       "Pressure(in)                0\n",
       "Visibility(mi)              0\n",
       "Wind_Direction              0\n",
       "Wind_Speed(mph)             0\n",
       "Precipitation(in)           0\n",
       "Weather_Condition           0\n",
       "Bump                        0\n",
       "Crossing                    0\n",
       "Give_Way                    0\n",
       "Junction                    0\n",
       "No_Exit                     0\n",
       "Railway                     0\n",
       "Roundabout                  0\n",
       "Station                     0\n",
       "Stop                        0\n",
       "Traffic_Signal              0\n",
       "Turning_Loop                0\n",
       "Sunrise_Sunset           2867\n",
       "Civil_Twilight           2867\n",
       "Nautical_Twilight        2867\n",
       "Astronomical_Twilight    2867\n",
       "dtype: int64"
      ]
     },
     "execution_count": 46,
     "metadata": {},
     "output_type": "execute_result"
    }
   ],
   "source": [
    "loaddata['Visibility(mi)'] = loaddata['Visibility(mi)'].fillna(loaddata['Visibility(mi)'].mode()[0])\n",
    "loaddata['Wind_Direction'] = loaddata['Wind_Direction'].fillna(loaddata['Wind_Direction'].mode()[0])\n",
    "loaddata['Weather_Condition'] = loaddata['Weather_Condition'].fillna(loaddata['Weather_Condition'].mode()[0])\n",
    "\n",
    "loaddata.isnull().sum()"
   ]
  },
  {
   "cell_type": "code",
   "execution_count": 48,
   "id": "a9896351",
   "metadata": {},
   "outputs": [],
   "source": [
    "#drop 4 more columns\n",
    "loaddata.drop(loaddata[['Sunrise_Sunset','Civil_Twilight','Nautical_Twilight','Astronomical_Twilight']], axis=1, inplace=True)"
   ]
  },
  {
   "cell_type": "code",
   "execution_count": 50,
   "id": "dadfd562",
   "metadata": {},
   "outputs": [
    {
     "data": {
      "text/html": [
       "<div>\n",
       "<style scoped>\n",
       "    .dataframe tbody tr th:only-of-type {\n",
       "        vertical-align: middle;\n",
       "    }\n",
       "\n",
       "    .dataframe tbody tr th {\n",
       "        vertical-align: top;\n",
       "    }\n",
       "\n",
       "    .dataframe thead th {\n",
       "        text-align: right;\n",
       "    }\n",
       "</style>\n",
       "<table border=\"1\" class=\"dataframe\">\n",
       "  <thead>\n",
       "    <tr style=\"text-align: right;\">\n",
       "      <th></th>\n",
       "      <th>ID</th>\n",
       "      <th>Severity</th>\n",
       "      <th>Temperature(F)</th>\n",
       "      <th>Wind_Chill(F)</th>\n",
       "      <th>Humidity(%)</th>\n",
       "      <th>Pressure(in)</th>\n",
       "      <th>Visibility(mi)</th>\n",
       "      <th>Wind_Direction</th>\n",
       "      <th>Wind_Speed(mph)</th>\n",
       "      <th>Precipitation(in)</th>\n",
       "      <th>...</th>\n",
       "      <th>Crossing</th>\n",
       "      <th>Give_Way</th>\n",
       "      <th>Junction</th>\n",
       "      <th>No_Exit</th>\n",
       "      <th>Railway</th>\n",
       "      <th>Roundabout</th>\n",
       "      <th>Station</th>\n",
       "      <th>Stop</th>\n",
       "      <th>Traffic_Signal</th>\n",
       "      <th>Turning_Loop</th>\n",
       "    </tr>\n",
       "  </thead>\n",
       "  <tbody>\n",
       "    <tr>\n",
       "      <th>0</th>\n",
       "      <td>A-1</td>\n",
       "      <td>3</td>\n",
       "      <td>42.1</td>\n",
       "      <td>36.100000</td>\n",
       "      <td>58.0</td>\n",
       "      <td>29.76</td>\n",
       "      <td>10.0</td>\n",
       "      <td>SW</td>\n",
       "      <td>10.400000</td>\n",
       "      <td>0.000000</td>\n",
       "      <td>...</td>\n",
       "      <td>0</td>\n",
       "      <td>0</td>\n",
       "      <td>0</td>\n",
       "      <td>0</td>\n",
       "      <td>0</td>\n",
       "      <td>0</td>\n",
       "      <td>0</td>\n",
       "      <td>0</td>\n",
       "      <td>0</td>\n",
       "      <td>0</td>\n",
       "    </tr>\n",
       "    <tr>\n",
       "      <th>1</th>\n",
       "      <td>A-2</td>\n",
       "      <td>2</td>\n",
       "      <td>36.9</td>\n",
       "      <td>59.658231</td>\n",
       "      <td>91.0</td>\n",
       "      <td>29.68</td>\n",
       "      <td>10.0</td>\n",
       "      <td>CALM</td>\n",
       "      <td>7.395044</td>\n",
       "      <td>0.020000</td>\n",
       "      <td>...</td>\n",
       "      <td>0</td>\n",
       "      <td>0</td>\n",
       "      <td>0</td>\n",
       "      <td>0</td>\n",
       "      <td>0</td>\n",
       "      <td>0</td>\n",
       "      <td>0</td>\n",
       "      <td>0</td>\n",
       "      <td>0</td>\n",
       "      <td>0</td>\n",
       "    </tr>\n",
       "    <tr>\n",
       "      <th>2</th>\n",
       "      <td>A-3</td>\n",
       "      <td>2</td>\n",
       "      <td>36.0</td>\n",
       "      <td>59.658231</td>\n",
       "      <td>97.0</td>\n",
       "      <td>29.70</td>\n",
       "      <td>10.0</td>\n",
       "      <td>CALM</td>\n",
       "      <td>7.395044</td>\n",
       "      <td>0.020000</td>\n",
       "      <td>...</td>\n",
       "      <td>0</td>\n",
       "      <td>0</td>\n",
       "      <td>1</td>\n",
       "      <td>0</td>\n",
       "      <td>0</td>\n",
       "      <td>0</td>\n",
       "      <td>0</td>\n",
       "      <td>0</td>\n",
       "      <td>0</td>\n",
       "      <td>0</td>\n",
       "    </tr>\n",
       "    <tr>\n",
       "      <th>3</th>\n",
       "      <td>A-4</td>\n",
       "      <td>2</td>\n",
       "      <td>39.0</td>\n",
       "      <td>59.658231</td>\n",
       "      <td>55.0</td>\n",
       "      <td>29.65</td>\n",
       "      <td>10.0</td>\n",
       "      <td>CALM</td>\n",
       "      <td>7.395044</td>\n",
       "      <td>0.007017</td>\n",
       "      <td>...</td>\n",
       "      <td>0</td>\n",
       "      <td>0</td>\n",
       "      <td>0</td>\n",
       "      <td>0</td>\n",
       "      <td>0</td>\n",
       "      <td>0</td>\n",
       "      <td>0</td>\n",
       "      <td>0</td>\n",
       "      <td>0</td>\n",
       "      <td>0</td>\n",
       "    </tr>\n",
       "    <tr>\n",
       "      <th>4</th>\n",
       "      <td>A-5</td>\n",
       "      <td>3</td>\n",
       "      <td>37.0</td>\n",
       "      <td>29.800000</td>\n",
       "      <td>93.0</td>\n",
       "      <td>29.69</td>\n",
       "      <td>10.0</td>\n",
       "      <td>WSW</td>\n",
       "      <td>10.400000</td>\n",
       "      <td>0.010000</td>\n",
       "      <td>...</td>\n",
       "      <td>0</td>\n",
       "      <td>0</td>\n",
       "      <td>0</td>\n",
       "      <td>0</td>\n",
       "      <td>0</td>\n",
       "      <td>0</td>\n",
       "      <td>0</td>\n",
       "      <td>0</td>\n",
       "      <td>0</td>\n",
       "      <td>0</td>\n",
       "    </tr>\n",
       "  </tbody>\n",
       "</table>\n",
       "<p>5 rows × 22 columns</p>\n",
       "</div>"
      ],
      "text/plain": [
       "    ID  Severity  Temperature(F)  Wind_Chill(F)  Humidity(%)  Pressure(in)  \\\n",
       "0  A-1         3            42.1      36.100000         58.0         29.76   \n",
       "1  A-2         2            36.9      59.658231         91.0         29.68   \n",
       "2  A-3         2            36.0      59.658231         97.0         29.70   \n",
       "3  A-4         2            39.0      59.658231         55.0         29.65   \n",
       "4  A-5         3            37.0      29.800000         93.0         29.69   \n",
       "\n",
       "   Visibility(mi) Wind_Direction  Wind_Speed(mph)  Precipitation(in)  ...  \\\n",
       "0            10.0             SW        10.400000           0.000000  ...   \n",
       "1            10.0           CALM         7.395044           0.020000  ...   \n",
       "2            10.0           CALM         7.395044           0.020000  ...   \n",
       "3            10.0           CALM         7.395044           0.007017  ...   \n",
       "4            10.0            WSW        10.400000           0.010000  ...   \n",
       "\n",
       "  Crossing  Give_Way  Junction  No_Exit  Railway  Roundabout  Station  Stop  \\\n",
       "0        0         0         0        0        0           0        0     0   \n",
       "1        0         0         0        0        0           0        0     0   \n",
       "2        0         0         1        0        0           0        0     0   \n",
       "3        0         0         0        0        0           0        0     0   \n",
       "4        0         0         0        0        0           0        0     0   \n",
       "\n",
       "   Traffic_Signal  Turning_Loop  \n",
       "0               0             0  \n",
       "1               0             0  \n",
       "2               0             0  \n",
       "3               0             0  \n",
       "4               0             0  \n",
       "\n",
       "[5 rows x 22 columns]"
      ]
     },
     "execution_count": 50,
     "metadata": {},
     "output_type": "execute_result"
    }
   ],
   "source": [
    "from sklearn import preprocessing\n",
    "label_encoder = preprocessing.LabelEncoder()\n",
    "loaddata['Bump'] = label_encoder.fit_transform(loaddata['Bump'])\n",
    "loaddata['Crossing'] = label_encoder.fit_transform(loaddata['Crossing'])\n",
    "loaddata['Give_Way'] = label_encoder.fit_transform(loaddata['Give_Way'])\n",
    "loaddata['Junction'] = label_encoder.fit_transform(loaddata['Junction'])\n",
    "loaddata['No_Exit'] = label_encoder.fit_transform(loaddata['No_Exit'])\n",
    "loaddata['Railway'] = label_encoder.fit_transform(loaddata['Railway'])\n",
    "loaddata['Roundabout'] = label_encoder.fit_transform(loaddata['Roundabout'])\n",
    "loaddata['Station'] = label_encoder.fit_transform(loaddata['Station'])\n",
    "loaddata['Stop'] = label_encoder.fit_transform(loaddata['Stop'])\n",
    "loaddata['Traffic_Signal'] = label_encoder.fit_transform(loaddata['Traffic_Signal'])\n",
    "loaddata['Turning_Loop'] = label_encoder.fit_transform(loaddata['Turning_Loop'])\n",
    "loaddata.head()\n"
   ]
  },
  {
   "cell_type": "code",
   "execution_count": 52,
   "id": "705f756b",
   "metadata": {},
   "outputs": [
    {
     "data": {
      "text/html": [
       "<div>\n",
       "<style scoped>\n",
       "    .dataframe tbody tr th:only-of-type {\n",
       "        vertical-align: middle;\n",
       "    }\n",
       "\n",
       "    .dataframe tbody tr th {\n",
       "        vertical-align: top;\n",
       "    }\n",
       "\n",
       "    .dataframe thead th {\n",
       "        text-align: right;\n",
       "    }\n",
       "</style>\n",
       "<table border=\"1\" class=\"dataframe\">\n",
       "  <thead>\n",
       "    <tr style=\"text-align: right;\">\n",
       "      <th></th>\n",
       "      <th>ID</th>\n",
       "      <th>Severity</th>\n",
       "      <th>Temperature(F)</th>\n",
       "      <th>Wind_Chill(F)</th>\n",
       "      <th>Humidity(%)</th>\n",
       "      <th>Pressure(in)</th>\n",
       "      <th>Visibility(mi)</th>\n",
       "      <th>Wind_Direction</th>\n",
       "      <th>Wind_Speed(mph)</th>\n",
       "      <th>Precipitation(in)</th>\n",
       "      <th>...</th>\n",
       "      <th>Crossing</th>\n",
       "      <th>Give_Way</th>\n",
       "      <th>Junction</th>\n",
       "      <th>No_Exit</th>\n",
       "      <th>Railway</th>\n",
       "      <th>Roundabout</th>\n",
       "      <th>Station</th>\n",
       "      <th>Stop</th>\n",
       "      <th>Traffic_Signal</th>\n",
       "      <th>Turning_Loop</th>\n",
       "    </tr>\n",
       "  </thead>\n",
       "  <tbody>\n",
       "    <tr>\n",
       "      <th>0</th>\n",
       "      <td>A-1</td>\n",
       "      <td>3</td>\n",
       "      <td>42.1</td>\n",
       "      <td>36.100000</td>\n",
       "      <td>58.0</td>\n",
       "      <td>29.76</td>\n",
       "      <td>10.0</td>\n",
       "      <td>13</td>\n",
       "      <td>10.400000</td>\n",
       "      <td>0.000000</td>\n",
       "      <td>...</td>\n",
       "      <td>0</td>\n",
       "      <td>0</td>\n",
       "      <td>0</td>\n",
       "      <td>0</td>\n",
       "      <td>0</td>\n",
       "      <td>0</td>\n",
       "      <td>0</td>\n",
       "      <td>0</td>\n",
       "      <td>0</td>\n",
       "      <td>0</td>\n",
       "    </tr>\n",
       "    <tr>\n",
       "      <th>1</th>\n",
       "      <td>A-2</td>\n",
       "      <td>2</td>\n",
       "      <td>36.9</td>\n",
       "      <td>59.658231</td>\n",
       "      <td>91.0</td>\n",
       "      <td>29.68</td>\n",
       "      <td>10.0</td>\n",
       "      <td>0</td>\n",
       "      <td>7.395044</td>\n",
       "      <td>0.020000</td>\n",
       "      <td>...</td>\n",
       "      <td>0</td>\n",
       "      <td>0</td>\n",
       "      <td>0</td>\n",
       "      <td>0</td>\n",
       "      <td>0</td>\n",
       "      <td>0</td>\n",
       "      <td>0</td>\n",
       "      <td>0</td>\n",
       "      <td>0</td>\n",
       "      <td>0</td>\n",
       "    </tr>\n",
       "    <tr>\n",
       "      <th>2</th>\n",
       "      <td>A-3</td>\n",
       "      <td>2</td>\n",
       "      <td>36.0</td>\n",
       "      <td>59.658231</td>\n",
       "      <td>97.0</td>\n",
       "      <td>29.70</td>\n",
       "      <td>10.0</td>\n",
       "      <td>0</td>\n",
       "      <td>7.395044</td>\n",
       "      <td>0.020000</td>\n",
       "      <td>...</td>\n",
       "      <td>0</td>\n",
       "      <td>0</td>\n",
       "      <td>1</td>\n",
       "      <td>0</td>\n",
       "      <td>0</td>\n",
       "      <td>0</td>\n",
       "      <td>0</td>\n",
       "      <td>0</td>\n",
       "      <td>0</td>\n",
       "      <td>0</td>\n",
       "    </tr>\n",
       "    <tr>\n",
       "      <th>3</th>\n",
       "      <td>A-4</td>\n",
       "      <td>2</td>\n",
       "      <td>39.0</td>\n",
       "      <td>59.658231</td>\n",
       "      <td>55.0</td>\n",
       "      <td>29.65</td>\n",
       "      <td>10.0</td>\n",
       "      <td>0</td>\n",
       "      <td>7.395044</td>\n",
       "      <td>0.007017</td>\n",
       "      <td>...</td>\n",
       "      <td>0</td>\n",
       "      <td>0</td>\n",
       "      <td>0</td>\n",
       "      <td>0</td>\n",
       "      <td>0</td>\n",
       "      <td>0</td>\n",
       "      <td>0</td>\n",
       "      <td>0</td>\n",
       "      <td>0</td>\n",
       "      <td>0</td>\n",
       "    </tr>\n",
       "    <tr>\n",
       "      <th>4</th>\n",
       "      <td>A-5</td>\n",
       "      <td>3</td>\n",
       "      <td>37.0</td>\n",
       "      <td>29.800000</td>\n",
       "      <td>93.0</td>\n",
       "      <td>29.69</td>\n",
       "      <td>10.0</td>\n",
       "      <td>17</td>\n",
       "      <td>10.400000</td>\n",
       "      <td>0.010000</td>\n",
       "      <td>...</td>\n",
       "      <td>0</td>\n",
       "      <td>0</td>\n",
       "      <td>0</td>\n",
       "      <td>0</td>\n",
       "      <td>0</td>\n",
       "      <td>0</td>\n",
       "      <td>0</td>\n",
       "      <td>0</td>\n",
       "      <td>0</td>\n",
       "      <td>0</td>\n",
       "    </tr>\n",
       "  </tbody>\n",
       "</table>\n",
       "<p>5 rows × 22 columns</p>\n",
       "</div>"
      ],
      "text/plain": [
       "    ID  Severity  Temperature(F)  Wind_Chill(F)  Humidity(%)  Pressure(in)  \\\n",
       "0  A-1         3            42.1      36.100000         58.0         29.76   \n",
       "1  A-2         2            36.9      59.658231         91.0         29.68   \n",
       "2  A-3         2            36.0      59.658231         97.0         29.70   \n",
       "3  A-4         2            39.0      59.658231         55.0         29.65   \n",
       "4  A-5         3            37.0      29.800000         93.0         29.69   \n",
       "\n",
       "   Visibility(mi)  Wind_Direction  Wind_Speed(mph)  Precipitation(in)  ...  \\\n",
       "0            10.0              13        10.400000           0.000000  ...   \n",
       "1            10.0               0         7.395044           0.020000  ...   \n",
       "2            10.0               0         7.395044           0.020000  ...   \n",
       "3            10.0               0         7.395044           0.007017  ...   \n",
       "4            10.0              17        10.400000           0.010000  ...   \n",
       "\n",
       "   Crossing  Give_Way  Junction  No_Exit  Railway  Roundabout  Station  Stop  \\\n",
       "0         0         0         0        0        0           0        0     0   \n",
       "1         0         0         0        0        0           0        0     0   \n",
       "2         0         0         1        0        0           0        0     0   \n",
       "3         0         0         0        0        0           0        0     0   \n",
       "4         0         0         0        0        0           0        0     0   \n",
       "\n",
       "   Traffic_Signal  Turning_Loop  \n",
       "0               0             0  \n",
       "1               0             0  \n",
       "2               0             0  \n",
       "3               0             0  \n",
       "4               0             0  \n",
       "\n",
       "[5 rows x 22 columns]"
      ]
     },
     "execution_count": 52,
     "metadata": {},
     "output_type": "execute_result"
    }
   ],
   "source": [
    "loaddata['Weather_Condition'] = label_encoder.fit_transform(loaddata['Weather_Condition'])\n",
    "loaddata['Wind_Direction'] = label_encoder.fit_transform(loaddata['Wind_Direction'])\n",
    "loaddata.head()"
   ]
  },
  {
   "cell_type": "markdown",
   "id": "66bb07f7",
   "metadata": {},
   "source": [
    "# Export the processed Data"
   ]
  },
  {
   "cell_type": "code",
   "execution_count": 1,
   "id": "51c90974",
   "metadata": {},
   "outputs": [
    {
     "ename": "NameError",
     "evalue": "name 'loaddata' is not defined",
     "output_type": "error",
     "traceback": [
      "\u001b[0;31m---------------------------------------------------------------------------\u001b[0m",
      "\u001b[0;31mNameError\u001b[0m                                 Traceback (most recent call last)",
      "\u001b[0;32m/tmp/ipykernel_226779/2554633993.py\u001b[0m in \u001b[0;36m<module>\u001b[0;34m\u001b[0m\n\u001b[0;32m----> 1\u001b[0;31m \u001b[0mloaddata\u001b[0m\u001b[0;34m.\u001b[0m\u001b[0mto_csv\u001b[0m\u001b[0;34m(\u001b[0m\u001b[0;34m'processed_USAccidents.csv'\u001b[0m\u001b[0;34m)\u001b[0m\u001b[0;34m\u001b[0m\u001b[0;34m\u001b[0m\u001b[0m\n\u001b[0m",
      "\u001b[0;31mNameError\u001b[0m: name 'loaddata' is not defined"
     ]
    }
   ],
   "source": [
    "loaddata.to_csv('processed_USAccidents.csv')"
   ]
  },
  {
   "cell_type": "code",
   "execution_count": 57,
   "id": "19d3f5aa",
   "metadata": {},
   "outputs": [],
   "source": [
    "loaddata = loaddata.drop(['ID'], axis=1)\n",
    "y = loaddata['Severity']\n",
    "X = loaddata.drop(['Severity'], axis=1)\n"
   ]
  },
  {
   "cell_type": "markdown",
   "id": "b04b3217",
   "metadata": {},
   "source": [
    "# Severity will be our expected \"result\"\n",
    "## All other columns will be used to train the data\n"
   ]
  },
  {
   "cell_type": "code",
   "execution_count": null,
   "id": "e908b6e8",
   "metadata": {},
   "outputs": [],
   "source": [
    "from sklearn.decomposition import PCA\n",
    "# Make an instance of the Model\n",
    "pca = PCA(.95)\n",
    "pca.fit(X)\n",
    "train_img = pca.transform(X)\n",
    "train = pd.DataFrame(train_img)\n",
    "train.head()"
   ]
  },
  {
   "cell_type": "code",
   "execution_count": null,
   "id": "8bd11214",
   "metadata": {},
   "outputs": [],
   "source": [
    "train.shape"
   ]
  },
  {
   "cell_type": "code",
   "execution_count": null,
   "id": "bc50688e",
   "metadata": {},
   "outputs": [],
   "source": [
    "from sklearn.model_selection import train_test_split\n",
    "X_train, X_test, y_train, y_test = train_test_split(train, Y, test_size=0.2, random_state=42)\n"
   ]
  },
  {
   "cell_type": "code",
   "execution_count": null,
   "id": "aec80afc",
   "metadata": {},
   "outputs": [],
   "source": [
    "from sklearn.preprocessing import StandardScaler\n",
    "scaler = StandardScaler()\n",
    "# Fit on training set only.\n",
    "scaler.fit(X_train)\n",
    "# Apply transform to both the training set and the test set.\n",
    "transform = scaler.transform(X_train)\n",
    "#test_img = scaler.transform(test_img)\n",
    "scalar_train = pd.DataFrame(transform)\n",
    "scalar_train.head()"
   ]
  },
  {
   "cell_type": "markdown",
   "id": "1e2d2d02",
   "metadata": {},
   "source": [
    "# We have values... time to set models and test which model will be appropiate for this dataset\n"
   ]
  },
  {
   "cell_type": "markdown",
   "id": "bd112635",
   "metadata": {},
   "source": [
    "## Linear Regression"
   ]
  },
  {
   "cell_type": "markdown",
   "id": "df431762",
   "metadata": {},
   "source": [
    "from sklearn.linear_model import LinearRegression"
   ]
  },
  {
   "cell_type": "markdown",
   "id": "5ff2d5a4",
   "metadata": {},
   "source": [
    "reg = LinearRegression().fit(X_train, y_train)"
   ]
  },
  {
   "cell_type": "markdown",
   "id": "c0104c72",
   "metadata": {},
   "source": [
    "print(\"Training score\", reg.score(X_train,y_train))\n",
    "print(\"Testing score:\", reg.score(X_test,y_test))"
   ]
  },
  {
   "cell_type": "markdown",
   "id": "6d06b254",
   "metadata": {},
   "source": [
    "### RESULTS:\n",
    "### Training score 0.05664993014366282\n",
    "### Testing score: 0.05675485759552412"
   ]
  },
  {
   "cell_type": "markdown",
   "id": "19563293",
   "metadata": {},
   "source": [
    "# MLPClassifier "
   ]
  },
  {
   "cell_type": "markdown",
   "id": "eb3d73b6",
   "metadata": {},
   "source": [
    "from sklearn.neural_network import MLPClassifier\n",
    "clf = MLPClassifier(hidden_layer_sizes=(100,100,100), max_iter=15, alpha=0.0001,\n",
    "                     solver='sgd', verbose=10, random_state=21, tol=0.000000001)"
   ]
  },
  {
   "cell_type": "markdown",
   "id": "dec1ce7a",
   "metadata": {
    "scrolled": true
   },
   "source": [
    "clf.fit(X_train, y_train)\n"
   ]
  },
  {
   "cell_type": "markdown",
   "id": "26b73fb1",
   "metadata": {},
   "source": [
    "y_pred = clf.predict(X_test)"
   ]
  },
  {
   "cell_type": "markdown",
   "id": "6f8b740c",
   "metadata": {},
   "source": [
    "clf.score(X_test, y_pred)   #review some stats"
   ]
  },
  {
   "cell_type": "markdown",
   "id": "ea6356e8",
   "metadata": {},
   "source": [
    "### Results == 1.0 for clf.score\n",
    "# 100%"
   ]
  },
  {
   "cell_type": "markdown",
   "id": "251ec75b",
   "metadata": {},
   "source": [
    "# K-neighbors Regression\n"
   ]
  },
  {
   "cell_type": "code",
   "execution_count": null,
   "id": "d14eee16",
   "metadata": {},
   "outputs": [],
   "source": [
    "from sklearn.neighbors import KNeighborsRegressor\n",
    "neigh = KNeighborsRegressor(n_neighbors=2)"
   ]
  },
  {
   "cell_type": "code",
   "execution_count": null,
   "id": "6def53f4",
   "metadata": {},
   "outputs": [],
   "source": [
    "neigh.fit(X_train,y_train)\n",
    "neigh.score(X_test,y_test)"
   ]
  },
  {
   "cell_type": "markdown",
   "id": "b0b62a3d",
   "metadata": {},
   "source": [
    "# HyperParameter Tuning"
   ]
  },
  {
   "cell_type": "code",
   "execution_count": null,
   "id": "fc57da8d",
   "metadata": {},
   "outputs": [],
   "source": [
    "from sklearn.model_selection import GridSearchCV\n",
    "\n",
    "def find_best_hyperparameters_decision_tree(x_train, y_train):\n",
    "    \"\"\"\n",
    "    Input: The training X features and Y labels/values\n",
    "    Output: The classifier with the best hyperparams and the predictions\n",
    "    \"\"\"\n",
    "    clf = DecisionTreeClassifier() # Create your base classifier\n",
    "    param_grid = {\"criterion\": ['gini', 'entropy', 'log_loss'],\n",
    "                     \"splitter\": ['best', 'random']}\n",
    "    \n",
    "    search = GridSearchCV(clf, param_grid)\n",
    "    search.fit(x_train,y_train)\n",
    "    return search, search.predict(X_test)\n",
    "\n",
    "best_model, predictions = find_best_hyperparameters_decision_tree(X_train, Y_train)\n",
    "\n",
    "# Fit the data in\n",
    "best_model.fit(X=X_train, y=Y_train)\n",
    "\n",
    "# Print the test score\n",
    "print(\"Testing score:\", best_model.score(X_test,Y_test))\n"
   ]
  },
  {
   "cell_type": "code",
   "execution_count": null,
   "id": "24a6822c",
   "metadata": {},
   "outputs": [],
   "source": [
    "best_model, predictions = find_best_hyperparameters_decision_tree(X_train, Y_train)"
   ]
  },
  {
   "cell_type": "code",
   "execution_count": null,
   "id": "99b1c1d2",
   "metadata": {},
   "outputs": [],
   "source": [
    "# Fit the data to the model \n",
    "best_model.fit(X=X_train, y=Y_train)\n",
    "\n",
    "# Print the test score\n",
    "print(\"Testing score:\", best_model.score(X_test,Y_test))"
   ]
  }
 ],
 "metadata": {
  "kernelspec": {
   "display_name": "Python 3 (ipykernel)",
   "language": "python",
   "name": "python3"
  },
  "language_info": {
   "codemirror_mode": {
    "name": "ipython",
    "version": 3
   },
   "file_extension": ".py",
   "mimetype": "text/x-python",
   "name": "python",
   "nbconvert_exporter": "python",
   "pygments_lexer": "ipython3",
   "version": "3.9.7"
  }
 },
 "nbformat": 4,
 "nbformat_minor": 5
}
