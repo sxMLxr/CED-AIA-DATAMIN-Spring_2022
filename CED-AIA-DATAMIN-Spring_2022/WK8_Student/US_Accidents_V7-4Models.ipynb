{
 "cells": [
  {
   "cell_type": "code",
   "execution_count": 3,
   "id": "c0ff7c06",
   "metadata": {},
   "outputs": [],
   "source": [
    "import pandas as pd\n",
    "import numpy as np\n",
    "import matplotlib.pyplot as plt\n",
    "%matplotlib inline\n",
    "\n",
    "import seaborn as sns\n",
    "import sklearn\n",
    "#import json\n",
    "import warnings\n",
    "warnings.filterwarnings('ignore')\n"
   ]
  },
  {
   "cell_type": "markdown",
   "id": "a3750cfb",
   "metadata": {},
   "source": [
    "## Lets load the data that we preprocessed\n"
   ]
  },
  {
   "cell_type": "code",
   "execution_count": 4,
   "id": "76e2aa69",
   "metadata": {},
   "outputs": [],
   "source": [
    "df= pd.read_csv(\"../Accident_Stats/Processed_USAccidents.csv\")"
   ]
  },
  {
   "cell_type": "code",
   "execution_count": 5,
   "id": "dafdaafd",
   "metadata": {},
   "outputs": [
    {
     "data": {
      "text/plain": [
       "(2845342, 21)"
      ]
     },
     "execution_count": 5,
     "metadata": {},
     "output_type": "execute_result"
    }
   ],
   "source": [
    "df.drop(['Unnamed: 0'], axis=1, inplace=True)\n",
    "df.shape"
   ]
  },
  {
   "cell_type": "code",
   "execution_count": 6,
   "id": "37461aa3",
   "metadata": {},
   "outputs": [
    {
     "data": {
      "text/plain": [
       "Severity             0\n",
       "Temperature(F)       0\n",
       "Wind_Chill(F)        0\n",
       "Humidity(%)          0\n",
       "Pressure(in)         0\n",
       "Visibility(mi)       0\n",
       "Wind_Direction       0\n",
       "Wind_Speed(mph)      0\n",
       "Precipitation(in)    0\n",
       "Weather_Condition    0\n",
       "Bump                 0\n",
       "Crossing             0\n",
       "Give_Way             0\n",
       "Junction             0\n",
       "No_Exit              0\n",
       "Railway              0\n",
       "Roundabout           0\n",
       "Station              0\n",
       "Stop                 0\n",
       "Traffic_Signal       0\n",
       "Turning_Loop         0\n",
       "dtype: int64"
      ]
     },
     "execution_count": 6,
     "metadata": {},
     "output_type": "execute_result"
    }
   ],
   "source": [
    "df.isna().sum()"
   ]
  },
  {
   "cell_type": "code",
   "execution_count": 7,
   "id": "dcb48727",
   "metadata": {},
   "outputs": [
    {
     "data": {
      "text/plain": [
       "Index(['Severity', 'Temperature(F)', 'Wind_Chill(F)', 'Humidity(%)',\n",
       "       'Pressure(in)', 'Visibility(mi)', 'Wind_Direction', 'Wind_Speed(mph)',\n",
       "       'Precipitation(in)', 'Weather_Condition', 'Bump', 'Crossing',\n",
       "       'Give_Way', 'Junction', 'No_Exit', 'Railway', 'Roundabout', 'Station',\n",
       "       'Stop', 'Traffic_Signal', 'Turning_Loop'],\n",
       "      dtype='object')"
      ]
     },
     "execution_count": 7,
     "metadata": {},
     "output_type": "execute_result"
    }
   ],
   "source": [
    "df.columns   #see datat and start looking to filter out data"
   ]
  },
  {
   "cell_type": "markdown",
   "id": "b04b3217",
   "metadata": {},
   "source": [
    "# Severity will be our expected \"result\"\n",
    "## All other columns will be used to train the data\n"
   ]
  },
  {
   "cell_type": "code",
   "execution_count": 8,
   "id": "7fa4c49b",
   "metadata": {},
   "outputs": [
    {
     "data": {
      "text/html": [
       "<div>\n",
       "<style scoped>\n",
       "    .dataframe tbody tr th:only-of-type {\n",
       "        vertical-align: middle;\n",
       "    }\n",
       "\n",
       "    .dataframe tbody tr th {\n",
       "        vertical-align: top;\n",
       "    }\n",
       "\n",
       "    .dataframe thead th {\n",
       "        text-align: right;\n",
       "    }\n",
       "</style>\n",
       "<table border=\"1\" class=\"dataframe\">\n",
       "  <thead>\n",
       "    <tr style=\"text-align: right;\">\n",
       "      <th></th>\n",
       "      <th>Temperature(F)</th>\n",
       "      <th>Wind_Chill(F)</th>\n",
       "      <th>Humidity(%)</th>\n",
       "      <th>Pressure(in)</th>\n",
       "      <th>Visibility(mi)</th>\n",
       "      <th>Wind_Direction</th>\n",
       "      <th>Wind_Speed(mph)</th>\n",
       "      <th>Precipitation(in)</th>\n",
       "      <th>Weather_Condition</th>\n",
       "      <th>Bump</th>\n",
       "      <th>Crossing</th>\n",
       "      <th>Give_Way</th>\n",
       "      <th>Junction</th>\n",
       "      <th>No_Exit</th>\n",
       "      <th>Railway</th>\n",
       "      <th>Roundabout</th>\n",
       "      <th>Station</th>\n",
       "      <th>Stop</th>\n",
       "      <th>Traffic_Signal</th>\n",
       "      <th>Turning_Loop</th>\n",
       "    </tr>\n",
       "  </thead>\n",
       "  <tbody>\n",
       "    <tr>\n",
       "      <th>0</th>\n",
       "      <td>42.1</td>\n",
       "      <td>36.100000</td>\n",
       "      <td>58.0</td>\n",
       "      <td>29.76</td>\n",
       "      <td>10.0</td>\n",
       "      <td>13</td>\n",
       "      <td>10.400000</td>\n",
       "      <td>0.000000</td>\n",
       "      <td>56</td>\n",
       "      <td>0</td>\n",
       "      <td>0</td>\n",
       "      <td>0</td>\n",
       "      <td>0</td>\n",
       "      <td>0</td>\n",
       "      <td>0</td>\n",
       "      <td>0</td>\n",
       "      <td>0</td>\n",
       "      <td>0</td>\n",
       "      <td>0</td>\n",
       "      <td>0</td>\n",
       "    </tr>\n",
       "    <tr>\n",
       "      <th>1</th>\n",
       "      <td>36.9</td>\n",
       "      <td>59.658231</td>\n",
       "      <td>91.0</td>\n",
       "      <td>29.68</td>\n",
       "      <td>10.0</td>\n",
       "      <td>0</td>\n",
       "      <td>7.395044</td>\n",
       "      <td>0.020000</td>\n",
       "      <td>56</td>\n",
       "      <td>0</td>\n",
       "      <td>0</td>\n",
       "      <td>0</td>\n",
       "      <td>0</td>\n",
       "      <td>0</td>\n",
       "      <td>0</td>\n",
       "      <td>0</td>\n",
       "      <td>0</td>\n",
       "      <td>0</td>\n",
       "      <td>0</td>\n",
       "      <td>0</td>\n",
       "    </tr>\n",
       "    <tr>\n",
       "      <th>2</th>\n",
       "      <td>36.0</td>\n",
       "      <td>59.658231</td>\n",
       "      <td>97.0</td>\n",
       "      <td>29.70</td>\n",
       "      <td>10.0</td>\n",
       "      <td>0</td>\n",
       "      <td>7.395044</td>\n",
       "      <td>0.020000</td>\n",
       "      <td>79</td>\n",
       "      <td>0</td>\n",
       "      <td>0</td>\n",
       "      <td>0</td>\n",
       "      <td>1</td>\n",
       "      <td>0</td>\n",
       "      <td>0</td>\n",
       "      <td>0</td>\n",
       "      <td>0</td>\n",
       "      <td>0</td>\n",
       "      <td>0</td>\n",
       "      <td>0</td>\n",
       "    </tr>\n",
       "    <tr>\n",
       "      <th>3</th>\n",
       "      <td>39.0</td>\n",
       "      <td>59.658231</td>\n",
       "      <td>55.0</td>\n",
       "      <td>29.65</td>\n",
       "      <td>10.0</td>\n",
       "      <td>0</td>\n",
       "      <td>7.395044</td>\n",
       "      <td>0.007017</td>\n",
       "      <td>79</td>\n",
       "      <td>0</td>\n",
       "      <td>0</td>\n",
       "      <td>0</td>\n",
       "      <td>0</td>\n",
       "      <td>0</td>\n",
       "      <td>0</td>\n",
       "      <td>0</td>\n",
       "      <td>0</td>\n",
       "      <td>0</td>\n",
       "      <td>0</td>\n",
       "      <td>0</td>\n",
       "    </tr>\n",
       "    <tr>\n",
       "      <th>4</th>\n",
       "      <td>37.0</td>\n",
       "      <td>29.800000</td>\n",
       "      <td>93.0</td>\n",
       "      <td>29.69</td>\n",
       "      <td>10.0</td>\n",
       "      <td>17</td>\n",
       "      <td>10.400000</td>\n",
       "      <td>0.010000</td>\n",
       "      <td>56</td>\n",
       "      <td>0</td>\n",
       "      <td>0</td>\n",
       "      <td>0</td>\n",
       "      <td>0</td>\n",
       "      <td>0</td>\n",
       "      <td>0</td>\n",
       "      <td>0</td>\n",
       "      <td>0</td>\n",
       "      <td>0</td>\n",
       "      <td>0</td>\n",
       "      <td>0</td>\n",
       "    </tr>\n",
       "  </tbody>\n",
       "</table>\n",
       "</div>"
      ],
      "text/plain": [
       "   Temperature(F)  Wind_Chill(F)  Humidity(%)  Pressure(in)  Visibility(mi)  \\\n",
       "0            42.1      36.100000         58.0         29.76            10.0   \n",
       "1            36.9      59.658231         91.0         29.68            10.0   \n",
       "2            36.0      59.658231         97.0         29.70            10.0   \n",
       "3            39.0      59.658231         55.0         29.65            10.0   \n",
       "4            37.0      29.800000         93.0         29.69            10.0   \n",
       "\n",
       "   Wind_Direction  Wind_Speed(mph)  Precipitation(in)  Weather_Condition  \\\n",
       "0              13        10.400000           0.000000                 56   \n",
       "1               0         7.395044           0.020000                 56   \n",
       "2               0         7.395044           0.020000                 79   \n",
       "3               0         7.395044           0.007017                 79   \n",
       "4              17        10.400000           0.010000                 56   \n",
       "\n",
       "   Bump  Crossing  Give_Way  Junction  No_Exit  Railway  Roundabout  Station  \\\n",
       "0     0         0         0         0        0        0           0        0   \n",
       "1     0         0         0         0        0        0           0        0   \n",
       "2     0         0         0         1        0        0           0        0   \n",
       "3     0         0         0         0        0        0           0        0   \n",
       "4     0         0         0         0        0        0           0        0   \n",
       "\n",
       "   Stop  Traffic_Signal  Turning_Loop  \n",
       "0     0               0             0  \n",
       "1     0               0             0  \n",
       "2     0               0             0  \n",
       "3     0               0             0  \n",
       "4     0               0             0  "
      ]
     },
     "execution_count": 8,
     "metadata": {},
     "output_type": "execute_result"
    }
   ],
   "source": [
    "y = df['Severity']\n",
    "X = df.drop(['Severity'], axis = 1)\n",
    "X.head()"
   ]
  },
  {
   "cell_type": "code",
   "execution_count": 9,
   "id": "854d9ba2",
   "metadata": {},
   "outputs": [
    {
     "data": {
      "text/html": [
       "<div>\n",
       "<style scoped>\n",
       "    .dataframe tbody tr th:only-of-type {\n",
       "        vertical-align: middle;\n",
       "    }\n",
       "\n",
       "    .dataframe tbody tr th {\n",
       "        vertical-align: top;\n",
       "    }\n",
       "\n",
       "    .dataframe thead th {\n",
       "        text-align: right;\n",
       "    }\n",
       "</style>\n",
       "<table border=\"1\" class=\"dataframe\">\n",
       "  <thead>\n",
       "    <tr style=\"text-align: right;\">\n",
       "      <th></th>\n",
       "      <th>0</th>\n",
       "      <th>1</th>\n",
       "      <th>2</th>\n",
       "    </tr>\n",
       "  </thead>\n",
       "  <tbody>\n",
       "    <tr>\n",
       "      <th>0</th>\n",
       "      <td>19.107563</td>\n",
       "      <td>20.139984</td>\n",
       "      <td>25.126971</td>\n",
       "    </tr>\n",
       "    <tr>\n",
       "      <th>1</th>\n",
       "      <td>24.319708</td>\n",
       "      <td>26.938076</td>\n",
       "      <td>-11.032137</td>\n",
       "    </tr>\n",
       "    <tr>\n",
       "      <th>2</th>\n",
       "      <td>47.997914</td>\n",
       "      <td>28.380751</td>\n",
       "      <td>-12.491207</td>\n",
       "    </tr>\n",
       "    <tr>\n",
       "      <th>3</th>\n",
       "      <td>40.777795</td>\n",
       "      <td>4.389608</td>\n",
       "      <td>21.151977</td>\n",
       "    </tr>\n",
       "    <tr>\n",
       "      <th>4</th>\n",
       "      <td>25.225281</td>\n",
       "      <td>45.331518</td>\n",
       "      <td>0.823554</td>\n",
       "    </tr>\n",
       "  </tbody>\n",
       "</table>\n",
       "</div>"
      ],
      "text/plain": [
       "           0          1          2\n",
       "0  19.107563  20.139984  25.126971\n",
       "1  24.319708  26.938076 -11.032137\n",
       "2  47.997914  28.380751 -12.491207\n",
       "3  40.777795   4.389608  21.151977\n",
       "4  25.225281  45.331518   0.823554"
      ]
     },
     "execution_count": 9,
     "metadata": {},
     "output_type": "execute_result"
    }
   ],
   "source": [
    "from sklearn.decomposition import PCA\n",
    "# Make an instance of the Model\n",
    "pca = PCA(.95)\n",
    "pca.fit(X)\n",
    "train_img = pca.transform(X)\n",
    "train = pd.DataFrame(train_img)\n",
    "train.head()"
   ]
  },
  {
   "cell_type": "code",
   "execution_count": 59,
   "id": "a125862c",
   "metadata": {},
   "outputs": [
    {
     "data": {
      "text/plain": [
       "(2845342, 3)"
      ]
     },
     "execution_count": 59,
     "metadata": {},
     "output_type": "execute_result"
    }
   ],
   "source": [
    "train.shape"
   ]
  },
  {
   "cell_type": "code",
   "execution_count": 10,
   "id": "bb815be8",
   "metadata": {},
   "outputs": [],
   "source": [
    "from sklearn.model_selection import train_test_split\n",
    "X_train, X_test, y_train, y_test = train_test_split(train, y, test_size=0.2, random_state=42)\n"
   ]
  },
  {
   "cell_type": "code",
   "execution_count": 61,
   "id": "4f827565",
   "metadata": {},
   "outputs": [
    {
     "name": "stdout",
     "output_type": "stream",
     "text": [
      "                 0          1          2\n",
      "767306  -22.839581 -22.793277  -4.293407\n",
      "82739    59.259896 -12.611695  -9.200160\n",
      "242266   44.814504  -4.346037 -31.353162\n",
      "2285345  32.296010  47.554865  10.554298\n",
      "1397245  42.627060  32.024962  45.896516\n",
      "                 0          1          2\n",
      "1786514 -24.299339   1.045640  24.122481\n",
      "270133  -17.291039  61.550374  15.982345\n",
      "2689946  58.653376  10.620814   7.309996\n",
      "191423   55.312425 -18.837427  16.987613\n",
      "2142329  81.422635 -14.964093   2.923807\n",
      "767306     2\n",
      "82739      2\n",
      "242266     2\n",
      "2285345    2\n",
      "1397245    2\n",
      "Name: Severity, dtype: int64\n",
      "1786514    2\n",
      "270133     2\n",
      "2689946    2\n",
      "191423     2\n",
      "2142329    2\n",
      "Name: Severity, dtype: int64\n"
     ]
    }
   ],
   "source": [
    "print(X_train.head())\n",
    "print(X_test.head())\n",
    "print(y_train.head())\n",
    "print(y_test.head())\n"
   ]
  },
  {
   "cell_type": "code",
   "execution_count": 11,
   "id": "a6c1a9af",
   "metadata": {},
   "outputs": [
    {
     "data": {
      "text/html": [
       "<div>\n",
       "<style scoped>\n",
       "    .dataframe tbody tr th:only-of-type {\n",
       "        vertical-align: middle;\n",
       "    }\n",
       "\n",
       "    .dataframe tbody tr th {\n",
       "        vertical-align: top;\n",
       "    }\n",
       "\n",
       "    .dataframe thead th {\n",
       "        text-align: right;\n",
       "    }\n",
       "</style>\n",
       "<table border=\"1\" class=\"dataframe\">\n",
       "  <thead>\n",
       "    <tr style=\"text-align: right;\">\n",
       "      <th></th>\n",
       "      <th>0</th>\n",
       "      <th>1</th>\n",
       "      <th>2</th>\n",
       "    </tr>\n",
       "  </thead>\n",
       "  <tbody>\n",
       "    <tr>\n",
       "      <th>0</th>\n",
       "      <td>-0.719678</td>\n",
       "      <td>-0.794085</td>\n",
       "      <td>-0.225354</td>\n",
       "    </tr>\n",
       "    <tr>\n",
       "      <th>1</th>\n",
       "      <td>1.867103</td>\n",
       "      <td>-0.439652</td>\n",
       "      <td>-0.482150</td>\n",
       "    </tr>\n",
       "    <tr>\n",
       "      <th>2</th>\n",
       "      <td>1.411959</td>\n",
       "      <td>-0.151915</td>\n",
       "      <td>-1.641534</td>\n",
       "    </tr>\n",
       "    <tr>\n",
       "      <th>3</th>\n",
       "      <td>1.017528</td>\n",
       "      <td>1.654815</td>\n",
       "      <td>0.551705</td>\n",
       "    </tr>\n",
       "    <tr>\n",
       "      <th>4</th>\n",
       "      <td>1.343037</td>\n",
       "      <td>1.114201</td>\n",
       "      <td>2.401351</td>\n",
       "    </tr>\n",
       "  </tbody>\n",
       "</table>\n",
       "</div>"
      ],
      "text/plain": [
       "          0         1         2\n",
       "0 -0.719678 -0.794085 -0.225354\n",
       "1  1.867103 -0.439652 -0.482150\n",
       "2  1.411959 -0.151915 -1.641534\n",
       "3  1.017528  1.654815  0.551705\n",
       "4  1.343037  1.114201  2.401351"
      ]
     },
     "execution_count": 11,
     "metadata": {},
     "output_type": "execute_result"
    }
   ],
   "source": [
    "from sklearn.preprocessing import StandardScaler\n",
    "scaler = StandardScaler()\n",
    "# Fit on training set only.\n",
    "scaler.fit(X_train)\n",
    "# Apply transform to both the training set and the test set.\n",
    "transform = scaler.transform(X_train)\n",
    "#test_img = scaler.transform(test_img)\n",
    "scalar_train = pd.DataFrame(transform)\n",
    "scalar_train.head()"
   ]
  },
  {
   "cell_type": "markdown",
   "id": "1e2d2d02",
   "metadata": {},
   "source": [
    "# We have values... time to set models and test which model will be appropiate for this dataset\n"
   ]
  },
  {
   "cell_type": "markdown",
   "id": "bd112635",
   "metadata": {},
   "source": [
    "# 1 Linear Regression"
   ]
  },
  {
   "cell_type": "code",
   "execution_count": 63,
   "id": "7bdccb2f",
   "metadata": {},
   "outputs": [],
   "source": [
    "from sklearn.linear_model import LinearRegression"
   ]
  },
  {
   "cell_type": "code",
   "execution_count": 64,
   "id": "aeb332a0",
   "metadata": {},
   "outputs": [],
   "source": [
    "reg = LinearRegression().fit(X_train, y_train)"
   ]
  },
  {
   "cell_type": "code",
   "execution_count": 65,
   "id": "9480950b",
   "metadata": {},
   "outputs": [
    {
     "name": "stdout",
     "output_type": "stream",
     "text": [
      "Training score 0.008786403702156997\n",
      "Testing score: 0.008344239896902583\n"
     ]
    }
   ],
   "source": [
    "print(\"Training score\", reg.score(X_train,y_train))\n",
    "print(\"Testing score:\", reg.score(X_test,y_test))"
   ]
  },
  {
   "cell_type": "markdown",
   "id": "118e4388",
   "metadata": {},
   "source": [
    "### RESULTS:  ARE POOR -- not a useful model\n",
    "### Training score 0.008786403702156997\n",
    "### Testing score: 0.008344239896902583"
   ]
  },
  {
   "cell_type": "markdown",
   "id": "19563293",
   "metadata": {},
   "source": [
    "# 2 MLPClassifier "
   ]
  },
  {
   "cell_type": "code",
   "execution_count": 26,
   "id": "b6dfef36",
   "metadata": {},
   "outputs": [],
   "source": [
    "from sklearn.neural_network import MLPClassifier\n",
    "clf = MLPClassifier(hidden_layer_sizes=(100,100,10), max_iter=100, alpha=0.0001,\n",
    "                     solver='sgd', verbose=10, random_state=21, tol=0.000000001)\n",
    "#adjusted hidden_layer_sizes from 100,100,100 to 100,100,10"
   ]
  },
  {
   "cell_type": "code",
   "execution_count": 27,
   "id": "811da111",
   "metadata": {},
   "outputs": [
    {
     "name": "stdout",
     "output_type": "stream",
     "text": [
      "Iteration 1, loss = 0.44012875\n",
      "Iteration 2, loss = 0.42606329\n",
      "Iteration 3, loss = 0.42367681\n",
      "Iteration 4, loss = 0.42267090\n",
      "Iteration 5, loss = 0.42209197\n",
      "Iteration 6, loss = 0.42170296\n",
      "Iteration 7, loss = 0.42139336\n",
      "Iteration 8, loss = 0.42121770\n",
      "Iteration 9, loss = 0.42100609\n",
      "Iteration 10, loss = 0.42084181\n",
      "Iteration 11, loss = 0.42062924\n",
      "Iteration 12, loss = 0.42053500\n",
      "Iteration 13, loss = 0.42037307\n",
      "Iteration 14, loss = 0.42021974\n",
      "Iteration 15, loss = 0.42014724\n",
      "Iteration 16, loss = 0.42007290\n",
      "Iteration 17, loss = 0.41990588\n",
      "Iteration 18, loss = 0.41982727\n",
      "Iteration 19, loss = 0.41974507\n",
      "Iteration 20, loss = 0.41966958\n",
      "Iteration 21, loss = 0.41955000\n",
      "Iteration 22, loss = 0.41948890\n",
      "Iteration 23, loss = 0.41941625\n",
      "Iteration 24, loss = 0.41931504\n",
      "Iteration 25, loss = 0.41924920\n",
      "Iteration 26, loss = 0.41912885\n",
      "Iteration 27, loss = 0.41909381\n",
      "Iteration 28, loss = 0.41902805\n",
      "Iteration 29, loss = 0.41894416\n",
      "Iteration 30, loss = 0.41887184\n",
      "Iteration 31, loss = 0.41877593\n",
      "Iteration 32, loss = 0.41872260\n",
      "Iteration 33, loss = 0.41869020\n",
      "Iteration 34, loss = 0.41859403\n",
      "Iteration 35, loss = 0.41850719\n",
      "Iteration 36, loss = 0.41841585\n",
      "Iteration 37, loss = 0.41837247\n",
      "Iteration 38, loss = 0.41833787\n",
      "Iteration 39, loss = 0.41823134\n",
      "Iteration 40, loss = 0.41816310\n",
      "Iteration 41, loss = 0.41805165\n",
      "Iteration 42, loss = 0.41801058\n",
      "Iteration 43, loss = 0.41795134\n",
      "Iteration 44, loss = 0.41785231\n",
      "Iteration 45, loss = 0.41780390\n",
      "Iteration 46, loss = 0.41774658\n",
      "Iteration 47, loss = 0.41766491\n",
      "Iteration 48, loss = 0.41757859\n",
      "Iteration 49, loss = 0.41749714\n",
      "Iteration 50, loss = 0.41748885\n",
      "Iteration 51, loss = 0.41737903\n",
      "Iteration 52, loss = 0.41735656\n",
      "Iteration 53, loss = 0.41727209\n",
      "Iteration 54, loss = 0.41720176\n",
      "Iteration 55, loss = 0.41713536\n",
      "Iteration 56, loss = 0.41709943\n",
      "Iteration 57, loss = 0.41700367\n",
      "Iteration 58, loss = 0.41697353\n",
      "Iteration 59, loss = 0.41688175\n",
      "Iteration 60, loss = 0.41681768\n",
      "Iteration 61, loss = 0.41676152\n",
      "Iteration 62, loss = 0.41668090\n",
      "Iteration 63, loss = 0.41669074\n",
      "Iteration 64, loss = 0.41657538\n",
      "Iteration 65, loss = 0.41656080\n",
      "Iteration 66, loss = 0.41646245\n",
      "Iteration 67, loss = 0.41641430\n",
      "Iteration 68, loss = 0.41641483\n",
      "Iteration 69, loss = 0.41633198\n",
      "Iteration 70, loss = 0.41622504\n",
      "Iteration 71, loss = 0.41621673\n",
      "Iteration 72, loss = 0.41616776\n",
      "Iteration 73, loss = 0.41615507\n",
      "Iteration 74, loss = 0.41610891\n",
      "Iteration 75, loss = 0.41599037\n",
      "Iteration 76, loss = 0.41600634\n",
      "Iteration 77, loss = 0.41591949\n",
      "Iteration 78, loss = 0.41591016\n",
      "Iteration 79, loss = 0.41582402\n",
      "Iteration 80, loss = 0.41580816\n",
      "Iteration 81, loss = 0.41574680\n",
      "Iteration 82, loss = 0.41566532\n",
      "Iteration 83, loss = 0.41571542\n",
      "Iteration 84, loss = 0.41562940\n",
      "Iteration 85, loss = 0.41554556\n",
      "Iteration 86, loss = 0.41550634\n",
      "Iteration 87, loss = 0.41551226\n",
      "Iteration 88, loss = 0.41554512\n",
      "Iteration 89, loss = 0.41539789\n",
      "Iteration 90, loss = 0.41541777\n",
      "Iteration 91, loss = 0.41534034\n",
      "Iteration 92, loss = 0.41532411\n",
      "Iteration 93, loss = 0.41523317\n",
      "Iteration 94, loss = 0.41528583\n",
      "Iteration 95, loss = 0.41516345\n",
      "Iteration 96, loss = 0.41519856\n",
      "Iteration 97, loss = 0.41516556\n",
      "Iteration 98, loss = 0.41510904\n",
      "Iteration 99, loss = 0.41502096\n",
      "Iteration 100, loss = 0.41499767\n"
     ]
    },
    {
     "name": "stderr",
     "output_type": "stream",
     "text": [
      "/home/skciller/anaconda3/lib/python3.9/site-packages/sklearn/neural_network/_multilayer_perceptron.py:614: ConvergenceWarning: Stochastic Optimizer: Maximum iterations (100) reached and the optimization hasn't converged yet.\n",
      "  warnings.warn(\n"
     ]
    },
    {
     "data": {
      "text/plain": [
       "MLPClassifier(hidden_layer_sizes=(100, 100, 100), max_iter=100, random_state=21,\n",
       "              solver='sgd', tol=1e-09, verbose=10)"
      ]
     },
     "execution_count": 27,
     "metadata": {},
     "output_type": "execute_result"
    }
   ],
   "source": [
    "clf.fit(X_train, y_train)"
   ]
  },
  {
   "cell_type": "code",
   "execution_count": 28,
   "id": "81d82333",
   "metadata": {},
   "outputs": [],
   "source": [
    "y_pred = clf.predict(X_test)"
   ]
  },
  {
   "cell_type": "code",
   "execution_count": 29,
   "id": "88f78c7d",
   "metadata": {},
   "outputs": [
    {
     "data": {
      "text/plain": [
       "1.0"
      ]
     },
     "execution_count": 29,
     "metadata": {},
     "output_type": "execute_result"
    }
   ],
   "source": [
    "clf.score(X_test, y_pred)   #review some stats"
   ]
  },
  {
   "cell_type": "code",
   "execution_count": null,
   "id": "2827283e",
   "metadata": {},
   "outputs": [],
   "source": [
    "from sklearn.metrics import accuracy_score\n",
    "accuracy_score(y_test, y_pred)\n"
   ]
  },
  {
   "cell_type": "markdown",
   "id": "1f464a3f",
   "metadata": {},
   "source": [
    "### Results == 1.0 for clf.score\n",
    "# 100%"
   ]
  },
  {
   "cell_type": "markdown",
   "id": "621f2578",
   "metadata": {},
   "source": [
    "# 3 K-neighbors Regression\n"
   ]
  },
  {
   "cell_type": "code",
   "execution_count": 66,
   "id": "a6f64153",
   "metadata": {},
   "outputs": [],
   "source": [
    "from sklearn.neighbors import KNeighborsRegressor\n",
    "neigh = KNeighborsRegressor(n_neighbors=2)"
   ]
  },
  {
   "cell_type": "code",
   "execution_count": 67,
   "id": "91deee11",
   "metadata": {},
   "outputs": [
    {
     "data": {
      "text/plain": [
       "-0.08212761159053161"
      ]
     },
     "execution_count": 67,
     "metadata": {},
     "output_type": "execute_result"
    }
   ],
   "source": [
    "neigh.fit(X_train,y_train)\n",
    "neigh.score(X_test,y_test)"
   ]
  },
  {
   "cell_type": "code",
   "execution_count": 68,
   "id": "c71292fc",
   "metadata": {},
   "outputs": [
    {
     "data": {
      "text/plain": [
       "0.8905018547838662"
      ]
     },
     "execution_count": 68,
     "metadata": {},
     "output_type": "execute_result"
    }
   ],
   "source": [
    "from sklearn.metrics import accuracy_score\n",
    "accuracy_score(y_test, y_pred)\n"
   ]
  },
  {
   "cell_type": "markdown",
   "id": "b2da8c43",
   "metadata": {},
   "source": [
    "# 4 Logistic Regression"
   ]
  },
  {
   "cell_type": "code",
   "execution_count": 47,
   "id": "5da6d0c4",
   "metadata": {},
   "outputs": [],
   "source": [
    "from sklearn.linear_model import LogisticRegression\n",
    "clf = LogisticRegression(random_state=0, solver='lbfgs', multi_class='multinomial').fit(scalar_train, y_train) "
   ]
  },
  {
   "cell_type": "code",
   "execution_count": 42,
   "id": "f47e654f",
   "metadata": {},
   "outputs": [],
   "source": [
    "from sklearn.preprocessing import StandardScaler\n",
    "scalert = StandardScaler()\n",
    "# Fit on training set only.\n",
    "scalert.fit(X_test)\n",
    "# Apply transform to both the training set and the test set.\n",
    "transformt = scalert.transform(X_test)\n",
    "#test_img = scaler.transform(test_img)\n",
    "scalar_test = pd.DataFrame(transformt)"
   ]
  },
  {
   "cell_type": "code",
   "execution_count": 43,
   "id": "077c2ce8",
   "metadata": {},
   "outputs": [],
   "source": [
    "y_pred = clf.predict(scalar_test)"
   ]
  },
  {
   "cell_type": "code",
   "execution_count": 44,
   "id": "69476502",
   "metadata": {},
   "outputs": [
    {
     "data": {
      "text/plain": [
       "0.8901542126098232"
      ]
     },
     "execution_count": 44,
     "metadata": {},
     "output_type": "execute_result"
    }
   ],
   "source": [
    "clf.score(scalar_train, y_train)"
   ]
  },
  {
   "cell_type": "code",
   "execution_count": 45,
   "id": "6e12cba9",
   "metadata": {},
   "outputs": [
    {
     "data": {
      "text/plain": [
       "0.8905018547838662"
      ]
     },
     "execution_count": 45,
     "metadata": {},
     "output_type": "execute_result"
    }
   ],
   "source": [
    "from sklearn.metrics import accuracy_score\n",
    "accuracy_score(y_test, y_pred)\n"
   ]
  },
  {
   "cell_type": "markdown",
   "id": "f2124fb4",
   "metadata": {},
   "source": [
    "# 5 HyperParameter Tuning"
   ]
  },
  {
   "cell_type": "code",
   "execution_count": 12,
   "id": "c3b2d83c",
   "metadata": {},
   "outputs": [
    {
     "name": "stderr",
     "output_type": "stream",
     "text": [
      "/home/skciller/anaconda3/lib/python3.9/site-packages/sklearn/model_selection/_validation.py:615: FitFailedWarning: Estimator fit failed. The score on this train-test partition for these parameters will be set to nan. Details: \n",
      "Traceback (most recent call last):\n",
      "  File \"/home/skciller/anaconda3/lib/python3.9/site-packages/sklearn/model_selection/_validation.py\", line 598, in _fit_and_score\n",
      "    estimator.fit(X_train, y_train, **fit_params)\n",
      "  File \"/home/skciller/anaconda3/lib/python3.9/site-packages/sklearn/tree/_classes.py\", line 903, in fit\n",
      "    super().fit(\n",
      "  File \"/home/skciller/anaconda3/lib/python3.9/site-packages/sklearn/tree/_classes.py\", line 348, in fit\n",
      "    criterion = CRITERIA_CLF[self.criterion](self.n_outputs_,\n",
      "KeyError: 'log_loss'\n",
      "\n",
      "  warnings.warn(\"Estimator fit failed. The score on this train-test\"\n",
      "/home/skciller/anaconda3/lib/python3.9/site-packages/sklearn/model_selection/_validation.py:615: FitFailedWarning: Estimator fit failed. The score on this train-test partition for these parameters will be set to nan. Details: \n",
      "Traceback (most recent call last):\n",
      "  File \"/home/skciller/anaconda3/lib/python3.9/site-packages/sklearn/model_selection/_validation.py\", line 598, in _fit_and_score\n",
      "    estimator.fit(X_train, y_train, **fit_params)\n",
      "  File \"/home/skciller/anaconda3/lib/python3.9/site-packages/sklearn/tree/_classes.py\", line 903, in fit\n",
      "    super().fit(\n",
      "  File \"/home/skciller/anaconda3/lib/python3.9/site-packages/sklearn/tree/_classes.py\", line 348, in fit\n",
      "    criterion = CRITERIA_CLF[self.criterion](self.n_outputs_,\n",
      "KeyError: 'log_loss'\n",
      "\n",
      "  warnings.warn(\"Estimator fit failed. The score on this train-test\"\n",
      "/home/skciller/anaconda3/lib/python3.9/site-packages/sklearn/model_selection/_validation.py:615: FitFailedWarning: Estimator fit failed. The score on this train-test partition for these parameters will be set to nan. Details: \n",
      "Traceback (most recent call last):\n",
      "  File \"/home/skciller/anaconda3/lib/python3.9/site-packages/sklearn/model_selection/_validation.py\", line 598, in _fit_and_score\n",
      "    estimator.fit(X_train, y_train, **fit_params)\n",
      "  File \"/home/skciller/anaconda3/lib/python3.9/site-packages/sklearn/tree/_classes.py\", line 903, in fit\n",
      "    super().fit(\n",
      "  File \"/home/skciller/anaconda3/lib/python3.9/site-packages/sklearn/tree/_classes.py\", line 348, in fit\n",
      "    criterion = CRITERIA_CLF[self.criterion](self.n_outputs_,\n",
      "KeyError: 'log_loss'\n",
      "\n",
      "  warnings.warn(\"Estimator fit failed. The score on this train-test\"\n",
      "/home/skciller/anaconda3/lib/python3.9/site-packages/sklearn/model_selection/_validation.py:615: FitFailedWarning: Estimator fit failed. The score on this train-test partition for these parameters will be set to nan. Details: \n",
      "Traceback (most recent call last):\n",
      "  File \"/home/skciller/anaconda3/lib/python3.9/site-packages/sklearn/model_selection/_validation.py\", line 598, in _fit_and_score\n",
      "    estimator.fit(X_train, y_train, **fit_params)\n",
      "  File \"/home/skciller/anaconda3/lib/python3.9/site-packages/sklearn/tree/_classes.py\", line 903, in fit\n",
      "    super().fit(\n",
      "  File \"/home/skciller/anaconda3/lib/python3.9/site-packages/sklearn/tree/_classes.py\", line 348, in fit\n",
      "    criterion = CRITERIA_CLF[self.criterion](self.n_outputs_,\n",
      "KeyError: 'log_loss'\n",
      "\n",
      "  warnings.warn(\"Estimator fit failed. The score on this train-test\"\n",
      "/home/skciller/anaconda3/lib/python3.9/site-packages/sklearn/model_selection/_validation.py:615: FitFailedWarning: Estimator fit failed. The score on this train-test partition for these parameters will be set to nan. Details: \n",
      "Traceback (most recent call last):\n",
      "  File \"/home/skciller/anaconda3/lib/python3.9/site-packages/sklearn/model_selection/_validation.py\", line 598, in _fit_and_score\n",
      "    estimator.fit(X_train, y_train, **fit_params)\n",
      "  File \"/home/skciller/anaconda3/lib/python3.9/site-packages/sklearn/tree/_classes.py\", line 903, in fit\n",
      "    super().fit(\n",
      "  File \"/home/skciller/anaconda3/lib/python3.9/site-packages/sklearn/tree/_classes.py\", line 348, in fit\n",
      "    criterion = CRITERIA_CLF[self.criterion](self.n_outputs_,\n",
      "KeyError: 'log_loss'\n",
      "\n",
      "  warnings.warn(\"Estimator fit failed. The score on this train-test\"\n",
      "/home/skciller/anaconda3/lib/python3.9/site-packages/sklearn/model_selection/_validation.py:615: FitFailedWarning: Estimator fit failed. The score on this train-test partition for these parameters will be set to nan. Details: \n",
      "Traceback (most recent call last):\n",
      "  File \"/home/skciller/anaconda3/lib/python3.9/site-packages/sklearn/model_selection/_validation.py\", line 598, in _fit_and_score\n",
      "    estimator.fit(X_train, y_train, **fit_params)\n",
      "  File \"/home/skciller/anaconda3/lib/python3.9/site-packages/sklearn/tree/_classes.py\", line 903, in fit\n",
      "    super().fit(\n",
      "  File \"/home/skciller/anaconda3/lib/python3.9/site-packages/sklearn/tree/_classes.py\", line 348, in fit\n",
      "    criterion = CRITERIA_CLF[self.criterion](self.n_outputs_,\n",
      "KeyError: 'log_loss'\n",
      "\n",
      "  warnings.warn(\"Estimator fit failed. The score on this train-test\"\n",
      "/home/skciller/anaconda3/lib/python3.9/site-packages/sklearn/model_selection/_validation.py:615: FitFailedWarning: Estimator fit failed. The score on this train-test partition for these parameters will be set to nan. Details: \n",
      "Traceback (most recent call last):\n",
      "  File \"/home/skciller/anaconda3/lib/python3.9/site-packages/sklearn/model_selection/_validation.py\", line 598, in _fit_and_score\n",
      "    estimator.fit(X_train, y_train, **fit_params)\n",
      "  File \"/home/skciller/anaconda3/lib/python3.9/site-packages/sklearn/tree/_classes.py\", line 903, in fit\n",
      "    super().fit(\n",
      "  File \"/home/skciller/anaconda3/lib/python3.9/site-packages/sklearn/tree/_classes.py\", line 348, in fit\n",
      "    criterion = CRITERIA_CLF[self.criterion](self.n_outputs_,\n",
      "KeyError: 'log_loss'\n",
      "\n",
      "  warnings.warn(\"Estimator fit failed. The score on this train-test\"\n",
      "/home/skciller/anaconda3/lib/python3.9/site-packages/sklearn/model_selection/_validation.py:615: FitFailedWarning: Estimator fit failed. The score on this train-test partition for these parameters will be set to nan. Details: \n",
      "Traceback (most recent call last):\n",
      "  File \"/home/skciller/anaconda3/lib/python3.9/site-packages/sklearn/model_selection/_validation.py\", line 598, in _fit_and_score\n",
      "    estimator.fit(X_train, y_train, **fit_params)\n",
      "  File \"/home/skciller/anaconda3/lib/python3.9/site-packages/sklearn/tree/_classes.py\", line 903, in fit\n",
      "    super().fit(\n",
      "  File \"/home/skciller/anaconda3/lib/python3.9/site-packages/sklearn/tree/_classes.py\", line 348, in fit\n",
      "    criterion = CRITERIA_CLF[self.criterion](self.n_outputs_,\n",
      "KeyError: 'log_loss'\n",
      "\n",
      "  warnings.warn(\"Estimator fit failed. The score on this train-test\"\n",
      "/home/skciller/anaconda3/lib/python3.9/site-packages/sklearn/model_selection/_validation.py:615: FitFailedWarning: Estimator fit failed. The score on this train-test partition for these parameters will be set to nan. Details: \n",
      "Traceback (most recent call last):\n",
      "  File \"/home/skciller/anaconda3/lib/python3.9/site-packages/sklearn/model_selection/_validation.py\", line 598, in _fit_and_score\n",
      "    estimator.fit(X_train, y_train, **fit_params)\n",
      "  File \"/home/skciller/anaconda3/lib/python3.9/site-packages/sklearn/tree/_classes.py\", line 903, in fit\n",
      "    super().fit(\n",
      "  File \"/home/skciller/anaconda3/lib/python3.9/site-packages/sklearn/tree/_classes.py\", line 348, in fit\n",
      "    criterion = CRITERIA_CLF[self.criterion](self.n_outputs_,\n",
      "KeyError: 'log_loss'\n",
      "\n",
      "  warnings.warn(\"Estimator fit failed. The score on this train-test\"\n",
      "/home/skciller/anaconda3/lib/python3.9/site-packages/sklearn/model_selection/_validation.py:615: FitFailedWarning: Estimator fit failed. The score on this train-test partition for these parameters will be set to nan. Details: \n",
      "Traceback (most recent call last):\n",
      "  File \"/home/skciller/anaconda3/lib/python3.9/site-packages/sklearn/model_selection/_validation.py\", line 598, in _fit_and_score\n",
      "    estimator.fit(X_train, y_train, **fit_params)\n",
      "  File \"/home/skciller/anaconda3/lib/python3.9/site-packages/sklearn/tree/_classes.py\", line 903, in fit\n",
      "    super().fit(\n",
      "  File \"/home/skciller/anaconda3/lib/python3.9/site-packages/sklearn/tree/_classes.py\", line 348, in fit\n",
      "    criterion = CRITERIA_CLF[self.criterion](self.n_outputs_,\n",
      "KeyError: 'log_loss'\n",
      "\n",
      "  warnings.warn(\"Estimator fit failed. The score on this train-test\"\n",
      "/home/skciller/anaconda3/lib/python3.9/site-packages/sklearn/model_selection/_search.py:922: UserWarning: One or more of the test scores are non-finite: [0.85953442 0.85838693 0.86020614 0.85853674        nan        nan]\n",
      "  warnings.warn(\n"
     ]
    },
    {
     "name": "stderr",
     "output_type": "stream",
     "text": [
      "/home/skciller/anaconda3/lib/python3.9/site-packages/sklearn/model_selection/_validation.py:615: FitFailedWarning: Estimator fit failed. The score on this train-test partition for these parameters will be set to nan. Details: \n",
      "Traceback (most recent call last):\n",
      "  File \"/home/skciller/anaconda3/lib/python3.9/site-packages/sklearn/model_selection/_validation.py\", line 598, in _fit_and_score\n",
      "    estimator.fit(X_train, y_train, **fit_params)\n",
      "  File \"/home/skciller/anaconda3/lib/python3.9/site-packages/sklearn/tree/_classes.py\", line 903, in fit\n",
      "    super().fit(\n",
      "  File \"/home/skciller/anaconda3/lib/python3.9/site-packages/sklearn/tree/_classes.py\", line 348, in fit\n",
      "    criterion = CRITERIA_CLF[self.criterion](self.n_outputs_,\n",
      "KeyError: 'log_loss'\n",
      "\n",
      "  warnings.warn(\"Estimator fit failed. The score on this train-test\"\n",
      "/home/skciller/anaconda3/lib/python3.9/site-packages/sklearn/model_selection/_validation.py:615: FitFailedWarning: Estimator fit failed. The score on this train-test partition for these parameters will be set to nan. Details: \n",
      "Traceback (most recent call last):\n",
      "  File \"/home/skciller/anaconda3/lib/python3.9/site-packages/sklearn/model_selection/_validation.py\", line 598, in _fit_and_score\n",
      "    estimator.fit(X_train, y_train, **fit_params)\n",
      "  File \"/home/skciller/anaconda3/lib/python3.9/site-packages/sklearn/tree/_classes.py\", line 903, in fit\n",
      "    super().fit(\n",
      "  File \"/home/skciller/anaconda3/lib/python3.9/site-packages/sklearn/tree/_classes.py\", line 348, in fit\n",
      "    criterion = CRITERIA_CLF[self.criterion](self.n_outputs_,\n",
      "KeyError: 'log_loss'\n",
      "\n",
      "  warnings.warn(\"Estimator fit failed. The score on this train-test\"\n",
      "/home/skciller/anaconda3/lib/python3.9/site-packages/sklearn/model_selection/_validation.py:615: FitFailedWarning: Estimator fit failed. The score on this train-test partition for these parameters will be set to nan. Details: \n",
      "Traceback (most recent call last):\n",
      "  File \"/home/skciller/anaconda3/lib/python3.9/site-packages/sklearn/model_selection/_validation.py\", line 598, in _fit_and_score\n",
      "    estimator.fit(X_train, y_train, **fit_params)\n",
      "  File \"/home/skciller/anaconda3/lib/python3.9/site-packages/sklearn/tree/_classes.py\", line 903, in fit\n",
      "    super().fit(\n",
      "  File \"/home/skciller/anaconda3/lib/python3.9/site-packages/sklearn/tree/_classes.py\", line 348, in fit\n",
      "    criterion = CRITERIA_CLF[self.criterion](self.n_outputs_,\n",
      "KeyError: 'log_loss'\n",
      "\n",
      "  warnings.warn(\"Estimator fit failed. The score on this train-test\"\n",
      "/home/skciller/anaconda3/lib/python3.9/site-packages/sklearn/model_selection/_validation.py:615: FitFailedWarning: Estimator fit failed. The score on this train-test partition for these parameters will be set to nan. Details: \n",
      "Traceback (most recent call last):\n",
      "  File \"/home/skciller/anaconda3/lib/python3.9/site-packages/sklearn/model_selection/_validation.py\", line 598, in _fit_and_score\n",
      "    estimator.fit(X_train, y_train, **fit_params)\n",
      "  File \"/home/skciller/anaconda3/lib/python3.9/site-packages/sklearn/tree/_classes.py\", line 903, in fit\n",
      "    super().fit(\n",
      "  File \"/home/skciller/anaconda3/lib/python3.9/site-packages/sklearn/tree/_classes.py\", line 348, in fit\n",
      "    criterion = CRITERIA_CLF[self.criterion](self.n_outputs_,\n",
      "KeyError: 'log_loss'\n",
      "\n",
      "  warnings.warn(\"Estimator fit failed. The score on this train-test\"\n",
      "/home/skciller/anaconda3/lib/python3.9/site-packages/sklearn/model_selection/_validation.py:615: FitFailedWarning: Estimator fit failed. The score on this train-test partition for these parameters will be set to nan. Details: \n",
      "Traceback (most recent call last):\n",
      "  File \"/home/skciller/anaconda3/lib/python3.9/site-packages/sklearn/model_selection/_validation.py\", line 598, in _fit_and_score\n",
      "    estimator.fit(X_train, y_train, **fit_params)\n",
      "  File \"/home/skciller/anaconda3/lib/python3.9/site-packages/sklearn/tree/_classes.py\", line 903, in fit\n",
      "    super().fit(\n",
      "  File \"/home/skciller/anaconda3/lib/python3.9/site-packages/sklearn/tree/_classes.py\", line 348, in fit\n",
      "    criterion = CRITERIA_CLF[self.criterion](self.n_outputs_,\n",
      "KeyError: 'log_loss'\n",
      "\n",
      "  warnings.warn(\"Estimator fit failed. The score on this train-test\"\n",
      "/home/skciller/anaconda3/lib/python3.9/site-packages/sklearn/model_selection/_validation.py:615: FitFailedWarning: Estimator fit failed. The score on this train-test partition for these parameters will be set to nan. Details: \n",
      "Traceback (most recent call last):\n",
      "  File \"/home/skciller/anaconda3/lib/python3.9/site-packages/sklearn/model_selection/_validation.py\", line 598, in _fit_and_score\n",
      "    estimator.fit(X_train, y_train, **fit_params)\n",
      "  File \"/home/skciller/anaconda3/lib/python3.9/site-packages/sklearn/tree/_classes.py\", line 903, in fit\n",
      "    super().fit(\n",
      "  File \"/home/skciller/anaconda3/lib/python3.9/site-packages/sklearn/tree/_classes.py\", line 348, in fit\n",
      "    criterion = CRITERIA_CLF[self.criterion](self.n_outputs_,\n",
      "KeyError: 'log_loss'\n",
      "\n",
      "  warnings.warn(\"Estimator fit failed. The score on this train-test\"\n",
      "/home/skciller/anaconda3/lib/python3.9/site-packages/sklearn/model_selection/_validation.py:615: FitFailedWarning: Estimator fit failed. The score on this train-test partition for these parameters will be set to nan. Details: \n",
      "Traceback (most recent call last):\n",
      "  File \"/home/skciller/anaconda3/lib/python3.9/site-packages/sklearn/model_selection/_validation.py\", line 598, in _fit_and_score\n",
      "    estimator.fit(X_train, y_train, **fit_params)\n",
      "  File \"/home/skciller/anaconda3/lib/python3.9/site-packages/sklearn/tree/_classes.py\", line 903, in fit\n",
      "    super().fit(\n",
      "  File \"/home/skciller/anaconda3/lib/python3.9/site-packages/sklearn/tree/_classes.py\", line 348, in fit\n",
      "    criterion = CRITERIA_CLF[self.criterion](self.n_outputs_,\n",
      "KeyError: 'log_loss'\n",
      "\n",
      "  warnings.warn(\"Estimator fit failed. The score on this train-test\"\n",
      "/home/skciller/anaconda3/lib/python3.9/site-packages/sklearn/model_selection/_validation.py:615: FitFailedWarning: Estimator fit failed. The score on this train-test partition for these parameters will be set to nan. Details: \n",
      "Traceback (most recent call last):\n",
      "  File \"/home/skciller/anaconda3/lib/python3.9/site-packages/sklearn/model_selection/_validation.py\", line 598, in _fit_and_score\n",
      "    estimator.fit(X_train, y_train, **fit_params)\n",
      "  File \"/home/skciller/anaconda3/lib/python3.9/site-packages/sklearn/tree/_classes.py\", line 903, in fit\n",
      "    super().fit(\n",
      "  File \"/home/skciller/anaconda3/lib/python3.9/site-packages/sklearn/tree/_classes.py\", line 348, in fit\n",
      "    criterion = CRITERIA_CLF[self.criterion](self.n_outputs_,\n",
      "KeyError: 'log_loss'\n",
      "\n",
      "  warnings.warn(\"Estimator fit failed. The score on this train-test\"\n",
      "/home/skciller/anaconda3/lib/python3.9/site-packages/sklearn/model_selection/_validation.py:615: FitFailedWarning: Estimator fit failed. The score on this train-test partition for these parameters will be set to nan. Details: \n",
      "Traceback (most recent call last):\n",
      "  File \"/home/skciller/anaconda3/lib/python3.9/site-packages/sklearn/model_selection/_validation.py\", line 598, in _fit_and_score\n",
      "    estimator.fit(X_train, y_train, **fit_params)\n",
      "  File \"/home/skciller/anaconda3/lib/python3.9/site-packages/sklearn/tree/_classes.py\", line 903, in fit\n",
      "    super().fit(\n",
      "  File \"/home/skciller/anaconda3/lib/python3.9/site-packages/sklearn/tree/_classes.py\", line 348, in fit\n",
      "    criterion = CRITERIA_CLF[self.criterion](self.n_outputs_,\n",
      "KeyError: 'log_loss'\n",
      "\n",
      "  warnings.warn(\"Estimator fit failed. The score on this train-test\"\n",
      "/home/skciller/anaconda3/lib/python3.9/site-packages/sklearn/model_selection/_validation.py:615: FitFailedWarning: Estimator fit failed. The score on this train-test partition for these parameters will be set to nan. Details: \n",
      "Traceback (most recent call last):\n",
      "  File \"/home/skciller/anaconda3/lib/python3.9/site-packages/sklearn/model_selection/_validation.py\", line 598, in _fit_and_score\n",
      "    estimator.fit(X_train, y_train, **fit_params)\n",
      "  File \"/home/skciller/anaconda3/lib/python3.9/site-packages/sklearn/tree/_classes.py\", line 903, in fit\n",
      "    super().fit(\n",
      "  File \"/home/skciller/anaconda3/lib/python3.9/site-packages/sklearn/tree/_classes.py\", line 348, in fit\n",
      "    criterion = CRITERIA_CLF[self.criterion](self.n_outputs_,\n",
      "KeyError: 'log_loss'\n",
      "\n",
      "  warnings.warn(\"Estimator fit failed. The score on this train-test\"\n",
      "/home/skciller/anaconda3/lib/python3.9/site-packages/sklearn/model_selection/_search.py:922: UserWarning: One or more of the test scores are non-finite: [0.85963986 0.85810226 0.86029795 0.85844888        nan        nan]\n",
      "  warnings.warn(\n"
     ]
    },
    {
     "name": "stdout",
     "output_type": "stream",
     "text": [
      "Testing score: 0.8665117938246505\n",
      "Best Model: GridSearchCV(estimator=DecisionTreeClassifier(),\n",
      "             param_grid={'criterion': ['gini', 'entropy', 'log_loss'],\n",
      "                         'splitter': ['best', 'random']})\n"
     ]
    }
   ],
   "source": [
    "from sklearn.model_selection import GridSearchCV\n",
    "#from sklearn.model_selection import cross_val_score\n",
    "from sklearn.tree import DecisionTreeClassifier\n",
    "\n",
    "def find_best_hyperparameters_decision_tree(X_train, y_train):\n",
    "    \"\"\"\n",
    "    Input: The training X features and Y labels/values\n",
    "    Output: The classifier with the best hyperparams and the predictions\n",
    "    \"\"\"\n",
    "    clf = DecisionTreeClassifier() # Create your base classifier\n",
    "    param_grid = {\"criterion\": ['gini', 'entropy', 'log_loss'],\n",
    "                     \"splitter\": ['best', 'random']}\n",
    "    \n",
    "    search = GridSearchCV(clf, param_grid)\n",
    "    search.fit(X_train,y_train)\n",
    "    return search, search.predict(X_test)\n",
    "\n",
    "best_model, predictions = find_best_hyperparameters_decision_tree(X_train, y_train)\n",
    "\n",
    "# Fit the data in\n",
    "best_model.fit(X=X_train, y=y_train)\n",
    "\n",
    "# Print the test score\n",
    "print(\"Testing score:\", best_model.score(X_test,y_test))"
   ]
  },
  {
   "cell_type": "code",
   "execution_count": 70,
   "id": "4017ac5a",
   "metadata": {},
   "outputs": [],
   "source": [
    "# THis will take some time to run..\n",
    "#UserWarning: One or more of the test scores are non-finite: [0.85957704 0.85831884 0.86019032 0.85869841 nan nan]"
   ]
  },
  {
   "cell_type": "code",
   "execution_count": 19,
   "id": "7b41b14c",
   "metadata": {},
   "outputs": [
    {
     "name": "stdout",
     "output_type": "stream",
     "text": [
      "Best Params: {'criterion': 'entropy', 'splitter': 'best'}\n",
      "Testing score: 0.8665117938246505\n"
     ]
    }
   ],
   "source": [
    "# Print best params, and the test score\n",
    "print(\"Best Params:\", best_model.best_params_)\n",
    "print(\"Testing score:\", best_model.score(X_test,y_test))"
   ]
  },
  {
   "cell_type": "code",
   "execution_count": null,
   "id": "45bc9197",
   "metadata": {},
   "outputs": [],
   "source": []
  }
 ],
 "metadata": {
  "kernelspec": {
   "display_name": "Python 3 (ipykernel)",
   "language": "python",
   "name": "python3"
  },
  "language_info": {
   "codemirror_mode": {
    "name": "ipython",
    "version": 3
   },
   "file_extension": ".py",
   "mimetype": "text/x-python",
   "name": "python",
   "nbconvert_exporter": "python",
   "pygments_lexer": "ipython3",
   "version": "3.9.7"
  }
 },
 "nbformat": 4,
 "nbformat_minor": 5
}
