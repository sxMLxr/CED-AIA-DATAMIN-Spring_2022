{
 "cells": [
  {
   "cell_type": "code",
   "execution_count": 2,
   "id": "c0ff7c06",
   "metadata": {},
   "outputs": [],
   "source": [
    "import pandas as pd\n",
    "import numpy as np\n",
    "import matplotlib.pyplot as plt\n",
    "%matplotlib inline\n",
    "\n",
    "import seaborn as sns\n",
    "import sklearn\n",
    "#import json\n",
    "import warnings\n",
    "warnings.filterwarnings('ignore')"
   ]
  },
  {
   "cell_type": "markdown",
   "id": "a3750cfb",
   "metadata": {},
   "source": [
    "## 1. Lets load the data that we preprocessed\n",
    "* Step 2.  train_split_test data\n",
    "* Step 3.  Feature Scaling using Standard Scale\n",
    "* Step 4.  Apply PCA function"
   ]
  },
  {
   "cell_type": "code",
   "execution_count": 3,
   "id": "76e2aa69",
   "metadata": {},
   "outputs": [],
   "source": [
    "df= pd.read_csv(\"../Accident_Stats/Processed_USAccidents.csv\")\n",
    "df.drop(['Unnamed: 0'], axis=1, inplace=True)"
   ]
  },
  {
   "cell_type": "code",
   "execution_count": null,
   "id": "c5f2c7e7",
   "metadata": {
    "scrolled": true
   },
   "outputs": [],
   "source": [
    "df.head()   #see data and start looking to filter out data"
   ]
  },
  {
   "cell_type": "code",
   "execution_count": 13,
   "id": "dafdaafd",
   "metadata": {},
   "outputs": [
    {
     "data": {
      "text/plain": [
       "(2845342, 21)"
      ]
     },
     "execution_count": 13,
     "metadata": {},
     "output_type": "execute_result"
    }
   ],
   "source": [
    "df.shape"
   ]
  },
  {
   "cell_type": "code",
   "execution_count": null,
   "id": "460bee19",
   "metadata": {},
   "outputs": [],
   "source": [
    "df.isna().sum() # View any null data stats... confirm no further processing is needed "
   ]
  },
  {
   "cell_type": "code",
   "execution_count": null,
   "id": "e6fe7479",
   "metadata": {},
   "outputs": [],
   "source": [
    "df.columns   #print columns and verify preprocessed data is what we want to use to train models"
   ]
  },
  {
   "cell_type": "markdown",
   "id": "b04b3217",
   "metadata": {},
   "source": [
    "# Severity will be our expected \"result\"\n",
    "## All other columns will be used to train, test the data\n"
   ]
  },
  {
   "cell_type": "code",
   "execution_count": 4,
   "id": "7fa4c49b",
   "metadata": {},
   "outputs": [],
   "source": [
    "y = df['Severity']\n",
    "X = df.drop(['Severity'], axis = 1)"
   ]
  },
  {
   "cell_type": "code",
   "execution_count": 5,
   "id": "bb815be8",
   "metadata": {},
   "outputs": [],
   "source": [
    "# 2\n",
    "from sklearn.model_selection import train_test_split\n",
    "X_train, X_test, y_train, y_test = train_test_split(X, y, test_size=0.2, random_state=42)"
   ]
  },
  {
   "cell_type": "code",
   "execution_count": 6,
   "id": "b1483c82",
   "metadata": {},
   "outputs": [],
   "source": [
    "# 3\n",
    "# performing preprocessing part\n",
    "from sklearn.preprocessing import StandardScaler\n",
    "sc = StandardScaler()\n",
    " \n",
    "X_train = sc.fit_transform(X_train)\n",
    "X_test = sc.transform(X_test)"
   ]
  },
  {
   "cell_type": "code",
   "execution_count": null,
   "id": "854d9ba2",
   "metadata": {
    "scrolled": true
   },
   "outputs": [],
   "source": [
    "# 4  PCA \n",
    "from sklearn.decomposition import PCA\n",
    "# Make an instance of the Model, apply pc on training and test of X component \n",
    "#pca = PCA(n_components = 2) #PCA of 2 might be alittle extreme... adjusting to 8\n",
    "pca = PCA(n_components = 8)\n",
    "\n",
    "X_train = pca.fit_transform(X_train)\n",
    "X_test = pca.transform(X_test)\n",
    " \n",
    "explained_variance = pca.explained_variance_ratio_"
   ]
  },
  {
   "cell_type": "markdown",
   "id": "1e2d2d02",
   "metadata": {},
   "source": [
    "# We have values... time to set models and test which model will be appropiate for this dataset\n"
   ]
  },
  {
   "cell_type": "code",
   "execution_count": 6,
   "id": "ff09ea19",
   "metadata": {},
   "outputs": [
    {
     "data": {
      "text/plain": [
       "LogisticRegression(random_state=0)"
      ]
     },
     "execution_count": 6,
     "metadata": {},
     "output_type": "execute_result"
    }
   ],
   "source": [
    "# 5\n",
    "#Fitting Logistic Regression To the training set\n",
    "from sklearn.linear_model import LogisticRegression \n",
    " \n",
    "classifier = LogisticRegression(random_state = 0)\n",
    "classifier.fit(X_train, y_train)"
   ]
  },
  {
   "cell_type": "code",
   "execution_count": 7,
   "id": "0b52d988",
   "metadata": {},
   "outputs": [],
   "source": [
    "#6 Predicting the test set result \n",
    "y_pred = classifier.predict(X_test)"
   ]
  },
  {
   "cell_type": "code",
   "execution_count": 8,
   "id": "eda86b70",
   "metadata": {},
   "outputs": [
    {
     "data": {
      "text/plain": [
       "array([[     0,   5192,      0,      0],\n",
       "       [     5, 506662,     89,      1],\n",
       "       [     2,  30858,     24,      0],\n",
       "       [     0,  26228,      8,      0]])"
      ]
     },
     "execution_count": 8,
     "metadata": {},
     "output_type": "execute_result"
    }
   ],
   "source": [
    "# 7\n",
    "from sklearn.metrics import confusion_matrix\n",
    "confusion_matrix(y_test, y_pred)"
   ]
  },
  {
   "cell_type": "code",
   "execution_count": 10,
   "id": "8dfa4fcc",
   "metadata": {},
   "outputs": [
    {
     "name": "stdout",
     "output_type": "stream",
     "text": [
      "LR Accuracy: 0.8903770895972193\n"
     ]
    }
   ],
   "source": [
    "from sklearn import metrics \n",
    "print(\"LR Accuracy:\",metrics.accuracy_score(y_test, y_pred))  #Accuracy is 0.8914108783591436"
   ]
  },
  {
   "cell_type": "markdown",
   "id": "bd112635",
   "metadata": {},
   "source": [
    "# Decision Tree"
   ]
  },
  {
   "cell_type": "code",
   "execution_count": 21,
   "id": "676c73ed",
   "metadata": {},
   "outputs": [],
   "source": [
    "from sklearn.tree import DecisionTreeClassifier \n",
    "from sklearn.model_selection import train_test_split \n",
    "from sklearn import metrics \n",
    "from sklearn.metrics import classification_report"
   ]
  },
  {
   "cell_type": "code",
   "execution_count": 24,
   "id": "3b6ac0f4",
   "metadata": {},
   "outputs": [],
   "source": [
    "from sklearn.tree import DecisionTreeClassifier\n",
    "gini_tree = DecisionTreeClassifier(criterion = \"gini\", random_state=128).fit(X=X_train, y=y_train)"
   ]
  },
  {
   "cell_type": "code",
   "execution_count": 25,
   "id": "e101c3d1",
   "metadata": {},
   "outputs": [],
   "source": [
    "from sklearn.metrics import classification_report\n",
    "from sklearn.metrics import confusion_matrix\n",
    "predicted_y = gini_tree.predict(X_test)"
   ]
  },
  {
   "cell_type": "code",
   "execution_count": 26,
   "id": "69009b11",
   "metadata": {},
   "outputs": [
    {
     "name": "stdout",
     "output_type": "stream",
     "text": [
      "              precision    recall  f1-score   support\n",
      "\n",
      "           1       0.40      0.34      0.37      6103\n",
      "           2       0.92      0.93      0.93    505290\n",
      "           3       0.28      0.28      0.28     31030\n",
      "           4       0.33      0.32      0.32     26646\n",
      "\n",
      "    accuracy                           0.86    569069\n",
      "   macro avg       0.48      0.47      0.48    569069\n",
      "weighted avg       0.86      0.86      0.86    569069\n",
      "\n"
     ]
    }
   ],
   "source": [
    "print(classification_report(predicted_y,y_test))"
   ]
  },
  {
   "cell_type": "code",
   "execution_count": null,
   "id": "b8e0872f",
   "metadata": {},
   "outputs": [],
   "source": []
  },
  {
   "cell_type": "code",
   "execution_count": 27,
   "id": "13a5519f",
   "metadata": {},
   "outputs": [],
   "source": [
    "entropy_tree = DecisionTreeClassifier(criterion = \"entropy\", max_depth=4).fit(X=X_train, y=y_train)"
   ]
  },
  {
   "cell_type": "code",
   "execution_count": 28,
   "id": "9c93ed7e",
   "metadata": {},
   "outputs": [],
   "source": [
    "predictedE_y = entropy_tree.predict(X_test)"
   ]
  },
  {
   "cell_type": "code",
   "execution_count": 29,
   "id": "87be4832",
   "metadata": {},
   "outputs": [
    {
     "name": "stdout",
     "output_type": "stream",
     "text": [
      "DT Accuracy: 0.8908234326593084\n"
     ]
    }
   ],
   "source": [
    "print(\"DT Accuracy:\",metrics.accuracy_score(predictedE_y, y_test))  #Accuracy is 0.8914108783591436"
   ]
  },
  {
   "cell_type": "code",
   "execution_count": 31,
   "id": "8c4f5085",
   "metadata": {},
   "outputs": [
    {
     "name": "stdout",
     "output_type": "stream",
     "text": [
      "              precision    recall  f1-score   support\n",
      "\n",
      "           1     0.5055    0.1595    0.2425      5192\n",
      "           2     0.8920    0.9985    0.9422    506757\n",
      "           3     0.7677    0.0039    0.0077     30884\n",
      "           4     0.0000    0.0000    0.0000     26236\n",
      "\n",
      "    accuracy                         0.8908    569069\n",
      "   macro avg     0.5413    0.2905    0.2981    569069\n",
      "weighted avg     0.8406    0.8908    0.8417    569069\n",
      "\n"
     ]
    }
   ],
   "source": [
    "print(classification_report(y_test, predictedE_y, digits=4))"
   ]
  },
  {
   "cell_type": "code",
   "execution_count": 34,
   "id": "e28b0146",
   "metadata": {},
   "outputs": [],
   "source": [
    "from sklearn.ensemble import AdaBoostClassifier"
   ]
  },
  {
   "cell_type": "code",
   "execution_count": 36,
   "id": "705fddc4",
   "metadata": {},
   "outputs": [],
   "source": [
    "# Fit the Adaboost classifier \n",
    "DS = AdaBoostClassifier()\n",
    "DSFit= DS.fit(X_train, y_train)  #recycling existing data"
   ]
  },
  {
   "cell_type": "code",
   "execution_count": 37,
   "id": "abc45901",
   "metadata": {},
   "outputs": [],
   "source": [
    "# predict the labels for the test data\n",
    "pred_y = DSFit.predict(X_test)"
   ]
  },
  {
   "cell_type": "code",
   "execution_count": 38,
   "id": "868cdd7d",
   "metadata": {},
   "outputs": [
    {
     "name": "stdout",
     "output_type": "stream",
     "text": [
      "              precision    recall  f1-score   support\n",
      "\n",
      "           1       0.00      0.17      0.00        75\n",
      "           2       1.00      0.89      0.94    568759\n",
      "           3       0.00      0.17      0.00       235\n",
      "           4       0.00      0.00      0.00         0\n",
      "\n",
      "    accuracy                           0.89    569069\n",
      "   macro avg       0.25      0.31      0.24    569069\n",
      "weighted avg       1.00      0.89      0.94    569069\n",
      "\n"
     ]
    }
   ],
   "source": [
    "# print its performance\n",
    "print(classification_report(pred_y, y_test))  #predictions are always against test data"
   ]
  },
  {
   "cell_type": "code",
   "execution_count": 42,
   "id": "33dd82a0",
   "metadata": {},
   "outputs": [
    {
     "data": {
      "text/plain": [
       "AdaBoostClassifier(base_estimator=DecisionTreeClassifier(random_state=128),\n",
       "                   n_estimators=20, random_state=145)"
      ]
     },
     "execution_count": 42,
     "metadata": {},
     "output_type": "execute_result"
    }
   ],
   "source": [
    "#gini_tree = DecisionTreeClassifier(criterion = \"gini\", random_state=128)\n",
    "adadt = AdaBoostClassifier(base_estimator=gini_tree,n_estimators=20,random_state=145)\n",
    "adadt.fit(X_train,y_train)"
   ]
  },
  {
   "cell_type": "code",
   "execution_count": 43,
   "id": "301a6e06",
   "metadata": {},
   "outputs": [],
   "source": [
    "predictedadadt_y = adadt.predict(X_test)"
   ]
  },
  {
   "cell_type": "code",
   "execution_count": 44,
   "id": "0fd8e935",
   "metadata": {},
   "outputs": [
    {
     "name": "stdout",
     "output_type": "stream",
     "text": [
      "              precision    recall  f1-score   support\n",
      "\n",
      "           1       0.37      0.62      0.46      3056\n",
      "           2       0.97      0.92      0.94    532675\n",
      "           3       0.23      0.40      0.29     17318\n",
      "           4       0.30      0.50      0.38     16020\n",
      "\n",
      "    accuracy                           0.89    569069\n",
      "   macro avg       0.47      0.61      0.52    569069\n",
      "weighted avg       0.92      0.89      0.90    569069\n",
      "\n"
     ]
    }
   ],
   "source": [
    "print(classification_report(predictedadadt_y,y_test))"
   ]
  },
  {
   "cell_type": "markdown",
   "id": "1a02da32",
   "metadata": {},
   "source": [
    "### Important feature determination"
   ]
  },
  {
   "cell_type": "code",
   "execution_count": null,
   "id": "2515f15b",
   "metadata": {},
   "outputs": [],
   "source": [
    "Decision TREE Conclusion:\n",
    "    # DT Accuracy with Scalar and Features Removed : 0.8903846401664474\n",
    "    # DT Accuracy with Scalar only:                  0.8903846401664474"
   ]
  },
  {
   "cell_type": "code",
   "execution_count": null,
   "id": "8df09be1",
   "metadata": {},
   "outputs": [],
   "source": [
    "%whos"
   ]
  },
  {
   "cell_type": "code",
   "execution_count": null,
   "id": "7076efdc",
   "metadata": {},
   "outputs": [],
   "source": [
    "#entropy_tree = DecisionTreeClassifier(criterion = \"entropy\", max_depth=4).fit(X=X_train, y=y_train)"
   ]
  },
  {
   "cell_type": "code",
   "execution_count": 45,
   "id": "e7c3612b",
   "metadata": {},
   "outputs": [
    {
     "data": {
      "text/plain": [
       "AdaBoostClassifier(base_estimator=DecisionTreeClassifier(criterion='entropy',\n",
       "                                                         max_depth=4),\n",
       "                   n_estimators=20, random_state=145)"
      ]
     },
     "execution_count": 45,
     "metadata": {},
     "output_type": "execute_result"
    }
   ],
   "source": [
    "e_adt = AdaBoostClassifier(base_estimator=entropy_tree,n_estimators=20,random_state=145)\n",
    "e_adt.fit(X_train,y_train)"
   ]
  },
  {
   "cell_type": "code",
   "execution_count": 46,
   "id": "7c1b94b8",
   "metadata": {},
   "outputs": [],
   "source": [
    "predictedE_adt_y = e_adt.predict(X_test)"
   ]
  },
  {
   "cell_type": "code",
   "execution_count": 47,
   "id": "d3b9fe71",
   "metadata": {},
   "outputs": [
    {
     "name": "stdout",
     "output_type": "stream",
     "text": [
      "              precision    recall  f1-score   support\n",
      "\n",
      "           1       0.14      0.58      0.22      1232\n",
      "           2       1.00      0.89      0.94    565362\n",
      "           3       0.02      0.30      0.03      1673\n",
      "           4       0.01      0.21      0.01       802\n",
      "\n",
      "    accuracy                           0.89    569069\n",
      "   macro avg       0.29      0.50      0.30    569069\n",
      "weighted avg       0.99      0.89      0.94    569069\n",
      "\n"
     ]
    }
   ],
   "source": [
    "print(classification_report(predictedE_adt_y,y_test))"
   ]
  },
  {
   "cell_type": "code",
   "execution_count": 10,
   "id": "c107d63d",
   "metadata": {},
   "outputs": [
    {
     "name": "stdout",
     "output_type": "stream",
     "text": [
      "[2 2 2 ... 2 2 2]\n"
     ]
    }
   ],
   "source": [
    "from sklearn.ensemble import GradientBoostingClassifier\n",
    "gradient_boosted_tree = GradientBoostingClassifier(n_estimators=50, random_state=125)\n",
    "g_boost = gradient_boosted_tree.fit(X_train,y_train)"
   ]
  },
  {
   "cell_type": "code",
   "execution_count": 14,
   "id": "b5507d7e",
   "metadata": {},
   "outputs": [
    {
     "name": "stdout",
     "output_type": "stream",
     "text": [
      "[2 2 2 ... 2 2 2]\n"
     ]
    }
   ],
   "source": [
    "gb_predictions = g_boost.predict(X_test)\n",
    "print(gb_predictions)"
   ]
  },
  {
   "cell_type": "code",
   "execution_count": 16,
   "id": "f27e9a11",
   "metadata": {},
   "outputs": [
    {
     "name": "stdout",
     "output_type": "stream",
     "text": [
      "              precision    recall  f1-score   support\n",
      "\n",
      "           1       0.15      0.65      0.24      1169\n",
      "           2       1.00      0.89      0.94    567726\n",
      "           3       0.00      0.71      0.01       174\n",
      "           4       0.00      0.00      0.00         0\n",
      "\n",
      "    accuracy                           0.89    569069\n",
      "   macro avg       0.29      0.56      0.30    569069\n",
      "weighted avg       1.00      0.89      0.94    569069\n",
      "\n"
     ]
    }
   ],
   "source": [
    "from sklearn.metrics import classification_report\n",
    "print(classification_report(gb_predictions,y_test))"
   ]
  },
  {
   "cell_type": "code",
   "execution_count": null,
   "id": "a3c7bd84",
   "metadata": {},
   "outputs": [],
   "source": []
  },
  {
   "cell_type": "code",
   "execution_count": 18,
   "id": "f97db342",
   "metadata": {},
   "outputs": [
    {
     "data": {
      "text/plain": [
       "<BarContainer object of 6 artists>"
      ]
     },
     "execution_count": 18,
     "metadata": {},
     "output_type": "execute_result"
    },
    {
     "data": {
      "image/png": "[encoded data removed]",
      "text/plain": [
       "<Figure size 432x288 with 1 Axes>"
      ]
     },
     "metadata": {
      "needs_background": "light"
     },
     "output_type": "display_data"
    }
   ],
   "source": [
    "x_label = ['DT','DT_ADA', 'ADA', 'ET','ET_ADA', 'GBoost']\n",
    "y_label = ['86','89','89','89.08','89','89']\n",
    "plt.title(\"Standard Scalar, No Feature Reduction\")\n",
    "plt.bar(x_label, y_label)"
   ]
  },
  {
   "cell_type": "code",
   "execution_count": 17,
   "id": "ff3422e3",
   "metadata": {},
   "outputs": [
    {
     "data": {
      "text/plain": [
       "<BarContainer object of 5 artists>"
      ]
     },
     "execution_count": 17,
     "metadata": {},
     "output_type": "execute_result"
    },
    {
     "data": {
      "image/png": "[encoded data removed]",
      "text/plain": [
       "<Figure size 432x288 with 1 Axes>"
      ]
     },
     "metadata": {
      "needs_background": "light"
     },
     "output_type": "display_data"
    }
   ],
   "source": [
    "x2_label = ['LR','logR','RF','KNN','MLP']\n",
    "y2_label = ['0.08','0.089','88.6','89.05','100']\n",
    "plt.title(\"Standard Scalar, No Feature Reduction\")\n",
    "plt.bar(x2_label, y2_label)"
   ]
  },
  {
   "cell_type": "code",
   "execution_count": null,
   "id": "627c4335",
   "metadata": {},
   "outputs": [],
   "source": []
  }
 ],
 "metadata": {
  "kernelspec": {
   "display_name": "Python 3 (ipykernel)",
   "language": "python",
   "name": "python3"
  },
  "language_info": {
   "codemirror_mode": {
    "name": "ipython",
    "version": 3
   },
   "file_extension": ".py",
   "mimetype": "text/x-python",
   "name": "python",
   "nbconvert_exporter": "python",
   "pygments_lexer": "ipython3",
   "version": "3.9.7"
  }
 },
 "nbformat": 4,
 "nbformat_minor": 5
}
