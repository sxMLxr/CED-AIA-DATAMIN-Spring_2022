{
 "cells": [
  {
   "cell_type": "markdown",
   "metadata": {},
   "source": [
    "# Workshop 9: ANNs\n",
    "---"
   ]
  },
  {
   "cell_type": "markdown",
   "metadata": {},
   "source": [
    "## 1) Neural Network Playground (Follow: Explore individually; Discuss as a Class)"
   ]
  },
  {
   "cell_type": "markdown",
   "metadata": {},
   "source": [
    "First, go to Tensorflow's [Neural Network Playground](https://playground.tensorflow.org/). This website is an interactive and exploratory visualization of how the features, number of layers, training time, etc, influence the classification boundries of an ANN. Right now, we'll only worry ourselves with *classification* problems.\n",
    "\n",
    "Play with the visualization, and then answer the following questions below.\n",
    "\n",
    "### Scenarios\n",
    "\n",
    "1. Using the default network topology, try training the network with the different activation functions (ReLU, Tanh, Sigmoid, Linear). What effect does the activation function have on the training time? What effect does the activation function have on the shape of the classification boundries?\n",
    "2. Take a look at [this setup](https://playground.tensorflow.org/#activation=tanh&batchSize=10&dataset=xor&regDataset=reg-plane&learningRate=0.03&regularizationRate=0&noise=0&networkShape=4,2&seed=0.21855&showTestData=false&discretize=false&percTrainData=50&x=true&y=true&xTimesY=false&xSquared=false&ySquared=false&cosX=false&sinX=false&cosY=false&sinY=false&collectStats=false&problem=classification&initZero=false&hideText=false). Train until the classification boundry converges. This is one of the rare cases where the nodes in an ANN can be (semi) interpreted. What do the nodes in the first hidden layer represent? What about the second hidden layer? How do you think the ANN uses these learned \"features\" to make a decision?\n",
    "\n",
    "### Exploration\n",
    "For each of the following questions:\n",
    "* Make a prediction before you begin exploring and testing.\n",
    "* Explain why you think this scenario has this property.\n",
    "\n",
    "**Questions**\n",
    "\n",
    "3. Find a scenario where a simple model (fewer neurons) outperforms a complex model. (In regards to overfitting)\n",
    "4. Find a scenario where no hidden layers perform well.\n",
    "5. Find a scenario where a model with no hidden layers performs poorly no matter the features.\n",
    "6. Find a scenario where it takes a lot of training time to get a correct solution."
   ]
  },
  {
   "cell_type": "markdown",
   "metadata": {},
   "source": [
    "1. [Answer]\n",
    "2. [Answer]\n",
    "3. [Answer]\n",
    "4. [Answer]\n",
    "5. [Answer]\n",
    "6. [Answer]"
   ]
  },
  {
   "cell_type": "markdown",
   "metadata": {},
   "source": [
    "## 2) Training and Testing a Neural Network (Group)\n",
    "\n",
    "For this problem, you'll be looking at a reduced subset of the [Credit Card Fraud Data](https://www.kaggle.com/mlg-ulb/creditcardfraud), which contains transactions made by credit cards in September 2013 by European cardholders, including some fradulent transactions.\n",
    " \n",
    "There are two interesting properties about this dataset:\n",
    "\n",
    "1) **The data only contains dimensionality reduced data from a PCA transformation.** Sometimes, due to privacy concerns, all of the features (and even the names of the features used) cannot be known. Therefore, you'll be trying to train a model of data that has been reduced in dimensions with uninterpretable features.\n",
    "\n",
    "2) **The dataset is highly unbalanced.** The positive class (frauds) account for 0.172% of all transactions.\n",
    "\n",
    "Knowing the data, what classification metrics (Precision, Recall, F1-Score) are most appropriate and why?"
   ]
  },
  {
   "cell_type": "markdown",
   "metadata": {},
   "source": [
    "**Write your answer here.**"
   ]
  },
  {
   "cell_type": "markdown",
   "metadata": {},
   "source": [
    "For this question, **you have enough experience to do the entire model pipeline yourself**. That means *loading the data, creating splits, scaling the data, training and tuning the model, and evaluating the model.*"
   ]
  },
  {
   "cell_type": "code",
   "execution_count": 1,
   "metadata": {},
   "outputs": [],
   "source": [
    "#Import necessary libraries\n",
    "import pandas as pd\n",
    "import numpy as np\n",
    "import warnings\n",
    "warnings.filterwarnings('ignore')\n",
    "\n",
    "random_state = 42"
   ]
  },
  {
   "cell_type": "markdown",
   "metadata": {},
   "source": [
    "### Step 1: Load the data into a dataframe. Use `value_counts` to check the class balance."
   ]
  },
  {
   "cell_type": "code",
   "execution_count": 24,
   "metadata": {
    "scrolled": true
   },
   "outputs": [
    {
     "data": {
      "text/plain": [
       "0    85284\n",
       "1      158\n",
       "Name: Class, dtype: int64"
      ]
     },
     "execution_count": 24,
     "metadata": {},
     "output_type": "execute_result"
    }
   ],
   "source": [
    "df = pd.read_csv('creditcard.csv')\n",
    "df['Class'].value_counts()"
   ]
  },
  {
   "cell_type": "code",
   "execution_count": 3,
   "metadata": {
    "scrolled": true
   },
   "outputs": [
    {
     "data": {
      "text/plain": [
       "Index(['Time', 'V1', 'V2', 'V3', 'V4', 'V5', 'V6', 'V7', 'V8', 'V9', 'V10',\n",
       "       'V11', 'V12', 'V13', 'V14', 'V15', 'V16', 'V17', 'V18', 'V19', 'V20',\n",
       "       'V21', 'V22', 'V23', 'V24', 'V25', 'V26', 'V27', 'V28', 'Amount',\n",
       "       'Class'],\n",
       "      dtype='object')"
      ]
     },
     "execution_count": 3,
     "metadata": {},
     "output_type": "execute_result"
    }
   ],
   "source": [
    "df.columns"
   ]
  },
  {
   "cell_type": "markdown",
   "metadata": {},
   "source": [
    "### Step 2: Partition the data into an X dataframe (features) and Y single-column dataframe (class)"
   ]
  },
  {
   "cell_type": "code",
   "execution_count": 4,
   "metadata": {},
   "outputs": [
    {
     "name": "stdout",
     "output_type": "stream",
     "text": [
      "Features shape\n",
      "(85442, 30)\n",
      "Class shape\n",
      "(85442,)\n"
     ]
    }
   ],
   "source": [
    "Features = df.drop(columns=['Class']).copy()\n",
    "\n",
    "Class = df['Class'].copy()\n",
    "\n",
    "print('Features shape')\n",
    "print(Features.shape)\n",
    "\n",
    "print('Class shape')\n",
    "print(Class.shape)"
   ]
  },
  {
   "cell_type": "markdown",
   "metadata": {},
   "source": [
    "### Step 3: Create your train/test split. Use the provided random_state.\n",
    "\n",
    "**Note**: You should use a `train_size` of 0.7, or 70%"
   ]
  },
  {
   "cell_type": "code",
   "execution_count": 6,
   "metadata": {},
   "outputs": [],
   "source": [
    "from sklearn.model_selection import train_test_split"
   ]
  },
  {
   "cell_type": "code",
   "execution_count": 7,
   "metadata": {},
   "outputs": [
    {
     "name": "stdout",
     "output_type": "stream",
     "text": [
      "X_train shape\n",
      "(59809, 30)\n",
      "y_train shape\n",
      "(59809,)\n",
      "X_test shape\n",
      "(25633, 30)\n",
      "y_test shape\n",
      "(25633,)\n"
     ]
    }
   ],
   "source": [
    "X_train, X_test, y_train,y_test = train_test_split(Features,Class, train_size=0.7)\n",
    "\n",
    "print(\"X_train shape\")\n",
    "print(X_train.shape)\n",
    "\n",
    "print(\"y_train shape\")\n",
    "print(y_train.shape)\n",
    "\n",
    "print(\"X_test shape\")\n",
    "print(X_test.shape)\n",
    "\n",
    "print(\"y_test shape\")\n",
    "print(y_test.shape)"
   ]
  },
  {
   "cell_type": "code",
   "execution_count": 29,
   "metadata": {},
   "outputs": [
    {
     "name": "stdout",
     "output_type": "stream",
     "text": [
      "y_train value counts\n",
      "0    59700\n",
      "1      109\n",
      "Name: Class, dtype: int64\n",
      "\n",
      "\n",
      "y_test value counts\n",
      "0    25584\n",
      "1       49\n",
      "Name: Class, dtype: int64\n"
     ]
    }
   ],
   "source": [
    "print('y_train value counts')\n",
    "print(y_train.value_counts())\n",
    "\n",
    "print('\\n\\ny_test value counts')\n",
    "print(y_test.value_counts())"
   ]
  },
  {
   "cell_type": "markdown",
   "metadata": {},
   "source": [
    "### Step 4: Use a [MinMaxScaler](https://scikit-learn.org/stable/modules/generated/sklearn.preprocessing.MinMaxScaler.html) to standardize the data. \n",
    "\n",
    "Fit the scaler only the the training X features, and then apply it to both training and test X features. We do this because in practice, we wouldn't be able to see data in the test X, so it shouldn't affect feature transformation. We therefore only use X_train for feature transformation.\n",
    "\n",
    "**Note**: Even though most of the features are already transformed using PCA (which would not require additional standardize), there is one other feature (time) that is not, so we should scale as a best practice."
   ]
  },
  {
   "cell_type": "code",
   "execution_count": 9,
   "metadata": {},
   "outputs": [],
   "source": [
    "from sklearn.preprocessing import MinMaxScaler"
   ]
  },
  {
   "cell_type": "code",
   "execution_count": 10,
   "metadata": {},
   "outputs": [
    {
     "name": "stdout",
     "output_type": "stream",
     "text": [
      "X_train shape\n",
      "(59809, 30)\n",
      "y_train shape\n",
      "(59809,)\n",
      "X_test shape\n",
      "(25633, 30)\n",
      "y_test shape\n",
      "(25633,)\n"
     ]
    }
   ],
   "source": [
    "scaler = MinMaxScaler()\n",
    "scaler.fit(X_train)\n",
    "\n",
    "X_train = scaler.transform(X_train)\n",
    "X_test = scaler.transform(X_test)\n",
    "\n",
    "print(\"X_train shape\")\n",
    "print(X_train.shape)\n",
    "\n",
    "print(\"y_train shape\")\n",
    "print(y_train.shape)\n",
    "\n",
    "print(\"X_test shape\")\n",
    "print(X_test.shape)\n",
    "\n",
    "print(\"y_test shape\")\n",
    "print(y_test.shape)"
   ]
  },
  {
   "cell_type": "markdown",
   "metadata": {},
   "source": [
    "### Step 5:  Train an MLP with default hyperparameters.\n",
    "\n",
    "For the following, you'll be using sklearn's built in Multi-layer Perceptron classifier [MLPClassifier](https://scikit-learn.org/stable/modules/generated/sklearn.neural_network.MLPClassifier.html).\n",
    "\n",
    "Use the default hyperparams aside from `max_iter`. `max_iter` is how many iterations of training the ANN goes though until it manually stops. The default `max_iter=200` is too long for our data currently. \n",
    "\n",
    "**Use random_state as the random_states and max_iter=20**. The detault parameters will use a single hidden layer.\n",
    "\n"
   ]
  },
  {
   "cell_type": "code",
   "execution_count": 12,
   "metadata": {},
   "outputs": [],
   "source": [
    "from sklearn.neural_network import MLPClassifier"
   ]
  },
  {
   "cell_type": "code",
   "execution_count": 13,
   "metadata": {},
   "outputs": [
    {
     "name": "stdout",
     "output_type": "stream",
     "text": [
      "Fit Score\n"
     ]
    },
    {
     "data": {
      "text/plain": [
       "0.9990246947294503"
      ]
     },
     "execution_count": 13,
     "metadata": {},
     "output_type": "execute_result"
    }
   ],
   "source": [
    "clf = MLPClassifier(random_state=random_state, max_iter=20).fit(X_train, y_train)\n",
    "y_predict = clf.predict(X_test)\n",
    "\n",
    "print('Fit Score')\n",
    "clf.score(X_test, y_test)"
   ]
  },
  {
   "cell_type": "markdown",
   "metadata": {},
   "source": [
    "### Step 6:  Evaluate the model on the test dataset using a confusion matrix and a classification report"
   ]
  },
  {
   "cell_type": "code",
   "execution_count": 14,
   "metadata": {},
   "outputs": [],
   "source": [
    "from sklearn.metrics import confusion_matrix\n",
    "from sklearn.metrics import classification_report"
   ]
  },
  {
   "cell_type": "code",
   "execution_count": 46,
   "metadata": {},
   "outputs": [
    {
     "name": "stdout",
     "output_type": "stream",
     "text": [
      "\u001b[1m\n",
      "CONFUSION MATRIX:\n",
      "\u001b[0m[[25579     5]\n",
      " [   20    29]]\n",
      "\n",
      "\n",
      "\u001b[1mCLASSIFICATION REPORT\n",
      "\u001b[0m              precision    recall  f1-score   support\n",
      "\n",
      "           0       1.00      1.00      1.00     25584\n",
      "           1       0.85      0.59      0.70        49\n",
      "\n",
      "    accuracy                           1.00     25633\n",
      "   macro avg       0.93      0.80      0.85     25633\n",
      "weighted avg       1.00      1.00      1.00     25633\n",
      "\n"
     ]
    }
   ],
   "source": [
    "print('\\033[1m') \n",
    "print('CONFUSION MATRIX:')\n",
    "print('\\033[0m', end='')\n",
    "print(confusion_matrix(y_test, y_predict))\n",
    "\n",
    "print('\\n\\n\\033[1m', end='')\n",
    "print('CLASSIFICATION REPORT')\n",
    "print('\\033[0m', end='')\n",
    "print(classification_report(y_test, y_predict))"
   ]
  },
  {
   "cell_type": "markdown",
   "metadata": {},
   "source": [
    "If all went well, your model should have an accuracy of almost 100%. Use `classification_report` to explain what you think happened. Is the model performing well? If not, is it overfitting or underfitting? Remember that the classes in the problem are very imbalanced, but out main goal is to detect fraud (class 1)."
   ]
  },
  {
   "cell_type": "markdown",
   "metadata": {},
   "source": [
    "**Note**: `classification_report` outputs Precision, Recall and F1 for both classes. Remember that how we calculate these metrics depends on which class we treat as the positive class. If we say Class 0 is the positive class, a FP means incorrectly predicting Class 0, but for Class 1 a FP is incorrectly predicting Class 1."
   ]
  },
  {
   "cell_type": "markdown",
   "metadata": {},
   "source": [
    "**Answer here**."
   ]
  },
  {
   "cell_type": "markdown",
   "metadata": {},
   "source": [
    "## 3) Hyperparameters (Group)"
   ]
  },
  {
   "cell_type": "markdown",
   "metadata": {},
   "source": [
    "**Hyperparams**:\n",
    "\n",
    "ANNs have *a lot* of hyperparams. This can include simple things such as the number of layers and nodes, up to tuning the learning rate and the gradient descent algorithm used. \n",
    "\n",
    "Unfortunately, there is no tried an true method for selecting hyperparams for a neural network. It requires a lot of experimentation and intution through experience. (In fact, one of the most successful methods in training neural networks is *Graduate Student Descent*, where you simply give the laborious process of tuning to a graduate student while you go and do more research!)\n",
    "\n",
    "For now, the paramaters that you should explore are:\n",
    "\n",
    "* `activation`: The activation function of the the ANN. Defaults to ReLU.\n",
    "* `max_iter`: The ANN will train iterations until either the loss stops improving by a specified threshold, or `max_iters` is reached. Warning: the more you increase this, the more the training time will take! Patience is a virtue.\n",
    "* `hidden_layer_sizes`: A tuple representing the structure of the hidden layers. For example, giving the tuple `(100,50)` means that there's two hidden layers: the first being of size 100, and the second being of size 50. The tuple (100,) would mean a single hidden layer of size 100.\n",
    "\n",
    "**Try different permutations of these hyperprams and see how it affects the classification scores of your model.**"
   ]
  },
  {
   "cell_type": "code",
   "execution_count": 16,
   "metadata": {
    "scrolled": true
   },
   "outputs": [
    {
     "data": {
      "text/plain": [
       "GridSearchCV(estimator=MLPClassifier(random_state=42),\n",
       "             param_grid={'activation': ['identity', 'logistic', 'tanh', 'relu'],\n",
       "                         'hidden_layer_sizes': [(20,), (20, 20), (40,),\n",
       "                                                (40, 40)],\n",
       "                         'max_iter': [10, 15, 20]})"
      ]
     },
     "execution_count": 16,
     "metadata": {},
     "output_type": "execute_result"
    }
   ],
   "source": [
    "from sklearn.model_selection import GridSearchCV\n",
    "\n",
    "clf2 = MLPClassifier(random_state=random_state).fit(X_train, y_train)\n",
    "\n",
    "parameters = {'activation':['identity','logistic','tanh','relu'], 'max_iter':[10,15,20],\\\n",
    "              'hidden_layer_sizes':[(20,),(20,20),(40,),(40,40)]}\n",
    "\n",
    "reg=GridSearchCV(clf2, parameters)\n",
    "reg.fit(X_train, y_train)"
   ]
  },
  {
   "cell_type": "code",
   "execution_count": 17,
   "metadata": {
    "scrolled": true
   },
   "outputs": [
    {
     "data": {
      "text/plain": [
       "{'mean_fit_time': array([0.97240834, 1.40522275, 1.87312751, 1.23222466, 1.83389587,\n",
       "        2.45855446, 1.0572752 , 1.58173804, 2.04868426, 1.4437151 ,\n",
       "        2.09001245, 2.93011413, 1.26729445, 1.91077294, 2.2648222 ,\n",
       "        1.51448731, 2.36574721, 3.12684884, 1.29607105, 1.95819392,\n",
       "        2.6182847 , 1.96234269, 2.95452662, 3.98048501, 1.18071837,\n",
       "        1.79875851, 2.40244188, 1.77859812, 2.68349714, 3.46445675,\n",
       "        1.49906859, 2.12478976, 2.76118584, 2.0431253 , 3.1088387 ,\n",
       "        4.20351009, 1.13626199, 1.60160322, 2.14512978, 1.52837496,\n",
       "        2.30495305, 3.02778978, 1.24337058, 1.88983593, 2.60603523,\n",
       "        1.91862154, 2.70618057, 3.63070059]),\n",
       " 'std_fit_time': array([0.0607501 , 0.03419184, 0.09564896, 0.05468422, 0.00447507,\n",
       "        0.08041   , 0.02844369, 0.03065138, 0.05502144, 0.0438601 ,\n",
       "        0.05017969, 0.19048164, 0.03186314, 0.10393002, 0.07980433,\n",
       "        0.05493482, 0.07025839, 0.0299048 , 0.04709986, 0.07671117,\n",
       "        0.0596222 , 0.04875543, 0.06584968, 0.0411846 , 0.05687316,\n",
       "        0.03653665, 0.0890086 , 0.03772913, 0.05281968, 0.09285577,\n",
       "        0.09831316, 0.01100895, 0.03022169, 0.0874043 , 0.11140177,\n",
       "        0.11976403, 0.03991768, 0.03739742, 0.03423251, 0.07141622,\n",
       "        0.04934795, 0.05665291, 0.04779149, 0.06292096, 0.11864575,\n",
       "        0.15614909, 0.03263611, 0.03730077]),\n",
       " 'mean_score_time': array([0.00241265, 0.00403357, 0.00321403, 0.00323706, 0.00040345,\n",
       "        0.0024158 , 0.00040245, 0.00527663, 0.00566788, 0.00081172,\n",
       "        0.00723372, 0.00964904, 0.00805273, 0.00808868, 0.00926018,\n",
       "        0.01130233, 0.00803719, 0.01004882, 0.01166716, 0.00647531,\n",
       "        0.00607467, 0.01893625, 0.01574874, 0.02039475, 0.00844841,\n",
       "        0.009267  , 0.00683804, 0.01612916, 0.01448169, 0.01046877,\n",
       "        0.00643516, 0.01167727, 0.00682869, 0.01857495, 0.01727867,\n",
       "        0.01814008, 0.00403008, 0.002421  , 0.00362005, 0.00641069,\n",
       "        0.00804892, 0.004036  , 0.00200481, 0.00765057, 0.00362778,\n",
       "        0.00648584, 0.00564513, 0.00684686]),\n",
       " 'std_score_time': array([0.00388542, 0.004225  , 0.00393637, 0.00396457, 0.0008069 ,\n",
       "        0.00390307, 0.0008049 , 0.0035423 , 0.00386087, 0.00099421,\n",
       "        0.00272621, 0.00075738, 0.00311223, 0.00314098, 0.00099407,\n",
       "        0.00348472, 0.00648218, 0.00637436, 0.00321401, 0.00449997,\n",
       "        0.00425741, 0.0072578 , 0.00795979, 0.00796702, 0.00601121,\n",
       "        0.00100907, 0.0035097 , 0.00492417, 0.00468124, 0.00078207,\n",
       "        0.00447893, 0.00320613, 0.00666875, 0.00713102, 0.0037435 ,\n",
       "        0.00755524, 0.00423105, 0.00391375, 0.00447826, 0.00462262,\n",
       "        0.00309946, 0.00423943, 0.00400963, 0.00296214, 0.00449126,\n",
       "        0.00451586, 0.00391349, 0.00393129]),\n",
       " 'param_activation': masked_array(data=['identity', 'identity', 'identity', 'identity',\n",
       "                    'identity', 'identity', 'identity', 'identity',\n",
       "                    'identity', 'identity', 'identity', 'identity',\n",
       "                    'logistic', 'logistic', 'logistic', 'logistic',\n",
       "                    'logistic', 'logistic', 'logistic', 'logistic',\n",
       "                    'logistic', 'logistic', 'logistic', 'logistic', 'tanh',\n",
       "                    'tanh', 'tanh', 'tanh', 'tanh', 'tanh', 'tanh', 'tanh',\n",
       "                    'tanh', 'tanh', 'tanh', 'tanh', 'relu', 'relu', 'relu',\n",
       "                    'relu', 'relu', 'relu', 'relu', 'relu', 'relu', 'relu',\n",
       "                    'relu', 'relu'],\n",
       "              mask=[False, False, False, False, False, False, False, False,\n",
       "                    False, False, False, False, False, False, False, False,\n",
       "                    False, False, False, False, False, False, False, False,\n",
       "                    False, False, False, False, False, False, False, False,\n",
       "                    False, False, False, False, False, False, False, False,\n",
       "                    False, False, False, False, False, False, False, False],\n",
       "        fill_value='?',\n",
       "             dtype=object),\n",
       " 'param_hidden_layer_sizes': masked_array(data=[(20,), (20,), (20,), (20, 20), (20, 20), (20, 20),\n",
       "                    (40,), (40,), (40,), (40, 40), (40, 40), (40, 40),\n",
       "                    (20,), (20,), (20,), (20, 20), (20, 20), (20, 20),\n",
       "                    (40,), (40,), (40,), (40, 40), (40, 40), (40, 40),\n",
       "                    (20,), (20,), (20,), (20, 20), (20, 20), (20, 20),\n",
       "                    (40,), (40,), (40,), (40, 40), (40, 40), (40, 40),\n",
       "                    (20,), (20,), (20,), (20, 20), (20, 20), (20, 20),\n",
       "                    (40,), (40,), (40,), (40, 40), (40, 40), (40, 40)],\n",
       "              mask=[False, False, False, False, False, False, False, False,\n",
       "                    False, False, False, False, False, False, False, False,\n",
       "                    False, False, False, False, False, False, False, False,\n",
       "                    False, False, False, False, False, False, False, False,\n",
       "                    False, False, False, False, False, False, False, False,\n",
       "                    False, False, False, False, False, False, False, False],\n",
       "        fill_value='?',\n",
       "             dtype=object),\n",
       " 'param_max_iter': masked_array(data=[10, 15, 20, 10, 15, 20, 10, 15, 20, 10, 15, 20, 10, 15,\n",
       "                    20, 10, 15, 20, 10, 15, 20, 10, 15, 20, 10, 15, 20, 10,\n",
       "                    15, 20, 10, 15, 20, 10, 15, 20, 10, 15, 20, 10, 15, 20,\n",
       "                    10, 15, 20, 10, 15, 20],\n",
       "              mask=[False, False, False, False, False, False, False, False,\n",
       "                    False, False, False, False, False, False, False, False,\n",
       "                    False, False, False, False, False, False, False, False,\n",
       "                    False, False, False, False, False, False, False, False,\n",
       "                    False, False, False, False, False, False, False, False,\n",
       "                    False, False, False, False, False, False, False, False],\n",
       "        fill_value='?',\n",
       "             dtype=object),\n",
       " 'params': [{'activation': 'identity',\n",
       "   'hidden_layer_sizes': (20,),\n",
       "   'max_iter': 10},\n",
       "  {'activation': 'identity', 'hidden_layer_sizes': (20,), 'max_iter': 15},\n",
       "  {'activation': 'identity', 'hidden_layer_sizes': (20,), 'max_iter': 20},\n",
       "  {'activation': 'identity', 'hidden_layer_sizes': (20, 20), 'max_iter': 10},\n",
       "  {'activation': 'identity', 'hidden_layer_sizes': (20, 20), 'max_iter': 15},\n",
       "  {'activation': 'identity', 'hidden_layer_sizes': (20, 20), 'max_iter': 20},\n",
       "  {'activation': 'identity', 'hidden_layer_sizes': (40,), 'max_iter': 10},\n",
       "  {'activation': 'identity', 'hidden_layer_sizes': (40,), 'max_iter': 15},\n",
       "  {'activation': 'identity', 'hidden_layer_sizes': (40,), 'max_iter': 20},\n",
       "  {'activation': 'identity', 'hidden_layer_sizes': (40, 40), 'max_iter': 10},\n",
       "  {'activation': 'identity', 'hidden_layer_sizes': (40, 40), 'max_iter': 15},\n",
       "  {'activation': 'identity', 'hidden_layer_sizes': (40, 40), 'max_iter': 20},\n",
       "  {'activation': 'logistic', 'hidden_layer_sizes': (20,), 'max_iter': 10},\n",
       "  {'activation': 'logistic', 'hidden_layer_sizes': (20,), 'max_iter': 15},\n",
       "  {'activation': 'logistic', 'hidden_layer_sizes': (20,), 'max_iter': 20},\n",
       "  {'activation': 'logistic', 'hidden_layer_sizes': (20, 20), 'max_iter': 10},\n",
       "  {'activation': 'logistic', 'hidden_layer_sizes': (20, 20), 'max_iter': 15},\n",
       "  {'activation': 'logistic', 'hidden_layer_sizes': (20, 20), 'max_iter': 20},\n",
       "  {'activation': 'logistic', 'hidden_layer_sizes': (40,), 'max_iter': 10},\n",
       "  {'activation': 'logistic', 'hidden_layer_sizes': (40,), 'max_iter': 15},\n",
       "  {'activation': 'logistic', 'hidden_layer_sizes': (40,), 'max_iter': 20},\n",
       "  {'activation': 'logistic', 'hidden_layer_sizes': (40, 40), 'max_iter': 10},\n",
       "  {'activation': 'logistic', 'hidden_layer_sizes': (40, 40), 'max_iter': 15},\n",
       "  {'activation': 'logistic', 'hidden_layer_sizes': (40, 40), 'max_iter': 20},\n",
       "  {'activation': 'tanh', 'hidden_layer_sizes': (20,), 'max_iter': 10},\n",
       "  {'activation': 'tanh', 'hidden_layer_sizes': (20,), 'max_iter': 15},\n",
       "  {'activation': 'tanh', 'hidden_layer_sizes': (20,), 'max_iter': 20},\n",
       "  {'activation': 'tanh', 'hidden_layer_sizes': (20, 20), 'max_iter': 10},\n",
       "  {'activation': 'tanh', 'hidden_layer_sizes': (20, 20), 'max_iter': 15},\n",
       "  {'activation': 'tanh', 'hidden_layer_sizes': (20, 20), 'max_iter': 20},\n",
       "  {'activation': 'tanh', 'hidden_layer_sizes': (40,), 'max_iter': 10},\n",
       "  {'activation': 'tanh', 'hidden_layer_sizes': (40,), 'max_iter': 15},\n",
       "  {'activation': 'tanh', 'hidden_layer_sizes': (40,), 'max_iter': 20},\n",
       "  {'activation': 'tanh', 'hidden_layer_sizes': (40, 40), 'max_iter': 10},\n",
       "  {'activation': 'tanh', 'hidden_layer_sizes': (40, 40), 'max_iter': 15},\n",
       "  {'activation': 'tanh', 'hidden_layer_sizes': (40, 40), 'max_iter': 20},\n",
       "  {'activation': 'relu', 'hidden_layer_sizes': (20,), 'max_iter': 10},\n",
       "  {'activation': 'relu', 'hidden_layer_sizes': (20,), 'max_iter': 15},\n",
       "  {'activation': 'relu', 'hidden_layer_sizes': (20,), 'max_iter': 20},\n",
       "  {'activation': 'relu', 'hidden_layer_sizes': (20, 20), 'max_iter': 10},\n",
       "  {'activation': 'relu', 'hidden_layer_sizes': (20, 20), 'max_iter': 15},\n",
       "  {'activation': 'relu', 'hidden_layer_sizes': (20, 20), 'max_iter': 20},\n",
       "  {'activation': 'relu', 'hidden_layer_sizes': (40,), 'max_iter': 10},\n",
       "  {'activation': 'relu', 'hidden_layer_sizes': (40,), 'max_iter': 15},\n",
       "  {'activation': 'relu', 'hidden_layer_sizes': (40,), 'max_iter': 20},\n",
       "  {'activation': 'relu', 'hidden_layer_sizes': (40, 40), 'max_iter': 10},\n",
       "  {'activation': 'relu', 'hidden_layer_sizes': (40, 40), 'max_iter': 15},\n",
       "  {'activation': 'relu', 'hidden_layer_sizes': (40, 40), 'max_iter': 20}],\n",
       " 'split0_test_score': array([0.99816084, 0.99824444, 0.99816084, 0.99832804, 0.99882963,\n",
       "        0.99891323, 0.99824444, 0.99841164, 0.99891323, 0.99841164,\n",
       "        0.99882963, 0.99874603, 0.99816084, 0.99816084, 0.99816084,\n",
       "        0.99816084, 0.99816084, 0.99816084, 0.99816084, 0.99816084,\n",
       "        0.99816084, 0.99816084, 0.99816084, 0.99816084, 0.99816084,\n",
       "        0.99816084, 0.99824444, 0.99824444, 0.99891323, 0.99908042,\n",
       "        0.99824444, 0.99841164, 0.99899682, 0.99874603, 0.99891323,\n",
       "        0.99891323, 0.99816084, 0.99816084, 0.99832804, 0.99841164,\n",
       "        0.99891323, 0.99908042, 0.99824444, 0.99832804, 0.99891323,\n",
       "        0.99882963, 0.99899682, 0.99899682]),\n",
       " 'split1_test_score': array([0.99816084, 0.99841164, 0.99857883, 0.99857883, 0.99899682,\n",
       "        0.99899682, 0.99849523, 0.99891323, 0.99908042, 0.99899682,\n",
       "        0.99899682, 0.99899682, 0.99816084, 0.99816084, 0.99816084,\n",
       "        0.99816084, 0.99816084, 0.99816084, 0.99816084, 0.99816084,\n",
       "        0.99816084, 0.99816084, 0.99816084, 0.99816084, 0.99816084,\n",
       "        0.99816084, 0.99857883, 0.99832804, 0.99949841, 0.99949841,\n",
       "        0.99832804, 0.99891323, 0.99916402, 0.99899682, 0.99949841,\n",
       "        0.99933122, 0.99816084, 0.99857883, 0.99866243, 0.99857883,\n",
       "        0.99949841, 0.99958201, 0.99832804, 0.99857883, 0.99908042,\n",
       "        0.99916402, 0.99958201, 0.99958201]),\n",
       " 'split2_test_score': array([0.99816084, 0.99816084, 0.99866243, 0.99908042, 0.99949841,\n",
       "        0.99958201, 0.99857883, 0.99916402, 0.99949841, 0.99933122,\n",
       "        0.99916402, 0.99949841, 0.99816084, 0.99816084, 0.99816084,\n",
       "        0.99816084, 0.99816084, 0.99816084, 0.99816084, 0.99816084,\n",
       "        0.99816084, 0.99816084, 0.99816084, 0.99816084, 0.99816084,\n",
       "        0.99816084, 0.99882963, 0.99849523, 0.99966561, 0.9998328 ,\n",
       "        0.99849523, 0.99916402, 0.99958201, 0.99958201, 0.99916402,\n",
       "        0.99941481, 0.99816084, 0.99849523, 0.99899682, 0.99832804,\n",
       "        0.9998328 , 0.99974921, 0.99849523, 0.99899682, 0.99949841,\n",
       "        0.9998328 , 0.99933122, 0.99949841]),\n",
       " 'split3_test_score': array([0.99816084, 0.99832804, 0.99874603, 0.99891323, 0.99908042,\n",
       "        0.99924762, 0.99857883, 0.99899682, 0.99916402, 0.99908042,\n",
       "        0.99916402, 0.99916402, 0.99816084, 0.99816084, 0.99816084,\n",
       "        0.99816084, 0.99816084, 0.99816084, 0.99816084, 0.99816084,\n",
       "        0.99816084, 0.99816084, 0.99816084, 0.99816084, 0.99816084,\n",
       "        0.99816084, 0.99882963, 0.99866243, 0.99916402, 0.99916402,\n",
       "        0.99849523, 0.99899682, 0.99916402, 0.99908042, 0.99916402,\n",
       "        0.99916402, 0.99849523, 0.99882963, 0.99891323, 0.99891323,\n",
       "        0.99916402, 0.99924762, 0.99849523, 0.99882963, 0.99899682,\n",
       "        0.99924762, 0.99924762, 0.99924762]),\n",
       " 'split4_test_score': array([0.99824429, 0.9984115 , 0.99857871, 0.99866232, 0.99899674,\n",
       "        0.99908034, 0.9984115 , 0.99882953, 0.99891313, 0.99891313,\n",
       "        0.99899674, 0.99899674, 0.99824429, 0.99824429, 0.99824429,\n",
       "        0.99824429, 0.99824429, 0.99824429, 0.99824429, 0.99824429,\n",
       "        0.99824429, 0.99824429, 0.99824429, 0.99824429, 0.99824429,\n",
       "        0.99824429, 0.99866232, 0.9984115 , 0.99899674, 0.99924755,\n",
       "        0.99824429, 0.99882953, 0.99891313, 0.99899674, 0.99916395,\n",
       "        0.99941476, 0.9984115 , 0.99882953, 0.99882953, 0.99866232,\n",
       "        0.99916395, 0.99916395, 0.9984115 , 0.99882953, 0.99882953,\n",
       "        0.99899674, 0.99941476, 0.99941476]),\n",
       " 'mean_test_score': array([0.99817753, 0.99831129, 0.99854537, 0.99871257, 0.9990804 ,\n",
       "        0.999164  , 0.99846177, 0.99886305, 0.99911384, 0.99894665,\n",
       "        0.99903025, 0.9990804 , 0.99817753, 0.99817753, 0.99817753,\n",
       "        0.99817753, 0.99817753, 0.99817753, 0.99817753, 0.99817753,\n",
       "        0.99817753, 0.99817753, 0.99817753, 0.99817753, 0.99817753,\n",
       "        0.99817753, 0.99862897, 0.99842833, 0.9992476 , 0.99936464,\n",
       "        0.99836145, 0.99886305, 0.999164  , 0.9990804 , 0.99918073,\n",
       "        0.99924761, 0.99827785, 0.99857881, 0.99874601, 0.99857881,\n",
       "        0.99931448, 0.99936464, 0.99839489, 0.99871257, 0.99906368,\n",
       "        0.99921416, 0.99931449, 0.99934793]),\n",
       " 'std_test_score': array([3.33805148e-05, 9.74639355e-05, 2.02019914e-04, 2.62241151e-04,\n",
       "        2.24323389e-04, 2.36456460e-04, 1.25128778e-04, 2.51353491e-04,\n",
       "        2.15434060e-04, 3.01882471e-04, 1.25122608e-04, 2.47997581e-04,\n",
       "        3.33805148e-05, 3.33805148e-05, 3.33805148e-05, 3.33805148e-05,\n",
       "        3.33805148e-05, 3.33805148e-05, 3.33805148e-05, 3.33805148e-05,\n",
       "        3.33805148e-05, 3.33805148e-05, 3.33805148e-05, 3.33805148e-05,\n",
       "        3.33805148e-05, 3.33805148e-05, 2.15413666e-04, 1.43830639e-04,\n",
       "        2.89606705e-04, 2.72694022e-04, 1.13428234e-04, 2.51353491e-04,\n",
       "        2.30483725e-04, 2.74736367e-04, 1.86182978e-04, 1.90624327e-04,\n",
       "        1.45733834e-04, 2.47972135e-04, 2.36444106e-04, 2.04763466e-04,\n",
       "        3.18996464e-04, 2.56862475e-04, 9.74867134e-05, 2.34064788e-04,\n",
       "        2.32896922e-04, 3.41025206e-04, 1.93538432e-04, 2.07481777e-04]),\n",
       " 'rank_test_score': array([34, 32, 27, 23, 13, 10, 28, 19, 12, 18, 17, 13, 34, 34, 34, 34, 34,\n",
       "        34, 34, 34, 34, 34, 34, 34, 34, 34, 24, 29,  7,  1, 31, 19, 11, 13,\n",
       "         9,  6, 33, 25, 21, 26,  5,  2, 30, 22, 16,  8,  4,  3])}"
      ]
     },
     "execution_count": 17,
     "metadata": {},
     "output_type": "execute_result"
    }
   ],
   "source": [
    "reg.cv_results_"
   ]
  },
  {
   "cell_type": "code",
   "execution_count": 18,
   "metadata": {
    "scrolled": true
   },
   "outputs": [
    {
     "data": {
      "text/html": [
       "<div>\n",
       "<style scoped>\n",
       "    .dataframe tbody tr th:only-of-type {\n",
       "        vertical-align: middle;\n",
       "    }\n",
       "\n",
       "    .dataframe tbody tr th {\n",
       "        vertical-align: top;\n",
       "    }\n",
       "\n",
       "    .dataframe thead th {\n",
       "        text-align: right;\n",
       "    }\n",
       "</style>\n",
       "<table border=\"1\" class=\"dataframe\">\n",
       "  <thead>\n",
       "    <tr style=\"text-align: right;\">\n",
       "      <th></th>\n",
       "      <th>param_activation</th>\n",
       "      <th>param_max_iter</th>\n",
       "      <th>param_hidden_layer_sizes</th>\n",
       "      <th>mean_test_score</th>\n",
       "    </tr>\n",
       "  </thead>\n",
       "  <tbody>\n",
       "    <tr>\n",
       "      <th>0</th>\n",
       "      <td>identity</td>\n",
       "      <td>10</td>\n",
       "      <td>(20,)</td>\n",
       "      <td>0.998178</td>\n",
       "    </tr>\n",
       "    <tr>\n",
       "      <th>1</th>\n",
       "      <td>identity</td>\n",
       "      <td>15</td>\n",
       "      <td>(20,)</td>\n",
       "      <td>0.998311</td>\n",
       "    </tr>\n",
       "    <tr>\n",
       "      <th>2</th>\n",
       "      <td>identity</td>\n",
       "      <td>20</td>\n",
       "      <td>(20,)</td>\n",
       "      <td>0.998545</td>\n",
       "    </tr>\n",
       "    <tr>\n",
       "      <th>3</th>\n",
       "      <td>identity</td>\n",
       "      <td>10</td>\n",
       "      <td>(20, 20)</td>\n",
       "      <td>0.998713</td>\n",
       "    </tr>\n",
       "    <tr>\n",
       "      <th>4</th>\n",
       "      <td>identity</td>\n",
       "      <td>15</td>\n",
       "      <td>(20, 20)</td>\n",
       "      <td>0.999080</td>\n",
       "    </tr>\n",
       "    <tr>\n",
       "      <th>5</th>\n",
       "      <td>identity</td>\n",
       "      <td>20</td>\n",
       "      <td>(20, 20)</td>\n",
       "      <td>0.999164</td>\n",
       "    </tr>\n",
       "    <tr>\n",
       "      <th>6</th>\n",
       "      <td>identity</td>\n",
       "      <td>10</td>\n",
       "      <td>(40,)</td>\n",
       "      <td>0.998462</td>\n",
       "    </tr>\n",
       "    <tr>\n",
       "      <th>7</th>\n",
       "      <td>identity</td>\n",
       "      <td>15</td>\n",
       "      <td>(40,)</td>\n",
       "      <td>0.998863</td>\n",
       "    </tr>\n",
       "    <tr>\n",
       "      <th>8</th>\n",
       "      <td>identity</td>\n",
       "      <td>20</td>\n",
       "      <td>(40,)</td>\n",
       "      <td>0.999114</td>\n",
       "    </tr>\n",
       "    <tr>\n",
       "      <th>9</th>\n",
       "      <td>identity</td>\n",
       "      <td>10</td>\n",
       "      <td>(40, 40)</td>\n",
       "      <td>0.998947</td>\n",
       "    </tr>\n",
       "    <tr>\n",
       "      <th>10</th>\n",
       "      <td>identity</td>\n",
       "      <td>15</td>\n",
       "      <td>(40, 40)</td>\n",
       "      <td>0.999030</td>\n",
       "    </tr>\n",
       "    <tr>\n",
       "      <th>11</th>\n",
       "      <td>identity</td>\n",
       "      <td>20</td>\n",
       "      <td>(40, 40)</td>\n",
       "      <td>0.999080</td>\n",
       "    </tr>\n",
       "    <tr>\n",
       "      <th>12</th>\n",
       "      <td>logistic</td>\n",
       "      <td>10</td>\n",
       "      <td>(20,)</td>\n",
       "      <td>0.998178</td>\n",
       "    </tr>\n",
       "    <tr>\n",
       "      <th>13</th>\n",
       "      <td>logistic</td>\n",
       "      <td>15</td>\n",
       "      <td>(20,)</td>\n",
       "      <td>0.998178</td>\n",
       "    </tr>\n",
       "    <tr>\n",
       "      <th>14</th>\n",
       "      <td>logistic</td>\n",
       "      <td>20</td>\n",
       "      <td>(20,)</td>\n",
       "      <td>0.998178</td>\n",
       "    </tr>\n",
       "    <tr>\n",
       "      <th>15</th>\n",
       "      <td>logistic</td>\n",
       "      <td>10</td>\n",
       "      <td>(20, 20)</td>\n",
       "      <td>0.998178</td>\n",
       "    </tr>\n",
       "    <tr>\n",
       "      <th>16</th>\n",
       "      <td>logistic</td>\n",
       "      <td>15</td>\n",
       "      <td>(20, 20)</td>\n",
       "      <td>0.998178</td>\n",
       "    </tr>\n",
       "    <tr>\n",
       "      <th>17</th>\n",
       "      <td>logistic</td>\n",
       "      <td>20</td>\n",
       "      <td>(20, 20)</td>\n",
       "      <td>0.998178</td>\n",
       "    </tr>\n",
       "    <tr>\n",
       "      <th>18</th>\n",
       "      <td>logistic</td>\n",
       "      <td>10</td>\n",
       "      <td>(40,)</td>\n",
       "      <td>0.998178</td>\n",
       "    </tr>\n",
       "    <tr>\n",
       "      <th>19</th>\n",
       "      <td>logistic</td>\n",
       "      <td>15</td>\n",
       "      <td>(40,)</td>\n",
       "      <td>0.998178</td>\n",
       "    </tr>\n",
       "    <tr>\n",
       "      <th>20</th>\n",
       "      <td>logistic</td>\n",
       "      <td>20</td>\n",
       "      <td>(40,)</td>\n",
       "      <td>0.998178</td>\n",
       "    </tr>\n",
       "    <tr>\n",
       "      <th>21</th>\n",
       "      <td>logistic</td>\n",
       "      <td>10</td>\n",
       "      <td>(40, 40)</td>\n",
       "      <td>0.998178</td>\n",
       "    </tr>\n",
       "    <tr>\n",
       "      <th>22</th>\n",
       "      <td>logistic</td>\n",
       "      <td>15</td>\n",
       "      <td>(40, 40)</td>\n",
       "      <td>0.998178</td>\n",
       "    </tr>\n",
       "    <tr>\n",
       "      <th>23</th>\n",
       "      <td>logistic</td>\n",
       "      <td>20</td>\n",
       "      <td>(40, 40)</td>\n",
       "      <td>0.998178</td>\n",
       "    </tr>\n",
       "    <tr>\n",
       "      <th>24</th>\n",
       "      <td>tanh</td>\n",
       "      <td>10</td>\n",
       "      <td>(20,)</td>\n",
       "      <td>0.998178</td>\n",
       "    </tr>\n",
       "    <tr>\n",
       "      <th>25</th>\n",
       "      <td>tanh</td>\n",
       "      <td>15</td>\n",
       "      <td>(20,)</td>\n",
       "      <td>0.998178</td>\n",
       "    </tr>\n",
       "    <tr>\n",
       "      <th>26</th>\n",
       "      <td>tanh</td>\n",
       "      <td>20</td>\n",
       "      <td>(20,)</td>\n",
       "      <td>0.998629</td>\n",
       "    </tr>\n",
       "    <tr>\n",
       "      <th>27</th>\n",
       "      <td>tanh</td>\n",
       "      <td>10</td>\n",
       "      <td>(20, 20)</td>\n",
       "      <td>0.998428</td>\n",
       "    </tr>\n",
       "    <tr>\n",
       "      <th>28</th>\n",
       "      <td>tanh</td>\n",
       "      <td>15</td>\n",
       "      <td>(20, 20)</td>\n",
       "      <td>0.999248</td>\n",
       "    </tr>\n",
       "    <tr>\n",
       "      <th>29</th>\n",
       "      <td>tanh</td>\n",
       "      <td>20</td>\n",
       "      <td>(20, 20)</td>\n",
       "      <td>0.999365</td>\n",
       "    </tr>\n",
       "    <tr>\n",
       "      <th>30</th>\n",
       "      <td>tanh</td>\n",
       "      <td>10</td>\n",
       "      <td>(40,)</td>\n",
       "      <td>0.998361</td>\n",
       "    </tr>\n",
       "    <tr>\n",
       "      <th>31</th>\n",
       "      <td>tanh</td>\n",
       "      <td>15</td>\n",
       "      <td>(40,)</td>\n",
       "      <td>0.998863</td>\n",
       "    </tr>\n",
       "    <tr>\n",
       "      <th>32</th>\n",
       "      <td>tanh</td>\n",
       "      <td>20</td>\n",
       "      <td>(40,)</td>\n",
       "      <td>0.999164</td>\n",
       "    </tr>\n",
       "    <tr>\n",
       "      <th>33</th>\n",
       "      <td>tanh</td>\n",
       "      <td>10</td>\n",
       "      <td>(40, 40)</td>\n",
       "      <td>0.999080</td>\n",
       "    </tr>\n",
       "    <tr>\n",
       "      <th>34</th>\n",
       "      <td>tanh</td>\n",
       "      <td>15</td>\n",
       "      <td>(40, 40)</td>\n",
       "      <td>0.999181</td>\n",
       "    </tr>\n",
       "    <tr>\n",
       "      <th>35</th>\n",
       "      <td>tanh</td>\n",
       "      <td>20</td>\n",
       "      <td>(40, 40)</td>\n",
       "      <td>0.999248</td>\n",
       "    </tr>\n",
       "    <tr>\n",
       "      <th>36</th>\n",
       "      <td>relu</td>\n",
       "      <td>10</td>\n",
       "      <td>(20,)</td>\n",
       "      <td>0.998278</td>\n",
       "    </tr>\n",
       "    <tr>\n",
       "      <th>37</th>\n",
       "      <td>relu</td>\n",
       "      <td>15</td>\n",
       "      <td>(20,)</td>\n",
       "      <td>0.998579</td>\n",
       "    </tr>\n",
       "    <tr>\n",
       "      <th>38</th>\n",
       "      <td>relu</td>\n",
       "      <td>20</td>\n",
       "      <td>(20,)</td>\n",
       "      <td>0.998746</td>\n",
       "    </tr>\n",
       "    <tr>\n",
       "      <th>39</th>\n",
       "      <td>relu</td>\n",
       "      <td>10</td>\n",
       "      <td>(20, 20)</td>\n",
       "      <td>0.998579</td>\n",
       "    </tr>\n",
       "    <tr>\n",
       "      <th>40</th>\n",
       "      <td>relu</td>\n",
       "      <td>15</td>\n",
       "      <td>(20, 20)</td>\n",
       "      <td>0.999314</td>\n",
       "    </tr>\n",
       "    <tr>\n",
       "      <th>41</th>\n",
       "      <td>relu</td>\n",
       "      <td>20</td>\n",
       "      <td>(20, 20)</td>\n",
       "      <td>0.999365</td>\n",
       "    </tr>\n",
       "    <tr>\n",
       "      <th>42</th>\n",
       "      <td>relu</td>\n",
       "      <td>10</td>\n",
       "      <td>(40,)</td>\n",
       "      <td>0.998395</td>\n",
       "    </tr>\n",
       "    <tr>\n",
       "      <th>43</th>\n",
       "      <td>relu</td>\n",
       "      <td>15</td>\n",
       "      <td>(40,)</td>\n",
       "      <td>0.998713</td>\n",
       "    </tr>\n",
       "    <tr>\n",
       "      <th>44</th>\n",
       "      <td>relu</td>\n",
       "      <td>20</td>\n",
       "      <td>(40,)</td>\n",
       "      <td>0.999064</td>\n",
       "    </tr>\n",
       "    <tr>\n",
       "      <th>45</th>\n",
       "      <td>relu</td>\n",
       "      <td>10</td>\n",
       "      <td>(40, 40)</td>\n",
       "      <td>0.999214</td>\n",
       "    </tr>\n",
       "    <tr>\n",
       "      <th>46</th>\n",
       "      <td>relu</td>\n",
       "      <td>15</td>\n",
       "      <td>(40, 40)</td>\n",
       "      <td>0.999314</td>\n",
       "    </tr>\n",
       "    <tr>\n",
       "      <th>47</th>\n",
       "      <td>relu</td>\n",
       "      <td>20</td>\n",
       "      <td>(40, 40)</td>\n",
       "      <td>0.999348</td>\n",
       "    </tr>\n",
       "  </tbody>\n",
       "</table>\n",
       "</div>"
      ],
      "text/plain": [
       "   param_activation param_max_iter param_hidden_layer_sizes  mean_test_score\n",
       "0          identity             10                    (20,)         0.998178\n",
       "1          identity             15                    (20,)         0.998311\n",
       "2          identity             20                    (20,)         0.998545\n",
       "3          identity             10                 (20, 20)         0.998713\n",
       "4          identity             15                 (20, 20)         0.999080\n",
       "5          identity             20                 (20, 20)         0.999164\n",
       "6          identity             10                    (40,)         0.998462\n",
       "7          identity             15                    (40,)         0.998863\n",
       "8          identity             20                    (40,)         0.999114\n",
       "9          identity             10                 (40, 40)         0.998947\n",
       "10         identity             15                 (40, 40)         0.999030\n",
       "11         identity             20                 (40, 40)         0.999080\n",
       "12         logistic             10                    (20,)         0.998178\n",
       "13         logistic             15                    (20,)         0.998178\n",
       "14         logistic             20                    (20,)         0.998178\n",
       "15         logistic             10                 (20, 20)         0.998178\n",
       "16         logistic             15                 (20, 20)         0.998178\n",
       "17         logistic             20                 (20, 20)         0.998178\n",
       "18         logistic             10                    (40,)         0.998178\n",
       "19         logistic             15                    (40,)         0.998178\n",
       "20         logistic             20                    (40,)         0.998178\n",
       "21         logistic             10                 (40, 40)         0.998178\n",
       "22         logistic             15                 (40, 40)         0.998178\n",
       "23         logistic             20                 (40, 40)         0.998178\n",
       "24             tanh             10                    (20,)         0.998178\n",
       "25             tanh             15                    (20,)         0.998178\n",
       "26             tanh             20                    (20,)         0.998629\n",
       "27             tanh             10                 (20, 20)         0.998428\n",
       "28             tanh             15                 (20, 20)         0.999248\n",
       "29             tanh             20                 (20, 20)         0.999365\n",
       "30             tanh             10                    (40,)         0.998361\n",
       "31             tanh             15                    (40,)         0.998863\n",
       "32             tanh             20                    (40,)         0.999164\n",
       "33             tanh             10                 (40, 40)         0.999080\n",
       "34             tanh             15                 (40, 40)         0.999181\n",
       "35             tanh             20                 (40, 40)         0.999248\n",
       "36             relu             10                    (20,)         0.998278\n",
       "37             relu             15                    (20,)         0.998579\n",
       "38             relu             20                    (20,)         0.998746\n",
       "39             relu             10                 (20, 20)         0.998579\n",
       "40             relu             15                 (20, 20)         0.999314\n",
       "41             relu             20                 (20, 20)         0.999365\n",
       "42             relu             10                    (40,)         0.998395\n",
       "43             relu             15                    (40,)         0.998713\n",
       "44             relu             20                    (40,)         0.999064\n",
       "45             relu             10                 (40, 40)         0.999214\n",
       "46             relu             15                 (40, 40)         0.999314\n",
       "47             relu             20                 (40, 40)         0.999348"
      ]
     },
     "execution_count": 18,
     "metadata": {},
     "output_type": "execute_result"
    }
   ],
   "source": [
    "RESULTS = pd.DataFrame(columns=['param_activation','param_max_iter','param_hidden_layer_sizes','mean_test_score'])\n",
    "\n",
    "RESULTS['param_activation'] = reg.cv_results_['param_activation']\n",
    "RESULTS['param_max_iter'] = reg.cv_results_['param_max_iter']\n",
    "RESULTS['param_hidden_layer_sizes'] = reg.cv_results_['param_hidden_layer_sizes']\n",
    "RESULTS['mean_test_score'] = reg.cv_results_['mean_test_score']\n",
    "\n",
    "RESULTS"
   ]
  },
  {
   "cell_type": "code",
   "execution_count": 19,
   "metadata": {},
   "outputs": [
    {
     "name": "stdout",
     "output_type": "stream",
     "text": [
      "MLPClassifier(activation='tanh', hidden_layer_sizes=(20, 20), max_iter=20,\n",
      "              random_state=42)\n"
     ]
    }
   ],
   "source": [
    "best_estimator = reg.best_estimator_\n",
    "print(best_estimator)\n",
    "\n",
    "Predicted_test = best_estimator.predict(X_test)"
   ]
  },
  {
   "cell_type": "code",
   "execution_count": 52,
   "metadata": {},
   "outputs": [
    {
     "name": "stdout",
     "output_type": "stream",
     "text": [
      "\u001b[1mPredicted test shape\n",
      "\u001b[0m(25633,)\n",
      "\n",
      "\n",
      "\u001b[1my_test shape\n",
      "\u001b[0m(25633,)\n",
      "\n",
      "\n",
      "\u001b[1mCONFUSION MATRIX:\n",
      "\u001b[0m[[25578     6]\n",
      " [   12    37]]\n",
      "\n",
      "\n",
      "\u001b[1mCLASSIFICATION REPORT\n",
      "\u001b[0m              precision    recall  f1-score   support\n",
      "\n",
      "           0       1.00      1.00      1.00     25584\n",
      "           1       0.86      0.76      0.80        49\n",
      "\n",
      "    accuracy                           1.00     25633\n",
      "   macro avg       0.93      0.88      0.90     25633\n",
      "weighted avg       1.00      1.00      1.00     25633\n",
      "\n"
     ]
    }
   ],
   "source": [
    "print('\\033[1m', end = '') \n",
    "print('Predicted test shape')\n",
    "print('\\033[0m', end = '')\n",
    "print(Predicted_test.shape)\n",
    "\n",
    "print('\\n\\n\\033[1m', end = '')\n",
    "print('y_test shape')\n",
    "print('\\033[0m', end = '')\n",
    "print(y_test.shape)\n",
    "\n",
    "print('\\n\\n\\033[1m', end = '')\n",
    "print('CONFUSION MATRIX:')\n",
    "print('\\033[0m', end = '')\n",
    "print(confusion_matrix(y_test, Predicted_test))\n",
    "\n",
    "print('\\n\\n\\033[1m', end = '')\n",
    "print('CLASSIFICATION REPORT')\n",
    "print('\\033[0m', end = '')\n",
    "print(classification_report(y_test, Predicted_test))"
   ]
  },
  {
   "cell_type": "code",
   "execution_count": 21,
   "metadata": {
    "scrolled": true
   },
   "outputs": [
    {
     "data": {
      "text/plain": [
       "<AxesSubplot:xlabel='Class'>"
      ]
     },
     "execution_count": 21,
     "metadata": {},
     "output_type": "execute_result"
    },
    {
     "data": {
      "image/png": "[encoded data removed]",
      "text/plain": [
       "<Figure size 432x288 with 1 Axes>"
      ]
     },
     "metadata": {
      "needs_background": "light"
     },
     "output_type": "display_data"
    }
   ],
   "source": [
    "import seaborn as sns\n",
    "\n",
    "sns.scatterplot(x=y_test,y=Predicted_test)"
   ]
  },
  {
   "cell_type": "code",
   "execution_count": 22,
   "metadata": {},
   "outputs": [
    {
     "data": {
      "text/plain": [
       "<AxesSubplot:xlabel='Class'>"
      ]
     },
     "execution_count": 22,
     "metadata": {},
     "output_type": "execute_result"
    },
    {
     "data": {
      "image/png": "[encoded data removed]",
      "text/plain": [
       "<Figure size 432x288 with 1 Axes>"
      ]
     },
     "metadata": {
      "needs_background": "light"
     },
     "output_type": "display_data"
    }
   ],
   "source": [
    "Predicted_train = best_estimator.predict(X_train)\n",
    "sns.scatterplot(x=y_train,y=Predicted_train)"
   ]
  },
  {
   "cell_type": "markdown",
   "metadata": {},
   "source": [
    "Answer the following questions:\n",
    "1. What criteria did you use to determine which model hyperparameters performed \"best\"? Why? Justify your answer with respect to the problem: fraud detection.\n",
    "2. What hyperparameters performed best. Why do you think they performed best?"
   ]
  }
 ],
 "metadata": {
  "kernelspec": {
   "display_name": "Python 3 (ipykernel)",
   "language": "python",
   "name": "python3"
  },
  "language_info": {
   "codemirror_mode": {
    "name": "ipython",
    "version": 3
   },
   "file_extension": ".py",
   "mimetype": "text/x-python",
   "name": "python",
   "nbconvert_exporter": "python",
   "pygments_lexer": "ipython3",
   "version": "3.9.7"
  }
 },
 "nbformat": 4,
 "nbformat_minor": 4
}
